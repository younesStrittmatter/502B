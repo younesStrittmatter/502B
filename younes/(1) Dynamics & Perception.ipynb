{
 "cells": [
  {
   "metadata": {},
   "cell_type": "markdown",
   "source": [
    "# Laboratory 1: Dynamics & Perception \n",
    "\n",
    "**Note:** You should complete the [PsyNeuLink Beginner Tutorial](https://princetonuniversity.github.io/PsyNeuLink/index_logo_with_text.html#tutorial) prior to starting Lab 1, unless you are already familiar with the PsyNeuLink environment.\n",
    "\n",
    "## Overview\n",
    " \n",
    "In this lab we will explore dynamic models using some examples from Perception. We'll start with a Hopfield Network ([Hopfield, 1982](https://doi.org/10.1073/pnas.79.8.2554)) that takes noisy input and settles on a stable interpretation, then we'll explore some simple examples of dynamic networks evolving over time, and finally consider bistable percepts that can be interpreted multiple ways.  Along the way we'll cover numerous examples and concepts that recur and are useful throughout this course.\n",
    "\n",
    "### Installation and Setup\n",
    "\n",
    "To get started, you will need to install the PsyNeuLink library:"
   ],
   "id": "733f48ac6546d8a"
  },
  {
   "metadata": {},
   "cell_type": "code",
   "source": "!pip install psyneulink",
   "id": "50ad9382331d56f3",
   "outputs": [],
   "execution_count": null
  },
  {
   "metadata": {},
   "cell_type": "markdown",
   "source": "Then, import the necessary modules:",
   "id": "b4a0c5b3290b8ab6"
  },
  {
   "metadata": {},
   "cell_type": "code",
   "source": [
    "import numpy as np\n",
    "import matplotlib.pyplot as plt\n",
    "import psyneulink as pnl"
   ],
   "id": "ca64c7f38760e415",
   "outputs": [],
   "execution_count": null
  },
  {
   "metadata": {},
   "cell_type": "markdown",
   "source": [
    "### Noisy Input and Perception: Hopfield Networks\n",
    "\n",
    "When you are looking out at the world through a rainstorm, your sense data are noisy with a messy distribution of water droplets partially obscuring your view at any given moment, but you are typically still able to recognize the landscape.  Similarly, if you are walking through a forest on a sunny windy day the pattern of sunlight dancing on the forest floor makes your raw sense data fluctuate unpredictably, but you can still reliably recognize the path, plants, stones, etc.  Sense data are often noisy, and Hopfield Networks can model how to reliably extract signal from and input of signal mixed with noise using associative nodes and thresholds.\n",
    "\n",
    "#### Letter Recognition\n",
    "\n",
    "In this first exercise, we will perform pattern completion (i.e. associative memory) using a simple recurrent network. We will use a Hopfield network to recognize noisy versions of the letter \"A\" and \"Z\".\n",
    "\n",
    "First, we will create the patterns for the letters \"A\" and \"Z\". We will use a 5x5 grid to represent each letter."
   ],
   "id": "f30e0b230f1376d6"
  },
  {
   "metadata": {},
   "cell_type": "code",
   "source": [
    "# Define the dimensions of the patterns\n",
    "shape = (5, 5)\n",
    "\n",
    "# Define the patterns for the letters \"A\"\n",
    "A = np.array([\n",
    "    [-1,  1,  1,  1, -1],\n",
    "    [ 1, -1, -1, -1,  1],\n",
    "    [ 1,  1,  1,  1,  1],\n",
    "    [ 1, -1, -1, -1,  1],\n",
    "    [ 1, -1, -1, -1,  1],\n",
    "]).flatten()\n",
    "\n",
    "# Define the patterns for the letters \"Z\"\n",
    "Z = np.array([\n",
    "    [ 1,  1,  1,  1,  1],\n",
    "    [-1, -1, -1,  1, -1],\n",
    "    [-1, -1,  1, -1, -1],\n",
    "    [-1,  1, -1, -1, -1],\n",
    "    [ 1,  1,  1,  1,  1],\n",
    "]).flatten()\n",
    "\n",
    "\n",
    "def plot_pattern(pattern, shape=shape):\n",
    "    \"\"\"\n",
    "    Plot a `pattern` in a grid of shape `shape`.\n",
    "    \"\"\"\n",
    "    fig, ax = plt.subplots(figsize=(2, 2))\n",
    "    ax.imshow(pattern.reshape(shape), cmap='binary')\n",
    "    ax.set_axis_off()\n",
    "\n",
    "\n",
    "# Plot the patterns for the letters \"A\" and \"Z\"\n",
    "plot_pattern(A)\n",
    "plot_pattern(Z)"
   ],
   "id": "2bd2d2c3ffd534d7",
   "outputs": [],
   "execution_count": null
  },
  {
   "metadata": {},
   "cell_type": "markdown",
   "source": [
    "Next, we'll implement how a Hopfield network can memorize patterns and recognize them when presented with noisy versions of those patterns. First, we'll set up the connections between units in our network, represented by a 25-by-25 weight matrix initialized with zeros. Each unit is connected to every other unit, and we'll manually set the diagonal of the weight matrix to zero to ensure that each unit isn't connected to itself. Each unit corresponds to a \"pixel\" in the input letter patterns.\n",
    "\n",
    "To \"train\" the network, we supply each input pattern to the network and update the weights. Mathematically, this involves computing the outer product of each pattern (where patterns are represented using 1s and -1s) and adding it to the existing weights. This process effectively constructs a covariance matrix. The result is that when two units are coactivated in a pattern, the strength of their connection increases—an example of Hebbian learning (Hebb, 1949), which states that \"neurons that fire together, wire together.\""
   ],
   "id": "a98d5b70b379e3e0"
  },
  {
   "metadata": {},
   "cell_type": "code",
   "source": [
    "# Set up the \"training\" set to memorize.\n",
    "training_set = np.array([A, Z])\n",
    "\n",
    "# Get the shape\n",
    "m, n_units = training_set.shape\n",
    "\n",
    "# Initialize the weight matrix with zeros.\n",
    "weights = np.zeros((n_units, n_units))\n",
    "\n",
    "# Update the weights using Hebbian learning.\n",
    "for pattern in training_set:\n",
    "    weights += np.outer(pattern, pattern) / m"
   ],
   "id": "708c985a542b8e6a",
   "outputs": [],
   "execution_count": null
  },
  {
   "metadata": {},
   "cell_type": "markdown",
   "source": "Now that the network has \"memorized\" the input letters, we can examine how well it recognizes novel test letters. First, let's create a function that adds noise to existing letters. The function works by replacing each pixel with a random value, with the probability of replacement determined by the noise level. ",
   "id": "a26f7570b5dbe400"
  },
  {
   "metadata": {},
   "cell_type": "code",
   "source": [
    "def add_noise(pattern, noise_level=0.2):\n",
    "    \"\"\"\n",
    "    Add noise to a `pattern` by flipping each pixel with probability `noise_level`.\n",
    "    \"\"\"\n",
    "    # Generate a random pattern of 1 and -1\n",
    "    random_pattern = np.random.choice([-1, 1], size=pattern.shape)\n",
    "    \n",
    "    # Generate a noise mask based on the noise level\n",
    "    noise_mask = np.random.rand(pattern.shape[0]) < noise_level\n",
    "    \n",
    "    # Blend the original pattern and the random pattern based on the noise mask\n",
    "    noisy_pattern = pattern.copy()\n",
    "    noisy_pattern[noise_mask] = random_pattern[noise_mask]\n",
    "    \n",
    "    return noisy_pattern\n",
    "\n",
    "# Set a seed for reproducibility\n",
    "np.random.seed(42)\n",
    "\n",
    "# Add noise to the letter \"A\"\n",
    "Z_noisy = add_noise(Z)\n",
    "plot_pattern(Z_noisy)"
   ],
   "id": "a6f14ec5759ed200",
   "outputs": [],
   "execution_count": null
  },
  {
   "metadata": {},
   "cell_type": "markdown",
   "source": "The network will attempt to associate any input pattern with one of the patterns it learned during training. For a given input pattern, we allow the network to iteratively update it over a number of steps. At each iteration, we compute the dot product between the current pattern and the learned weight matrix, which produces a new pattern. This new pattern is a transformation of the input pattern based on the learned associations encoded in the weight matrix. The network continues this process, updating the pattern at each step. After a specified number of iterations, we return the final internal state of the model: the predicted pattern. Importantly, during this stage, the weights of the network remain fixed.",
   "id": "1b852ac77a9d31ae"
  },
  {
   "metadata": {},
   "cell_type": "code",
   "source": [
    "def pattern_complete(weights, pattern, n_iter=10, soft=False):\n",
    "    \"\"\"\n",
    "    Complete a `pattern` using the `weights` matrix for `n_iter` iterations.\n",
    "    \"\"\"\n",
    "    # Supply pattern to weight matrix for each iteration\n",
    "    patterns = []\n",
    "    for _ in np.arange(n_iter):\n",
    "        pattern = np.dot(pattern, weights)\n",
    "        \n",
    "        # Threshold resulting pattern\n",
    "        if soft:\n",
    "            pattern = np.tanh(pattern)\n",
    "        else:\n",
    "            pattern[pattern < 0] = -1\n",
    "            pattern[pattern >= 0] = 1\n",
    "\n",
    "        # Store pattern at each iteration\n",
    "        patterns.append(pattern)\n",
    "\n",
    "    return(patterns)"
   ],
   "id": "ffaa16b6c263a79e",
   "outputs": [],
   "execution_count": null
  },
  {
   "metadata": {},
   "cell_type": "markdown",
   "source": "Finally, we'll perform pattern completion. We create a randomized test pattern and supply it to the pattern completion function. We also plot all the intermediate patterns generated during the completion process.",
   "id": "f31ab9b10e192ca5"
  },
  {
   "metadata": {},
   "cell_type": "code",
   "source": [
    "pattern_test = add_noise(Z, noise_level=.3)\n",
    "plot_pattern(pattern_test)\n",
    "\n",
    "n_iter = 3\n",
    "patterns_pred = pattern_complete(weights, pattern_test, n_iter=n_iter)\n",
    "\n",
    "for pattern_pred in patterns_pred:\n",
    "    plot_pattern(pattern_pred)"
   ],
   "id": "17abb979ea332a91",
   "outputs": [],
   "execution_count": null
  },
  {
   "metadata": {},
   "cell_type": "code",
   "source": "",
   "id": "d6af36569fffeec6",
   "outputs": [],
   "execution_count": null
  }
 ],
 "metadata": {
  "kernelspec": {
   "display_name": "Python 3",
   "language": "python",
   "name": "python3"
  },
  "language_info": {
   "codemirror_mode": {
    "name": "ipython",
    "version": 2
   },
   "file_extension": ".py",
   "mimetype": "text/x-python",
   "name": "python",
   "nbconvert_exporter": "python",
   "pygments_lexer": "ipython2",
   "version": "2.7.6"
  }
 },
 "nbformat": 4,
 "nbformat_minor": 5
}

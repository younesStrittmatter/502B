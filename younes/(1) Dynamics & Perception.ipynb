{
 "cells": [
  {
   "metadata": {},
   "cell_type": "markdown",
   "source": [
    "# Laboratory 1: Dynamics & Perception \n",
    "\n",
    "**Note:** You should complete the [PsyNeuLink Beginner Tutorial](https://princetonuniversity.github.io/PsyNeuLink/index_logo_with_text.html#tutorial) prior to starting Lab 1, unless you are already familiar with the PsyNeuLink environment.  \n",
    "\n",
    "## Lab 1 Overview\n",
    " \n",
    "In this lab we will explore dynamic models using some examples from Perception. We'll start with a Hopfield Network ([Hopfield, 1982](https://doi.org/10.1073/pnas.79.8.2554)) that takes noisy input and settles on a stable interpretation, then we'll explore some simple examples of dynamic networks evolving over time, and finally consider bistable percepts that can be interpreted multiple ways.  Along the way we'll cover numerous examples and concepts that recur and are useful throughout this course.     \n"
   ],
   "id": "733f48ac6546d8a"
  },
  {
   "metadata": {},
   "cell_type": "code",
   "outputs": [],
   "execution_count": null,
   "source": "",
   "id": "b37e3d2aacc6bd43"
  }
 ],
 "metadata": {
  "kernelspec": {
   "display_name": "Python 3",
   "language": "python",
   "name": "python3"
  },
  "language_info": {
   "codemirror_mode": {
    "name": "ipython",
    "version": 2
   },
   "file_extension": ".py",
   "mimetype": "text/x-python",
   "name": "python",
   "nbconvert_exporter": "python",
   "pygments_lexer": "ipython2",
   "version": "2.7.6"
  }
 },
 "nbformat": 4,
 "nbformat_minor": 5
}

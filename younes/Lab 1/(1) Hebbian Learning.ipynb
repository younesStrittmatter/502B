{
 "cells": [
  {
   "cell_type": "markdown",
   "id": "4091fb01358f1bd",
   "metadata": {},
   "source": [
    "# Lab 1.1: Hebbian Learning\n",
    "### The Ubiquity of Associations\n",
    "How do you learn to associate things that occur together?\n",
    "\n",
    "- Peaches and ____________?\n",
    "- Cause and ____________?\n",
    "- Law and ____________?\n",
    "- Sooner or ____________?\n",
    "- Jack and ____________ went up ______ ____________ ?\n",
    "\n",
    "<details>\n",
    "<summary>Answers</summary>\n",
    "\n",
    "- Peaches and cream\n",
    "- Cause and effect\n",
    "- Law and order\n",
    "- Sooner or later\n",
    "- Jack and Jill went up the hill\n",
    "\n",
    "</details>\n",
    "\n",
    "You can automatically fill in most or all of the blanks using associations you have learned in the past. Associations are everywhere in cognition. You learn to associate all the different properties of individual objects, all the objects that make up familiar scenes, and generally any groups of people, properties and/or things that tend to co-occur.\n",
    "\n",
    "When you simply look at your laptop you know about its weight, texture, range of likely temperatures, approximately how long the battery will operate before dying, and lots of other associated details. When you see only the top of a chair on the other side of a solid table you automatically infer details about the rest of the chair that is out of sight - the top part of the chair that you see is strongly associated with the rest of a representation of a chair. \n",
    "\n",
    "What do you expect to see in the waiting room of a doctor's office? As each detail comes to mind it triggers associations to other details: chairs to sit in while you wait -> coffee table -> magazines -> Oprah magazine, Sports illustrated, The Economist -> cheap art on walls -> laminate flooring -> hand sanitizer -> clip boards with forms -> etc. \n",
    "When you see lightning, what do you expect to hear? Associations can build up in *temporal proximity* (events occurring together in time, like lightning and thunder) as well as *spatial proximity* (objects that co-occur in space, like a chair and a table). Your stream of consciousness is partly built out of strong and weak associations. \n",
    "\n",
    "How does the brain learn associations in the first place?\n",
    "\n",
    "### A Theory of Learning\n",
    "Perhaps the most influential early theory in neuroscience is about learning associations, summarized as: \"Neurons that fire together, wire together.\" The theory was advanced in great detail by Donald Hebb in 1949, who stated, \"The general idea is an old one, that any two cells or systems of cells that are repeatedly active at the same time will tend to become 'associated', so that activity in one facilitates activity in the other,\" and it is now called Hebbian Learning. It is an elegant theory because it is both simple and has the potential to explain a huge amount of psychological and neuroscientific data. And it is also a mechanistic theory that we can explore by building models.\n",
    "\n",
    "### Unsupervised Learning\n",
    "Hebbian learning is a type of *unsupervised learning* because it is able to extract structure from data without using feedback.  There are no answers provided in unsupervised learning, only an acquired representation of structure present in the data. In contrast, *supervised learning* usually involves a decision that can be correct or incorrect (e.g. Is this a picture of a dog or a cat?), and uses training and feedback to improve accuracy. Subsequent labs will explore supervised learning in detail. \n",
    "\n",
    "\\\\TODO: Add link to supervised learning lab or delete this paragraph"
   ]
  },
  {
   "metadata": {},
   "cell_type": "markdown",
   "source": [
    "## Overview \n",
    "### concepts: \n",
    "Feature encoding \\\\\n",
    "Correlation matrices \\\\\n",
    "Simple Hebbian learning \\\\\n",
    "Hebbian learning with pruning \\\\\n",
    "Necker cubes \\\\\n",
    "\n",
    "### tools: \n",
    "Matrix multiplication \\\\\n",
    "Recurrent transfer mechanisms \\\\"
   ],
   "id": "b6a94da5092ef9e4"
  },
  {
   "metadata": {},
   "cell_type": "markdown",
   "source": "## Installation",
   "id": "a94a60f9442af6a9"
  },
  {
   "metadata": {},
   "cell_type": "code",
   "outputs": [],
   "execution_count": null,
   "source": "!pip install psyneulink",
   "id": "bcd4d8923c92e5e3"
  },
  {
   "cell_type": "markdown",
   "id": "7d735374c5c37dce",
   "metadata": {},
   "source": "## Imports & Setup"
  },
  {
   "metadata": {
    "ExecuteTime": {
     "end_time": "2025-01-18T23:00:00.148369Z",
     "start_time": "2025-01-18T22:59:58.035499Z"
    }
   },
   "cell_type": "code",
   "source": [
    "import numpy as np\n",
    "import matplotlib\n",
    "from matplotlib import pyplot as plt\n",
    "import psyneulink as pnl"
   ],
   "id": "47fa7624e4ce2832",
   "outputs": [],
   "execution_count": 5
  },
  {
   "metadata": {},
   "cell_type": "markdown",
   "source": [
    "## Learning to Group Properties of Objects\n",
    "\n",
    "Objects typically have multiple properties, such as size, shape, color, texture, density, temperature, etc. It is useful to learn to group the different properties of an object together.\n",
    "\n",
    "In the following cell, we define a set of features to represent objects. The features include size (small, medium, large), color (red, blue, green), and shape (circle, rectangle, triangle). A feature is coded as `1` when it is present and `0` when it is absent.\n",
    "\n",
    "Next, we specify some objects, such as a small red circle. Each object is represented as a stimulus in the model, using a feature-coded vector. For example:\n",
    "\n",
    "- A small red circle is coded as `[1, 0, 0, 1, 0, 0, 1, 0, 0]` and abbreviated as `src`.\n",
    "\n",
    "### Stimuli"
   ],
   "id": "5b493322e9144bc2"
  },
  {
   "metadata": {
    "ExecuteTime": {
     "end_time": "2025-01-18T23:00:07.430334Z",
     "start_time": "2025-01-18T23:00:07.427351Z"
    }
   },
   "cell_type": "code",
   "source": [
    "# Define the set of features\n",
    "feature_names = [\n",
    "    'small', 'medium', 'large',\n",
    "    'red', 'yellow', 'blue',\n",
    "    'circle', 'rectangle', 'triangle'\n",
    "]\n",
    "\n",
    "# Calculate the size of the feature space\n",
    "size_f = len(feature_names)\n",
    "\n",
    "# Define stimuli representing objects composed of features\n",
    "small_red_circle =        [1, 0, 0, 1, 0, 0, 1, 0, 0]\n",
    "medium_yellow_rectangle = [0, 1, 0, 0, 1, 0, 0, 1, 0]\n",
    "large_blue_triangle =     [0, 0, 1, 0, 0, 1, 0, 0, 1]\n",
    "\n",
    "# Note: Feature coding can be more elaborate, e.g., combining basic features.\n",
    "# Represent green as the activation of blue + yellow, and use rectangle + triangle for a house\n",
    "small_green_house = [1, 0, 0, 0, 1, 1, 0, 1, 1]\n",
    "\n",
    "# Assign abbreviated aliases\n",
    "src = small_red_circle\n",
    "myr = medium_yellow_rectangle\n",
    "lbt = large_blue_triangle\n",
    "sgh = small_green_house"
   ],
   "id": "ecaa77741e533940",
   "outputs": [],
   "execution_count": 7
  },
  {
   "metadata": {},
   "cell_type": "markdown",
   "source": "With our features defined, we can specify a collection of stimuli (`sm_3_uniform`) to present to the model. This collection is organized as a matrix where each row corresponds to a single stimulus, and each column represents a feature (as defined in `feature_names`). Here, the `sm_3_uniform matrix` contains three repetitions of each stimulus.",
   "id": "4990e91ae11a5e7"
  },
  {
   "metadata": {
    "ExecuteTime": {
     "end_time": "2025-01-18T23:00:10.183040Z",
     "start_time": "2025-01-18T23:00:10.177826Z"
    }
   },
   "cell_type": "code",
   "source": [
    "sm_3_uniform = np.matrix([src,src,src,myr,myr,myr,lbt,lbt,lbt])\n",
    "sm_3_uniform"
   ],
   "id": "7f855e732ab30899",
   "outputs": [
    {
     "data": {
      "text/plain": [
       "matrix([[1, 0, 0, 1, 0, 0, 1, 0, 0],\n",
       "        [1, 0, 0, 1, 0, 0, 1, 0, 0],\n",
       "        [1, 0, 0, 1, 0, 0, 1, 0, 0],\n",
       "        [0, 1, 0, 0, 1, 0, 0, 1, 0],\n",
       "        [0, 1, 0, 0, 1, 0, 0, 1, 0],\n",
       "        [0, 1, 0, 0, 1, 0, 0, 1, 0],\n",
       "        [0, 0, 1, 0, 0, 1, 0, 0, 1],\n",
       "        [0, 0, 1, 0, 0, 1, 0, 0, 1],\n",
       "        [0, 0, 1, 0, 0, 1, 0, 0, 1]])"
      ]
     },
     "execution_count": 8,
     "metadata": {},
     "output_type": "execute_result"
    }
   ],
   "execution_count": 8
  },
  {
   "cell_type": "markdown",
   "id": "ddf3180df05d2880",
   "metadata": {},
   "source": ""
  }
 ],
 "metadata": {
  "kernelspec": {
   "display_name": "Python 3 (ipykernel)",
   "language": "python",
   "name": "python3"
  },
  "language_info": {
   "codemirror_mode": {
    "name": "ipython",
    "version": 3
   },
   "file_extension": ".py",
   "mimetype": "text/x-python",
   "name": "python",
   "nbconvert_exporter": "python",
   "pygments_lexer": "ipython3",
   "version": "3.11.7"
  }
 },
 "nbformat": 4,
 "nbformat_minor": 5
}

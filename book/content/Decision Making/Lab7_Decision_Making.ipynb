{
 "nbformat": 4,
 "nbformat_minor": 0,
 "metadata": {
  "colab": {
   "name": "Lab7_Decision_Making.ipynb",
   "provenance": [],
   "collapsed_sections": []
  },
  "kernelspec": {
   "display_name": "Python 3",
   "language": "python",
   "name": "python3"
  },
  "widgets": {
   "application/vnd.jupyter.widget-state+json": {
    "1e683d85b741461196cc6e07dc705098": {
     "model_module": "@jupyter-widgets/output",
     "model_name": "OutputModel",
     "state": {
      "_view_name": "OutputView",
      "msg_id": "",
      "_dom_classes": [],
      "_model_name": "OutputModel",
      "outputs": [
       {
        "output_type": "display_data",
        "metadata": {
         "tags": []
        },
        "text/html": "<pre style=\"white-space:pre;overflow-x:auto;line-height:normal;font-family:Menlo,'DejaVu Sans Mono',consolas,'Courier New',monospace\"></pre>\n",
        "text/plain": "<rich.jupyter.JupyterRenderable at 0x7fb9b39d6450>"
       }
      ],
      "_view_module": "@jupyter-widgets/output",
      "_model_module_version": "1.0.0",
      "_view_count": null,
      "_view_module_version": "1.0.0",
      "layout": "IPY_MODEL_3e48d10ca6d449b9bc876d2bff76c97d",
      "_model_module": "@jupyter-widgets/output"
     }
    },
    "3e48d10ca6d449b9bc876d2bff76c97d": {
     "model_module": "@jupyter-widgets/base",
     "model_name": "LayoutModel",
     "state": {
      "_view_name": "LayoutView",
      "grid_template_rows": null,
      "right": null,
      "justify_content": null,
      "_view_module": "@jupyter-widgets/base",
      "overflow": null,
      "_model_module_version": "1.2.0",
      "_view_count": null,
      "flex_flow": null,
      "width": null,
      "min_width": null,
      "border": null,
      "align_items": null,
      "bottom": null,
      "_model_module": "@jupyter-widgets/base",
      "top": null,
      "grid_column": null,
      "overflow_y": null,
      "overflow_x": null,
      "grid_auto_flow": null,
      "grid_area": null,
      "grid_template_columns": null,
      "flex": null,
      "_model_name": "LayoutModel",
      "justify_items": null,
      "grid_row": null,
      "max_height": null,
      "align_content": null,
      "visibility": null,
      "align_self": null,
      "height": null,
      "min_height": null,
      "padding": null,
      "grid_auto_rows": null,
      "grid_gap": null,
      "max_width": null,
      "order": null,
      "_view_module_version": "1.2.0",
      "grid_template_areas": null,
      "object_position": null,
      "object_fit": null,
      "grid_auto_columns": null,
      "margin": null,
      "display": null,
      "left": null
     }
    },
    "d6cd6257ab514f12a44e1bddf9538f79": {
     "model_module": "@jupyter-widgets/output",
     "model_name": "OutputModel",
     "state": {
      "_view_name": "OutputView",
      "msg_id": "",
      "_dom_classes": [],
      "_model_name": "OutputModel",
      "outputs": [
       {
        "output_type": "display_data",
        "metadata": {
         "tags": []
        },
        "text/html": "<pre style=\"white-space:pre;overflow-x:auto;line-height:normal;font-family:Menlo,'DejaVu Sans Mono',consolas,'Courier New',monospace\"></pre>\n",
        "text/plain": "<rich.jupyter.JupyterRenderable at 0x7f2f878e7590>"
       }
      ],
      "_view_module": "@jupyter-widgets/output",
      "_model_module_version": "1.0.0",
      "_view_count": null,
      "_view_module_version": "1.0.0",
      "layout": "IPY_MODEL_c0d92839f6584f4ca4171f4c61f29b20",
      "_model_module": "@jupyter-widgets/output"
     }
    },
    "c0d92839f6584f4ca4171f4c61f29b20": {
     "model_module": "@jupyter-widgets/base",
     "model_name": "LayoutModel",
     "state": {
      "_view_name": "LayoutView",
      "grid_template_rows": null,
      "right": null,
      "justify_content": null,
      "_view_module": "@jupyter-widgets/base",
      "overflow": null,
      "_model_module_version": "1.2.0",
      "_view_count": null,
      "flex_flow": null,
      "width": null,
      "min_width": null,
      "border": null,
      "align_items": null,
      "bottom": null,
      "_model_module": "@jupyter-widgets/base",
      "top": null,
      "grid_column": null,
      "overflow_y": null,
      "overflow_x": null,
      "grid_auto_flow": null,
      "grid_area": null,
      "grid_template_columns": null,
      "flex": null,
      "_model_name": "LayoutModel",
      "justify_items": null,
      "grid_row": null,
      "max_height": null,
      "align_content": null,
      "visibility": null,
      "align_self": null,
      "height": null,
      "min_height": null,
      "padding": null,
      "grid_auto_rows": null,
      "grid_gap": null,
      "max_width": null,
      "order": null,
      "_view_module_version": "1.2.0",
      "grid_template_areas": null,
      "object_position": null,
      "object_fit": null,
      "grid_auto_columns": null,
      "margin": null,
      "display": null,
      "left": null
     }
    },
    "f4b6cdb60b6e4f1b84640487768ebbd8": {
     "model_module": "@jupyter-widgets/output",
     "model_name": "OutputModel",
     "state": {
      "_view_name": "OutputView",
      "msg_id": "",
      "_dom_classes": [],
      "_model_name": "OutputModel",
      "outputs": [
       {
        "output_type": "display_data",
        "metadata": {
         "tags": []
        },
        "text/html": "<pre style=\"white-space:pre;overflow-x:auto;line-height:normal;font-family:Menlo,'DejaVu Sans Mono',consolas,'Courier New',monospace\"></pre>\n",
        "text/plain": "<rich.jupyter.JupyterRenderable at 0x7f2f85e6b4d0>"
       }
      ],
      "_view_module": "@jupyter-widgets/output",
      "_model_module_version": "1.0.0",
      "_view_count": null,
      "_view_module_version": "1.0.0",
      "layout": "IPY_MODEL_7fb32ceb11934f32bdcdfdeb8a89693b",
      "_model_module": "@jupyter-widgets/output"
     }
    },
    "7fb32ceb11934f32bdcdfdeb8a89693b": {
     "model_module": "@jupyter-widgets/base",
     "model_name": "LayoutModel",
     "state": {
      "_view_name": "LayoutView",
      "grid_template_rows": null,
      "right": null,
      "justify_content": null,
      "_view_module": "@jupyter-widgets/base",
      "overflow": null,
      "_model_module_version": "1.2.0",
      "_view_count": null,
      "flex_flow": null,
      "width": null,
      "min_width": null,
      "border": null,
      "align_items": null,
      "bottom": null,
      "_model_module": "@jupyter-widgets/base",
      "top": null,
      "grid_column": null,
      "overflow_y": null,
      "overflow_x": null,
      "grid_auto_flow": null,
      "grid_area": null,
      "grid_template_columns": null,
      "flex": null,
      "_model_name": "LayoutModel",
      "justify_items": null,
      "grid_row": null,
      "max_height": null,
      "align_content": null,
      "visibility": null,
      "align_self": null,
      "height": null,
      "min_height": null,
      "padding": null,
      "grid_auto_rows": null,
      "grid_gap": null,
      "max_width": null,
      "order": null,
      "_view_module_version": "1.2.0",
      "grid_template_areas": null,
      "object_position": null,
      "object_fit": null,
      "grid_auto_columns": null,
      "margin": null,
      "display": null,
      "left": null
     }
    },
    "45c1dee78471452ca5beb06b2b26923f": {
     "model_module": "@jupyter-widgets/output",
     "model_name": "OutputModel",
     "state": {
      "_view_name": "OutputView",
      "msg_id": "",
      "_dom_classes": [],
      "_model_name": "OutputModel",
      "outputs": [
       {
        "output_type": "display_data",
        "metadata": {
         "tags": []
        },
        "text/html": "<pre style=\"white-space:pre;overflow-x:auto;line-height:normal;font-family:Menlo,'DejaVu Sans Mono',consolas,'Courier New',monospace\"></pre>\n",
        "text/plain": "<rich.jupyter.JupyterRenderable at 0x7f2f81b18390>"
       }
      ],
      "_view_module": "@jupyter-widgets/output",
      "_model_module_version": "1.0.0",
      "_view_count": null,
      "_view_module_version": "1.0.0",
      "layout": "IPY_MODEL_99a307169e7d443ca9722991df7d0d5e",
      "_model_module": "@jupyter-widgets/output"
     }
    },
    "99a307169e7d443ca9722991df7d0d5e": {
     "model_module": "@jupyter-widgets/base",
     "model_name": "LayoutModel",
     "state": {
      "_view_name": "LayoutView",
      "grid_template_rows": null,
      "right": null,
      "justify_content": null,
      "_view_module": "@jupyter-widgets/base",
      "overflow": null,
      "_model_module_version": "1.2.0",
      "_view_count": null,
      "flex_flow": null,
      "width": null,
      "min_width": null,
      "border": null,
      "align_items": null,
      "bottom": null,
      "_model_module": "@jupyter-widgets/base",
      "top": null,
      "grid_column": null,
      "overflow_y": null,
      "overflow_x": null,
      "grid_auto_flow": null,
      "grid_area": null,
      "grid_template_columns": null,
      "flex": null,
      "_model_name": "LayoutModel",
      "justify_items": null,
      "grid_row": null,
      "max_height": null,
      "align_content": null,
      "visibility": null,
      "align_self": null,
      "height": null,
      "min_height": null,
      "padding": null,
      "grid_auto_rows": null,
      "grid_gap": null,
      "max_width": null,
      "order": null,
      "_view_module_version": "1.2.0",
      "grid_template_areas": null,
      "object_position": null,
      "object_fit": null,
      "grid_auto_columns": null,
      "margin": null,
      "display": null,
      "left": null
     }
    },
    "eb4c2d5a73db4af1ab50dc3bef875213": {
     "model_module": "@jupyter-widgets/output",
     "model_name": "OutputModel",
     "state": {
      "_view_name": "OutputView",
      "msg_id": "",
      "_dom_classes": [],
      "_model_name": "OutputModel",
      "outputs": [
       {
        "output_type": "display_data",
        "metadata": {
         "tags": []
        },
        "text/html": "<pre style=\"white-space:pre;overflow-x:auto;line-height:normal;font-family:Menlo,'DejaVu Sans Mono',consolas,'Courier New',monospace\"></pre>\n",
        "text/plain": "<rich.jupyter.JupyterRenderable at 0x7f2f80a41c50>"
       }
      ],
      "_view_module": "@jupyter-widgets/output",
      "_model_module_version": "1.0.0",
      "_view_count": null,
      "_view_module_version": "1.0.0",
      "layout": "IPY_MODEL_8c0597384c464a2b8a2b9b5759fa4b24",
      "_model_module": "@jupyter-widgets/output"
     }
    },
    "8c0597384c464a2b8a2b9b5759fa4b24": {
     "model_module": "@jupyter-widgets/base",
     "model_name": "LayoutModel",
     "state": {
      "_view_name": "LayoutView",
      "grid_template_rows": null,
      "right": null,
      "justify_content": null,
      "_view_module": "@jupyter-widgets/base",
      "overflow": null,
      "_model_module_version": "1.2.0",
      "_view_count": null,
      "flex_flow": null,
      "width": null,
      "min_width": null,
      "border": null,
      "align_items": null,
      "bottom": null,
      "_model_module": "@jupyter-widgets/base",
      "top": null,
      "grid_column": null,
      "overflow_y": null,
      "overflow_x": null,
      "grid_auto_flow": null,
      "grid_area": null,
      "grid_template_columns": null,
      "flex": null,
      "_model_name": "LayoutModel",
      "justify_items": null,
      "grid_row": null,
      "max_height": null,
      "align_content": null,
      "visibility": null,
      "align_self": null,
      "height": null,
      "min_height": null,
      "padding": null,
      "grid_auto_rows": null,
      "grid_gap": null,
      "max_width": null,
      "order": null,
      "_view_module_version": "1.2.0",
      "grid_template_areas": null,
      "object_position": null,
      "object_fit": null,
      "grid_auto_columns": null,
      "margin": null,
      "display": null,
      "left": null
     }
    },
    "6e08c037743645959f888c7030c7c675": {
     "model_module": "@jupyter-widgets/output",
     "model_name": "OutputModel",
     "state": {
      "_view_name": "OutputView",
      "msg_id": "",
      "_dom_classes": [],
      "_model_name": "OutputModel",
      "outputs": [
       {
        "output_type": "display_data",
        "metadata": {
         "tags": []
        },
        "text/html": "<pre style=\"white-space:pre;overflow-x:auto;line-height:normal;font-family:Menlo,'DejaVu Sans Mono',consolas,'Courier New',monospace\"></pre>\n",
        "text/plain": "<rich.jupyter.JupyterRenderable at 0x7f2f807a6fd0>"
       }
      ],
      "_view_module": "@jupyter-widgets/output",
      "_model_module_version": "1.0.0",
      "_view_count": null,
      "_view_module_version": "1.0.0",
      "layout": "IPY_MODEL_c29607c491f6425ebf463fd8c2444582",
      "_model_module": "@jupyter-widgets/output"
     }
    },
    "c29607c491f6425ebf463fd8c2444582": {
     "model_module": "@jupyter-widgets/base",
     "model_name": "LayoutModel",
     "state": {
      "_view_name": "LayoutView",
      "grid_template_rows": null,
      "right": null,
      "justify_content": null,
      "_view_module": "@jupyter-widgets/base",
      "overflow": null,
      "_model_module_version": "1.2.0",
      "_view_count": null,
      "flex_flow": null,
      "width": null,
      "min_width": null,
      "border": null,
      "align_items": null,
      "bottom": null,
      "_model_module": "@jupyter-widgets/base",
      "top": null,
      "grid_column": null,
      "overflow_y": null,
      "overflow_x": null,
      "grid_auto_flow": null,
      "grid_area": null,
      "grid_template_columns": null,
      "flex": null,
      "_model_name": "LayoutModel",
      "justify_items": null,
      "grid_row": null,
      "max_height": null,
      "align_content": null,
      "visibility": null,
      "align_self": null,
      "height": null,
      "min_height": null,
      "padding": null,
      "grid_auto_rows": null,
      "grid_gap": null,
      "max_width": null,
      "order": null,
      "_view_module_version": "1.2.0",
      "grid_template_areas": null,
      "object_position": null,
      "object_fit": null,
      "grid_auto_columns": null,
      "margin": null,
      "display": null,
      "left": null
     }
    },
    "c324748440ad477e9381b9ba4d567beb": {
     "model_module": "@jupyter-widgets/output",
     "model_name": "OutputModel",
     "state": {
      "_view_name": "OutputView",
      "msg_id": "",
      "_dom_classes": [],
      "_model_name": "OutputModel",
      "outputs": [
       {
        "output_type": "display_data",
        "metadata": {
         "tags": []
        },
        "text/html": "<pre style=\"white-space:pre;overflow-x:auto;line-height:normal;font-family:Menlo,'DejaVu Sans Mono',consolas,'Courier New',monospace\"></pre>\n",
        "text/plain": "<rich.jupyter.JupyterRenderable at 0x7f2f804de350>"
       }
      ],
      "_view_module": "@jupyter-widgets/output",
      "_model_module_version": "1.0.0",
      "_view_count": null,
      "_view_module_version": "1.0.0",
      "layout": "IPY_MODEL_acc702dd793749d48a12c1faa0bd9deb",
      "_model_module": "@jupyter-widgets/output"
     }
    },
    "acc702dd793749d48a12c1faa0bd9deb": {
     "model_module": "@jupyter-widgets/base",
     "model_name": "LayoutModel",
     "state": {
      "_view_name": "LayoutView",
      "grid_template_rows": null,
      "right": null,
      "justify_content": null,
      "_view_module": "@jupyter-widgets/base",
      "overflow": null,
      "_model_module_version": "1.2.0",
      "_view_count": null,
      "flex_flow": null,
      "width": null,
      "min_width": null,
      "border": null,
      "align_items": null,
      "bottom": null,
      "_model_module": "@jupyter-widgets/base",
      "top": null,
      "grid_column": null,
      "overflow_y": null,
      "overflow_x": null,
      "grid_auto_flow": null,
      "grid_area": null,
      "grid_template_columns": null,
      "flex": null,
      "_model_name": "LayoutModel",
      "justify_items": null,
      "grid_row": null,
      "max_height": null,
      "align_content": null,
      "visibility": null,
      "align_self": null,
      "height": null,
      "min_height": null,
      "padding": null,
      "grid_auto_rows": null,
      "grid_gap": null,
      "max_width": null,
      "order": null,
      "_view_module_version": "1.2.0",
      "grid_template_areas": null,
      "object_position": null,
      "object_fit": null,
      "grid_auto_columns": null,
      "margin": null,
      "display": null,
      "left": null
     }
    },
    "fd7bdb4319234caf83ee6ddcd6d65075": {
     "model_module": "@jupyter-widgets/output",
     "model_name": "OutputModel",
     "state": {
      "_view_name": "OutputView",
      "msg_id": "",
      "_dom_classes": [],
      "_model_name": "OutputModel",
      "outputs": [
       {
        "output_type": "display_data",
        "metadata": {
         "tags": []
        },
        "text/html": "<pre style=\"white-space:pre;overflow-x:auto;line-height:normal;font-family:Menlo,'DejaVu Sans Mono',consolas,'Courier New',monospace\"></pre>\n",
        "text/plain": "<rich.jupyter.JupyterRenderable at 0x7f2f802f4f10>"
       }
      ],
      "_view_module": "@jupyter-widgets/output",
      "_model_module_version": "1.0.0",
      "_view_count": null,
      "_view_module_version": "1.0.0",
      "layout": "IPY_MODEL_719b9239d08f44ef91ee51786020f277",
      "_model_module": "@jupyter-widgets/output"
     }
    },
    "719b9239d08f44ef91ee51786020f277": {
     "model_module": "@jupyter-widgets/base",
     "model_name": "LayoutModel",
     "state": {
      "_view_name": "LayoutView",
      "grid_template_rows": null,
      "right": null,
      "justify_content": null,
      "_view_module": "@jupyter-widgets/base",
      "overflow": null,
      "_model_module_version": "1.2.0",
      "_view_count": null,
      "flex_flow": null,
      "width": null,
      "min_width": null,
      "border": null,
      "align_items": null,
      "bottom": null,
      "_model_module": "@jupyter-widgets/base",
      "top": null,
      "grid_column": null,
      "overflow_y": null,
      "overflow_x": null,
      "grid_auto_flow": null,
      "grid_area": null,
      "grid_template_columns": null,
      "flex": null,
      "_model_name": "LayoutModel",
      "justify_items": null,
      "grid_row": null,
      "max_height": null,
      "align_content": null,
      "visibility": null,
      "align_self": null,
      "height": null,
      "min_height": null,
      "padding": null,
      "grid_auto_rows": null,
      "grid_gap": null,
      "max_width": null,
      "order": null,
      "_view_module_version": "1.2.0",
      "grid_template_areas": null,
      "object_position": null,
      "object_fit": null,
      "grid_auto_columns": null,
      "margin": null,
      "display": null,
      "left": null
     }
    },
    "e81f0e268aa74563a4e832a7a574166c": {
     "model_module": "@jupyter-widgets/output",
     "model_name": "OutputModel",
     "state": {
      "_view_name": "OutputView",
      "msg_id": "",
      "_dom_classes": [],
      "_model_name": "OutputModel",
      "outputs": [
       {
        "output_type": "display_data",
        "metadata": {
         "tags": []
        },
        "text/html": "<pre style=\"white-space:pre;overflow-x:auto;line-height:normal;font-family:Menlo,'DejaVu Sans Mono',consolas,'Courier New',monospace\"></pre>\n",
        "text/plain": "<rich.jupyter.JupyterRenderable at 0x7f2f7ffdc6d0>"
       }
      ],
      "_view_module": "@jupyter-widgets/output",
      "_model_module_version": "1.0.0",
      "_view_count": null,
      "_view_module_version": "1.0.0",
      "layout": "IPY_MODEL_1e4a01e38bfc46e9800c818d4b3c1edf",
      "_model_module": "@jupyter-widgets/output"
     }
    },
    "1e4a01e38bfc46e9800c818d4b3c1edf": {
     "model_module": "@jupyter-widgets/base",
     "model_name": "LayoutModel",
     "state": {
      "_view_name": "LayoutView",
      "grid_template_rows": null,
      "right": null,
      "justify_content": null,
      "_view_module": "@jupyter-widgets/base",
      "overflow": null,
      "_model_module_version": "1.2.0",
      "_view_count": null,
      "flex_flow": null,
      "width": null,
      "min_width": null,
      "border": null,
      "align_items": null,
      "bottom": null,
      "_model_module": "@jupyter-widgets/base",
      "top": null,
      "grid_column": null,
      "overflow_y": null,
      "overflow_x": null,
      "grid_auto_flow": null,
      "grid_area": null,
      "grid_template_columns": null,
      "flex": null,
      "_model_name": "LayoutModel",
      "justify_items": null,
      "grid_row": null,
      "max_height": null,
      "align_content": null,
      "visibility": null,
      "align_self": null,
      "height": null,
      "min_height": null,
      "padding": null,
      "grid_auto_rows": null,
      "grid_gap": null,
      "max_width": null,
      "order": null,
      "_view_module_version": "1.2.0",
      "grid_template_areas": null,
      "object_position": null,
      "object_fit": null,
      "grid_auto_columns": null,
      "margin": null,
      "display": null,
      "left": null
     }
    },
    "b2330eeddb0940d89b2b58e116d9cce2": {
     "model_module": "@jupyter-widgets/output",
     "model_name": "OutputModel",
     "state": {
      "_view_name": "OutputView",
      "msg_id": "",
      "_dom_classes": [],
      "_model_name": "OutputModel",
      "outputs": [
       {
        "output_type": "display_data",
        "metadata": {
         "tags": []
        },
        "text/html": "<pre style=\"white-space:pre;overflow-x:auto;line-height:normal;font-family:Menlo,'DejaVu Sans Mono',consolas,'Courier New',monospace\"></pre>\n",
        "text/plain": "<rich.jupyter.JupyterRenderable at 0x7f2f81585c50>"
       }
      ],
      "_view_module": "@jupyter-widgets/output",
      "_model_module_version": "1.0.0",
      "_view_count": null,
      "_view_module_version": "1.0.0",
      "layout": "IPY_MODEL_67c97308301a49d89e43464f888a5b22",
      "_model_module": "@jupyter-widgets/output"
     }
    },
    "67c97308301a49d89e43464f888a5b22": {
     "model_module": "@jupyter-widgets/base",
     "model_name": "LayoutModel",
     "state": {
      "_view_name": "LayoutView",
      "grid_template_rows": null,
      "right": null,
      "justify_content": null,
      "_view_module": "@jupyter-widgets/base",
      "overflow": null,
      "_model_module_version": "1.2.0",
      "_view_count": null,
      "flex_flow": null,
      "width": null,
      "min_width": null,
      "border": null,
      "align_items": null,
      "bottom": null,
      "_model_module": "@jupyter-widgets/base",
      "top": null,
      "grid_column": null,
      "overflow_y": null,
      "overflow_x": null,
      "grid_auto_flow": null,
      "grid_area": null,
      "grid_template_columns": null,
      "flex": null,
      "_model_name": "LayoutModel",
      "justify_items": null,
      "grid_row": null,
      "max_height": null,
      "align_content": null,
      "visibility": null,
      "align_self": null,
      "height": null,
      "min_height": null,
      "padding": null,
      "grid_auto_rows": null,
      "grid_gap": null,
      "max_width": null,
      "order": null,
      "_view_module_version": "1.2.0",
      "grid_template_areas": null,
      "object_position": null,
      "object_fit": null,
      "grid_auto_columns": null,
      "margin": null,
      "display": null,
      "left": null
     }
    },
    "955f2dfb6ba04cc294af53f85ad4a0b9": {
     "model_module": "@jupyter-widgets/output",
     "model_name": "OutputModel",
     "state": {
      "_view_name": "OutputView",
      "msg_id": "",
      "_dom_classes": [],
      "_model_name": "OutputModel",
      "outputs": [
       {
        "output_type": "display_data",
        "metadata": {
         "tags": []
        },
        "text/html": "<pre style=\"white-space:pre;overflow-x:auto;line-height:normal;font-family:Menlo,'DejaVu Sans Mono',consolas,'Courier New',monospace\"></pre>\n",
        "text/plain": "<rich.jupyter.JupyterRenderable at 0x7f2f8677a510>"
       }
      ],
      "_view_module": "@jupyter-widgets/output",
      "_model_module_version": "1.0.0",
      "_view_count": null,
      "_view_module_version": "1.0.0",
      "layout": "IPY_MODEL_aa4c52b09dec4641acc8edab8437f6a3",
      "_model_module": "@jupyter-widgets/output"
     }
    },
    "aa4c52b09dec4641acc8edab8437f6a3": {
     "model_module": "@jupyter-widgets/base",
     "model_name": "LayoutModel",
     "state": {
      "_view_name": "LayoutView",
      "grid_template_rows": null,
      "right": null,
      "justify_content": null,
      "_view_module": "@jupyter-widgets/base",
      "overflow": null,
      "_model_module_version": "1.2.0",
      "_view_count": null,
      "flex_flow": null,
      "width": null,
      "min_width": null,
      "border": null,
      "align_items": null,
      "bottom": null,
      "_model_module": "@jupyter-widgets/base",
      "top": null,
      "grid_column": null,
      "overflow_y": null,
      "overflow_x": null,
      "grid_auto_flow": null,
      "grid_area": null,
      "grid_template_columns": null,
      "flex": null,
      "_model_name": "LayoutModel",
      "justify_items": null,
      "grid_row": null,
      "max_height": null,
      "align_content": null,
      "visibility": null,
      "align_self": null,
      "height": null,
      "min_height": null,
      "padding": null,
      "grid_auto_rows": null,
      "grid_gap": null,
      "max_width": null,
      "order": null,
      "_view_module_version": "1.2.0",
      "grid_template_areas": null,
      "object_position": null,
      "object_fit": null,
      "grid_auto_columns": null,
      "margin": null,
      "display": null,
      "left": null
     }
    },
    "2fb0933511c24b419f5f4a17528a6122": {
     "model_module": "@jupyter-widgets/output",
     "model_name": "OutputModel",
     "state": {
      "_view_name": "OutputView",
      "msg_id": "",
      "_dom_classes": [],
      "_model_name": "OutputModel",
      "outputs": [
       {
        "output_type": "display_data",
        "metadata": {
         "tags": []
        },
        "text/html": "<pre style=\"white-space:pre;overflow-x:auto;line-height:normal;font-family:Menlo,'DejaVu Sans Mono',consolas,'Courier New',monospace\"></pre>\n",
        "text/plain": "<rich.jupyter.JupyterRenderable at 0x7f2f7f7df0d0>"
       }
      ],
      "_view_module": "@jupyter-widgets/output",
      "_model_module_version": "1.0.0",
      "_view_count": null,
      "_view_module_version": "1.0.0",
      "layout": "IPY_MODEL_87e2d45deb8d4aa2b47d084f8b09769a",
      "_model_module": "@jupyter-widgets/output"
     }
    },
    "87e2d45deb8d4aa2b47d084f8b09769a": {
     "model_module": "@jupyter-widgets/base",
     "model_name": "LayoutModel",
     "state": {
      "_view_name": "LayoutView",
      "grid_template_rows": null,
      "right": null,
      "justify_content": null,
      "_view_module": "@jupyter-widgets/base",
      "overflow": null,
      "_model_module_version": "1.2.0",
      "_view_count": null,
      "flex_flow": null,
      "width": null,
      "min_width": null,
      "border": null,
      "align_items": null,
      "bottom": null,
      "_model_module": "@jupyter-widgets/base",
      "top": null,
      "grid_column": null,
      "overflow_y": null,
      "overflow_x": null,
      "grid_auto_flow": null,
      "grid_area": null,
      "grid_template_columns": null,
      "flex": null,
      "_model_name": "LayoutModel",
      "justify_items": null,
      "grid_row": null,
      "max_height": null,
      "align_content": null,
      "visibility": null,
      "align_self": null,
      "height": null,
      "min_height": null,
      "padding": null,
      "grid_auto_rows": null,
      "grid_gap": null,
      "max_width": null,
      "order": null,
      "_view_module_version": "1.2.0",
      "grid_template_areas": null,
      "object_position": null,
      "object_fit": null,
      "grid_auto_columns": null,
      "margin": null,
      "display": null,
      "left": null
     }
    },
    "1bef19378e1b42aa99d1df9212eeb34e": {
     "model_module": "@jupyter-widgets/output",
     "model_name": "OutputModel",
     "state": {
      "_view_name": "OutputView",
      "msg_id": "",
      "_dom_classes": [],
      "_model_name": "OutputModel",
      "outputs": [
       {
        "output_type": "display_data",
        "metadata": {
         "tags": []
        },
        "text/html": "<pre style=\"white-space:pre;overflow-x:auto;line-height:normal;font-family:Menlo,'DejaVu Sans Mono',consolas,'Courier New',monospace\"></pre>\n",
        "text/plain": "<rich.jupyter.JupyterRenderable at 0x7f2f7f503250>"
       }
      ],
      "_view_module": "@jupyter-widgets/output",
      "_model_module_version": "1.0.0",
      "_view_count": null,
      "_view_module_version": "1.0.0",
      "layout": "IPY_MODEL_cee6e1bf5b0f443ca687729b26a68e1c",
      "_model_module": "@jupyter-widgets/output"
     }
    },
    "cee6e1bf5b0f443ca687729b26a68e1c": {
     "model_module": "@jupyter-widgets/base",
     "model_name": "LayoutModel",
     "state": {
      "_view_name": "LayoutView",
      "grid_template_rows": null,
      "right": null,
      "justify_content": null,
      "_view_module": "@jupyter-widgets/base",
      "overflow": null,
      "_model_module_version": "1.2.0",
      "_view_count": null,
      "flex_flow": null,
      "width": null,
      "min_width": null,
      "border": null,
      "align_items": null,
      "bottom": null,
      "_model_module": "@jupyter-widgets/base",
      "top": null,
      "grid_column": null,
      "overflow_y": null,
      "overflow_x": null,
      "grid_auto_flow": null,
      "grid_area": null,
      "grid_template_columns": null,
      "flex": null,
      "_model_name": "LayoutModel",
      "justify_items": null,
      "grid_row": null,
      "max_height": null,
      "align_content": null,
      "visibility": null,
      "align_self": null,
      "height": null,
      "min_height": null,
      "padding": null,
      "grid_auto_rows": null,
      "grid_gap": null,
      "max_width": null,
      "order": null,
      "_view_module_version": "1.2.0",
      "grid_template_areas": null,
      "object_position": null,
      "object_fit": null,
      "grid_auto_columns": null,
      "margin": null,
      "display": null,
      "left": null
     }
    }
   }
  }
 },
 "cells": [
  {
   "cell_type": "markdown",
   "metadata": {
    "id": "-BSLfPcFdI80"
   },
   "source": [
    "## Let's make two different integrators!\n",
    "\n",
    "The first integrator will drift toward a positive boundary; the second will drift toward a negative boundary. "
   ]
  },
  {
   "cell_type": "code",
   "metadata": {
    "id": "QQKOhskA2FR5",
    "colab": {
     "base_uri": "https://localhost:8080/",
     "height": 295,
     "referenced_widgets": [
      "1e683d85b741461196cc6e07dc705098",
      "3e48d10ca6d449b9bc876d2bff76c97d"
     ]
    },
    "outputId": "27abade8-59d6-4ffa-e762-cccecfb510bf"
   },
   "source": [
    "num_trials = 30;\n",
    "\n",
    "# Instate the DDM mechanism\n",
    "pos_integrator = pnl.DDM(function = pnl.DriftDiffusionIntegrator(\n",
    "                              noise=0.5,\n",
    "                              initializer=0,\n",
    "                              starting_point=0,\n",
    "                              rate=3.0\n",
    "                            )\n",
    "                         )\n",
    "\n",
    "\n",
    "# Tell the DDM to store its outputs at each trial\n",
    "pos_integrator.log.set_log_conditions(items=[pnl.DECISION_VARIABLE, pnl.RESPONSE_TIME])\n",
    "\n",
    "# Put the DDM into a composition\n",
    "DDM_positive = pnl.Composition(name = 'DDM_positive')\n",
    "DDM_positive.add_node(node = pos_integrator)\n",
    "\n",
    "# Run it\n",
    "DDM_positive.run(inputs={pos_integrator: np.random.normal(1,.5,(1,1,1))},\n",
    "num_trials=num_trials,\n",
    "context='execid')\n",
    "\n",
    "# # Extract the logged data\n",
    "log = pos_integrator.log.nparray_dictionary()['execid']\n",
    "decision_pos = log[pnl.DECISION_VARIABLE]\n",
    "time_pos = log[pnl.RESPONSE_TIME]\n",
    "\n",
    "# Plot!\n",
    "plt.plot(decision_pos[:,0],'.--')\n",
    "plt.title('Decision Progress Versus Time')\n",
    "plt.ylabel('Decision Variable')\n",
    "plt.xlabel('Time')\n",
    "plt.xticks(np.arange(0,num_trials+1,int(num_trials/5)))\n",
    "plt.show()"
   ],
   "outputs": [],
   "execution_count": null
  },
  {
   "cell_type": "code",
   "metadata": {
    "id": "VxcClW6dSQPn",
    "colab": {
     "base_uri": "https://localhost:8080/",
     "height": 295,
     "referenced_widgets": [
      "d6cd6257ab514f12a44e1bddf9538f79",
      "c0d92839f6584f4ca4171f4c61f29b20"
     ]
    },
    "outputId": "7cffc8f8-e711-4735-a727-2f3d02cc66a5"
   },
   "source": [
    "num_trials = 30;\n",
    "\n",
    "# Instate the DDM mechanism\n",
    "neg_integrator = pnl.DDM(function = pnl.DriftDiffusionIntegrator(\n",
    "                              noise=0.5,\n",
    "                              initializer=0,\n",
    "                              starting_point=0,\n",
    "                              rate=3.0\n",
    "                            )\n",
    "                         )\n",
    "\n",
    "# Tell the DDM to store its outputs at each trial\n",
    "neg_integrator.log.set_log_conditions(items=[pnl.DECISION_VARIABLE, pnl.RESPONSE_TIME])\n",
    "\n",
    "# Put the DDM into a composition\n",
    "DDM_neg = pnl.Composition(name = 'DDM_negative')\n",
    "DDM_neg.add_node(node = neg_integrator)\n",
    "\n",
    "# Run it\n",
    "DDM_neg.run(inputs={neg_integrator: -np.random.normal(1,.5,(1,1,1))},\n",
    "num_trials=num_trials,\n",
    "context='execid')\n",
    "\n",
    "# Extract the logged data\n",
    "log = neg_integrator.log.nparray_dictionary()['execid']\n",
    "decision_neg = log[pnl.DECISION_VARIABLE]\n",
    "time_neg = log[pnl.RESPONSE_TIME]\n",
    "\n",
    "# Plot!\n",
    "plt.plot(decision_neg[:,0],'.--')\n",
    "plt.title('Decision Progress Versus Time')\n",
    "plt.ylabel('Decision Variable')\n",
    "plt.xlabel('Time')\n",
    "plt.xticks(np.arange(0,num_trials+1,int(num_trials/5)))\n",
    "plt.show()"
   ],
   "outputs": [],
   "execution_count": null
  },
  {
   "cell_type": "markdown",
   "metadata": {
    "id": "sQoXJi7SdI8-"
   },
   "source": [
    "### <a id='e6'>Exercise 4: Understanding PNL DDMs</a> \n",
    "\n",
    "1. The integrator attribute .output_values returns two values. What do they mean? \n",
    "2. Explain the difference in outputs for the two accumulators.\n",
    "3. How many time steps does it take for the positive integrator to meet a threshold of .5? What about a threshold of 10?\n",
    "4. How could you make the positive integrator reach threshold faster? What would you do to each of the following: \n",
    "    4a. Threshold?\n",
    "    4b. Drift rate?\n",
    "    4c. Starting point?\n",
    "    4d. Noise?"
   ]
  },
  {
   "cell_type": "markdown",
   "metadata": {
    "id": "tWtDAZMXdI8_"
   },
   "source": [
    "### <a id='e7'>Exercise 5: Integrate Until Threshold</a> \n",
    "\n",
    "The following cell shows you how to run an accumulator until it reaches threshold using PsyNeuLink.\n",
    "\n",
    "Rewrite this code so that it will take the pos_integrator and run until it hits threshold. Have your function return the time point at which your function hits threshold and the position of the decision at each time point. Plot the trajectory of the decision."
   ]
  },
  {
   "cell_type": "code",
   "metadata": {
    "id": "Kk3tjb6FwWKQ",
    "colab": {
     "base_uri": "https://localhost:8080/",
     "height": 17,
     "referenced_widgets": [
      "f4b6cdb60b6e4f1b84640487768ebbd8",
      "7fb32ceb11934f32bdcdfdeb8a89693b"
     ]
    },
    "outputId": "9cbfb512-2dd3-424d-ff5a-978b236f9437"
   },
   "source": [
    "D = pnl.DDM(function = pnl.DriftDiffusionIntegrator(threshold=[20.0]))\n",
    "positive_moving_stimulus = np.array([[[1]], [[1.5]], [[2]], [[1]], [[1.5]]])\n",
    "\n",
    "D.log.set_log_conditions(items=[pnl.DECISION_VARIABLE, pnl.RESPONSE_TIME])\n",
    "\n",
    "C = pnl.Composition(name = 'DDM')\n",
    "C.add_node(node = D)\n",
    "\n",
    "C.termination_processing = {pnl.TimeScale.TRIAL: pnl.WhenFinished(D)}\n",
    "C.run(inputs={D:positive_moving_stimulus}, context='execid') \n",
    "\n",
    "log = D.log.nparray_dictionary()['execid']\n",
    "decisions = log[pnl.DECISION_VARIABLE]\n",
    "times = log[pnl.RESPONSE_TIME]"
   ],
   "outputs": [],
   "execution_count": null
  },
  {
   "cell_type": "markdown",
   "metadata": {
    "id": "h6UWCKxQdI9D"
   },
   "source": [
    "### <a id='e8'>Exercise 6: Analytic Solutions to the DDM</a> \n",
    "\n",
    "Review Bogacz et al (2006) to learn about analytic solutions to the DDM. \n",
    "\n",
    "1. Construct a Bogacz integrator using the same parameters of the pos_integrator. (Hint: this should look something like: pnl.DDM(name=\"example_ddm\",function=pnl.DriftDiffusionAnalytical(drift_rate=?,starting_point=?, threshold=?, noise=?, t0=?))\n",
    "2. Run your Bogacz integrator with 5 different kinds of input, once each; use these 5 values as the input: [[.5], [1], [1.5], [2], [2.5]].  Acquire the statistics for the distributions of RTs for these values using an output states dictionary and the additional output states available to the Bogacz DDM.\n",
    "3. Now run the pos_integrator using integrate to threshold termination conditions.   \n",
    "4. Explain the pattern of RTs you observe."
   ]
  },
  {
   "cell_type": "code",
   "metadata": {
    "id": "ECTOoje7kPME",
    "colab": {
     "base_uri": "https://localhost:8080/",
     "height": 68,
     "referenced_widgets": [
      "45c1dee78471452ca5beb06b2b26923f",
      "99a307169e7d443ca9722991df7d0d5e"
     ]
    },
    "outputId": "850ad1de-ba09-41a2-bbea-90e45f6ac0fb"
   },
   "source": [
    "# This block of code handles parts 1 and 2\n",
    "\n",
    "D = pnl.DDM(function = pnl.DriftDiffusionAnalytical(threshold=[20.0],\n",
    "                                                   drift_rate = 3.0,\n",
    "                                                   noise = 0.5),\n",
    "           output_ports = [pnl.RESPONSE_TIME,pnl.PROBABILITY_UPPER_THRESHOLD,pnl.PROBABILITY_LOWER_THRESHOLD,pnl.RT_CORRECT_MEAN\t])\n",
    "positive_stimulus = np.array([[[1.7]]])\n",
    "#[[1.5]], [[2]], [[1]], [[1.5]]])\n",
    "\n",
    "D.log.set_log_conditions(items=[pnl.RESPONSE_TIME])  \n",
    "\n",
    "C = pnl.Composition(name = 'DDM')\n",
    "C.add_node(node = D)\n",
    "outs = C.run(inputs={D:positive_stimulus},\n",
    "              num_trials = 1, \n",
    "             context='execid') \n",
    "\n",
    "log = D.log.nparray_dictionary()['execid']\n",
    "times = log[pnl.RESPONSE_TIME]\n"
   ],
   "outputs": [],
   "execution_count": null
  },
  {
   "cell_type": "code",
   "metadata": {
    "id": "XsyRW3QtvUSY",
    "colab": {
     "base_uri": "https://localhost:8080/",
     "height": 224,
     "referenced_widgets": [
      "eb4c2d5a73db4af1ab50dc3bef875213",
      "8c0597384c464a2b8a2b9b5759fa4b24",
      "6e08c037743645959f888c7030c7c675",
      "c29607c491f6425ebf463fd8c2444582",
      "c324748440ad477e9381b9ba4d567beb",
      "acc702dd793749d48a12c1faa0bd9deb",
      "fd7bdb4319234caf83ee6ddcd6d65075",
      "719b9239d08f44ef91ee51786020f277",
      "e81f0e268aa74563a4e832a7a574166c",
      "1e4a01e38bfc46e9800c818d4b3c1edf",
      "b2330eeddb0940d89b2b58e116d9cce2",
      "67c97308301a49d89e43464f888a5b22",
      "955f2dfb6ba04cc294af53f85ad4a0b9",
      "aa4c52b09dec4641acc8edab8437f6a3",
      "2fb0933511c24b419f5f4a17528a6122",
      "87e2d45deb8d4aa2b47d084f8b09769a",
      "1bef19378e1b42aa99d1df9212eeb34e",
      "cee6e1bf5b0f443ca687729b26a68e1c"
     ]
    },
    "outputId": "3714be64-fbe2-4f8b-8504-c8d4462d3788"
   },
   "source": [
    "# This block of code handles parts 3 onward. Notice that we put the ENTIRE \n",
    "# declaration of the composition into a loop. If we don't do this, we will get \n",
    "# the same results every time. In other words, our results will be non-random.\n",
    "n_t = 10\n",
    "for i in range(1,n_t):\n",
    "  \n",
    "  D = pnl.DDM(function = pnl.DriftDiffusionIntegrator(threshold=[20.0],\n",
    "                                                   rate = 0.0,\n",
    "                                                   noise = 1.0))\n",
    "\n",
    "  positive_stimulus = np.array([[[.7]]])\n",
    "\n",
    "\n",
    "  C = pnl.Composition(name = 'DDM')\n",
    "  C.add_node(node = D)\n",
    "\n",
    "  C.termination_processing = {pnl.TimeScale.TRIAL: pnl.WhenFinished(D)}\n",
    "\n",
    "\n",
    "  outs = C.run(inputs={D:positive_stimulus}\n",
    "                       ,context='execid') \n",
    "  print(outs)\n"
   ],
   "outputs": [],
   "execution_count": null
  },
  {
   "cell_type": "markdown",
   "metadata": {
    "id": "VvaVJz_hdI9I"
   },
   "source": [
    "### <a id='l0'>Exercise 7: Applying the DDM to Data</a> \n",
    "\n",
    "\n",
    "How do the parameters of the DDM map on to reaction times in lab experiments and real life decision-making?\n",
    "\n",
    "We have some hypothetical experimental data from different experimental conditions for you to analyze. In this task, subjects had to respond to the color or direction of moving stimuli. A cue would preceed each trial to indicate whether the trial was a color trial or direction trial.\n",
    "\n",
    "Conditions:\n",
    "\n",
    "A.\n",
    "\n",
    "1. In condition A1, subjects get no penalties for wrong answers.\n",
    "2. In condition A2, subjects get a penalty for responding incorrectly.\n",
    "\n",
    "B. \n",
    "\n",
    "3. In condition B1, subjects saw stimuli with high coherence, so all the stimuli were one color, or they were all moving in the same direction.\n",
    "4. In condition B2, subjects saw stimuli with low coherence, so the stimuli were composed of multiple colors, or they saw stimuli moving in multiple directions.\n",
    "\n",
    "\n",
    "Q1. Build a single path integrator (not analytic) that corresponds to one of the response options for A1.  Then build the analogue for A2, differing by only one parameter.   Do the same for B1 and B2 (the parameter distinguishing B1 and B2 should be different than for A1 and A2).  (When you are done you will have 4 integrators.) \n",
    "\n",
    "Q2. Run 100 iterations of each integrator until it meets threshold, and plot the resulting RT distributions. \n",
    "\n",
    "Q3. How do your RT distributions compare to the actual data (plotted for you below)?"
   ]
  },
  {
   "cell_type": "code",
   "metadata": {
    "id": "ZNJ_Bnu3clN_",
    "colab": {
     "base_uri": "https://localhost:8080/"
    },
    "outputId": "b5db5341-e6f1-4ef9-f6df-9016da42620f",
    "ExecuteTime": {
     "end_time": "2025-01-24T21:44:46.910336Z",
     "start_time": "2025-01-24T21:44:46.582938Z"
    }
   },
   "source": [
    "\n",
    "# This line will copy some data off github\n",
    "! git clone https://github.com/LenaRosendahl/lab7"
   ],
   "outputs": [
    {
     "name": "stdout",
     "output_type": "stream",
     "text": [
      "Cloning into 'lab7'...\r\n",
      "remote: Enumerating objects: 7, done.\u001B[K\r\n",
      "remote: Total 7 (delta 0), reused 0 (delta 0), pack-reused 7 (from 1)\u001B[K\r\n",
      "Receiving objects: 100% (7/7), 104.34 KiB | 8.03 MiB/s, done.\r\n",
      "Resolving deltas: 100% (2/2), done.\r\n"
     ]
    }
   ],
   "execution_count": 1
  },
  {
   "cell_type": "code",
   "metadata": {
    "id": "emaOyOTsd9wM",
    "colab": {
     "base_uri": "https://localhost:8080/"
    },
    "outputId": "4b64d900-eff3-4c90-fc4b-403aa1d4b766",
    "ExecuteTime": {
     "end_time": "2025-01-24T21:44:50.732151Z",
     "start_time": "2025-01-24T21:44:50.462963Z"
    }
   },
   "source": [
    "# These few lines will put you in the correct directory to access said data\n",
    "!pwd\n",
    "! ls\n",
    "% cd /content/lab7\n",
    "! pwd\n",
    "!ls\n"
   ],
   "outputs": [
    {
     "name": "stdout",
     "output_type": "stream",
     "text": [
      "/Users/younesstrittmatter/Documents/GitHub/younesStrittmatter/princeton/psyneulink-related/502B/book/content/Decision Making\r\n",
      "Lab7_Decision_Making.ipynb \u001B[34mlab7\u001B[m\u001B[m\r\n",
      "intro.md                   \u001B[34mnotebooks\u001B[m\u001B[m\r\n"
     ]
    },
    {
     "name": "stderr",
     "output_type": "stream",
     "text": [
      "UsageError: Line magic function `%` not found.\n"
     ]
    }
   ],
   "execution_count": 2
  },
  {
   "cell_type": "code",
   "metadata": {
    "id": "mW92oZ4wdI9J",
    "colab": {
     "base_uri": "https://localhost:8080/",
     "height": 545
    },
    "outputId": "5ca3ab1c-cc72-4585-a90e-0200203c4b79"
   },
   "source": [
    "A = pd.read_pickle('Penalties.pkl')\n",
    "B = pd.read_pickle('Coherence.pkl')\n",
    "\n",
    "Ax = A.rt[A.condition == 'ZeroPenalty']\n",
    "Ay = A.rt[A.condition == 'HighPenalty']\n",
    "bins = np.linspace(0, 5, 20) # (start, stop, number of bins)\n",
    "plt.hist([Ax, Ay], bins, alpha=0.5, label=['ZeroPenalty', 'HighPenalty'])\n",
    "plt.title('RT Frequency by Penalty')\n",
    "plt.legend(loc='upper right')\n",
    "plt.show()\n",
    "\n",
    "Bx = B.rt[B.condition == 'HighCoherence']\n",
    "By = B.rt[B.condition == 'LowCoherence']\n",
    "bins = np.linspace(0, 5, 20)\n",
    "plt.hist([Bx, By], bins, alpha=0.5, label=['HighCoherence', 'LowCoherence'])\n",
    "plt.title('RT Frequency by Coherence')\n",
    "plt.legend(loc='upper right')\n",
    "plt.show()\n",
    "\n"
   ],
   "outputs": [],
   "execution_count": null
  },
  {
   "cell_type": "code",
   "metadata": {
    "id": "y8P-ZfQbwAWW"
   },
   "source": [
    ""
   ],
   "outputs": [],
   "execution_count": null
  }
 ]
}

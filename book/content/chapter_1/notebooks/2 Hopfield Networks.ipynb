{
 "cells": [
  {
   "metadata": {},
   "cell_type": "markdown",
   "source": [
    "# Hopfield Networks\n",
    "\n",
    "## Introduction\n",
    "\n",
    "### Noisy Input and Perception: Hopfield Networks\n",
    "\n",
    "When you are looking out at the world through a rainstorm, your sense data are noisy with a messy distribution of water droplets partially obscuring your view at any given moment, but you are typically still able to recognize the landscape. Similarly, if you are walking through a forest on a sunny windy day the pattern of sunlight dancing on the forest floor makes your raw sense data fluctuate unpredictably, but you can still reliably recognize the path, plants, stones, etc. Sense data are often noisy, and Hopfield Networks ([Hopfield, 1982](https://doi.org/10.1073/pnas.79.8.2554)) can model how to reliably extract signal from and input of signal mixed with noise using associative nodes and thresholds."
   ],
   "id": "6628bc015120e22f"
  },
  {
   "metadata": {},
   "cell_type": "markdown",
   "source": [
    "## Code Examples\n",
    "\n",
    "### Installation & Setup"
   ],
   "id": "4208a4672b96d8fd"
  },
  {
   "metadata": {},
   "cell_type": "code",
   "outputs": [],
   "execution_count": null,
   "source": [
    "%%capture\n",
    "!pip install psyneulink"
   ],
   "id": "72d121ffd656b6ce"
  },
  {
   "metadata": {},
   "cell_type": "code",
   "outputs": [],
   "execution_count": null,
   "source": [
    "import numpy as np\n",
    "import matplotlib.pyplot as plt\n",
    "import psyneulink as pnl"
   ],
   "id": "5fa8f266df1aa380"
  },
  {
   "metadata": {},
   "cell_type": "markdown",
   "source": [
    "### Letter Recognition\n",
    "\n",
    "Here, we will perform pattern completion (i.e. associative memory) using a simple recurrent network. We will use a Hopfield network to recognize noisy versions of the letter \"A\" and \"Z\".\n",
    "\n",
    "First, we will create the patterns for the letters \"A\" and \"Z\". We will use a 5x5 grid to represent each letter."
   ],
   "id": "39ff7db869cf1d2a"
  }
 ],
 "metadata": {
  "kernelspec": {
   "display_name": "Python 3",
   "language": "python",
   "name": "python3"
  },
  "language_info": {
   "codemirror_mode": {
    "name": "ipython",
    "version": 2
   },
   "file_extension": ".py",
   "mimetype": "text/x-python",
   "name": "python",
   "nbconvert_exporter": "python",
   "pygments_lexer": "ipython2",
   "version": "2.7.6"
  }
 },
 "nbformat": 4,
 "nbformat_minor": 5
}

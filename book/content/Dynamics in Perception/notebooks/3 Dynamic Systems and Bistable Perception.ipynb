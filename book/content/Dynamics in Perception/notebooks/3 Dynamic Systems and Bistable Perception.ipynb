{
 "cells": [
  {
   "metadata": {},
   "cell_type": "markdown",
   "source": [
    "# Dynamic Systems and Bistable Perception\n",
    "\n",
    "## Introduction\n",
    "\n",
    "In the next section we are going to explore some **dynamics** of running a model, including how information flows and is modified over time.  We will be building up to a simple model of bistable perception for a figure that people can readily interpret in two different ways.\n",
    "\n",
    "![necker cube](https://raw.githubusercontent.com/younesStrittmatter/502B/refs/heads/main/book/content/Dynamics%20in%20Perception/assets/necker-cube.png)\n",
    "\n",
    "Two classic examples of bistable figures are the \"Duck Rabbit\" seen as either of two animals (but not usually both simultaneously), and the Necker Cube, where the face of the cube that you initially see as closest to you can alternatively be interpreted as farthest away from you.  We are going to work toward a Model of settling on one interpretation of the Necker Cube, after first exploring some simple dynamic models."
   ],
   "id": "16bc7d2df40f9730"
  },
  {
   "metadata": {},
   "cell_type": "markdown",
   "source": [
    "## Code Examples\n",
    "\n",
    "### Installation & Setup"
   ],
   "id": "83df81d6112c78c9"
  },
  {
   "metadata": {},
   "cell_type": "code",
   "outputs": [],
   "execution_count": null,
   "source": [
    "%%capture\n",
    "!pip install psyneulink"
   ],
   "id": "d8e9d0b0171403d1"
  },
  {
   "metadata": {
    "ExecuteTime": {
     "end_time": "2025-01-19T18:26:23.501699Z",
     "start_time": "2025-01-19T18:26:19.606122Z"
    }
   },
   "cell_type": "code",
   "source": [
    "import numpy as np\n",
    "import matplotlib.pyplot as plt\n",
    "import psyneulink as pnl"
   ],
   "id": "551a5670cbf13cf6",
   "outputs": [],
   "execution_count": 2
  },
  {
   "metadata": {},
   "cell_type": "markdown",
   "source": [
    "### Dynamics 1: Attractor State\n",
    "\n",
    "The following code creates a composition with two mechanisms that are mutually connected by weights of -1. The output of one mechanism is multiplied by -1 and given as the input to the next mechanism, in a repeating cycle. We can specify initial input values for each mechanism and watch it evolve over time.  \n",
    "\n",
    "This particular mechanism will evolve toward stable values of 1 and -1. The values 1 and -1 are determined by the difference between the initial inputs. If the inputs are X and Y, this system will always evolve to $+/-abs[X-Y]/4$ (plus & minus the absolute value of the difference between the two inputs, divided by 4).  Whichever mechanism receives the larger initial input evolves to the positive value, while the smaller initial input evolves to the negative value.     "
   ],
   "id": "73b16dcfb0d08e94"
  },
  {
   "metadata": {
    "ExecuteTime": {
     "end_time": "2025-01-19T18:49:28.084206Z",
     "start_time": "2025-01-19T18:49:27.503056Z"
    }
   },
   "cell_type": "code",
   "source": [
    "# Create a PsyNeuLink Composition\n",
    "comp_attract = pnl.Composition()\n",
    "\n",
    "# Create the first Transfer Mechanism (node)\n",
    "node_attract1 = pnl.TransferMechanism(\n",
    "    name='node_attract1',  # Name of the mechanism for identification in graphs and outputs.\n",
    "    function=pnl.Linear(slope=1, intercept=0),  # Linear function with a slope of 1 and no intercept.\n",
    "    integrator_mode=True,  # Enables integration of inputs over time (temporal smoothing).\n",
    "    integration_rate=.5,  # Smoothing factor for integration: balance between current and previous input.\n",
    "    default_variable=np.zeros((1,)),  # Default input format: a single scalar (vector of size 1).\n",
    ")\n",
    "\n",
    "# Create the second Transfer Mechanism (node)\n",
    "node_attract2 = pnl.TransferMechanism(\n",
    "    name='node_attract2',\n",
    "    function=pnl.Linear(slope=1, intercept=0),  # Linear transfer function (identity mapping here).\n",
    "    integrator_mode=True,  # Temporal smoothing enabled.\n",
    "    integration_rate=.5,  # Same integration rate as the first node.\n",
    "    default_variable=np.zeros((1,)),  # Default input format.\n",
    ")\n",
    "\n",
    "# Explanation of integration:\n",
    "# With integrator_mode=True, the current activation is calculated as:\n",
    "# (1 - integration_rate) * previous_value + integration_rate * current_input\n",
    "# The mechanism's function is applied to this smoothed value.\n",
    "\n",
    "# Define the connection weight from node 1 to node 2\n",
    "connect_a1_a2 = ([-1])  # Weight matrix for mapping from node_attract1 to node_attract2.\n",
    "\n",
    "# Define the connection weight from node 2 to node 1\n",
    "connect_a2_a1 = ([-1])  # Weight matrix for mapping from node_attract2 to node_attract1.\n",
    "\n",
    "# Create a MappingProjection from node_attract1 to node_attract2\n",
    "weights_a1_a2 = pnl.MappingProjection(\n",
    "    name='connect_a1_a2',  # Name of the projection for identification.\n",
    "    matrix=connect_a1_a2,  # Weight matrix for the connection.\n",
    ")\n",
    "\n",
    "# Create a MappingProjection from node_attract2 to node_attract1\n",
    "weights_a2_a1 = pnl.MappingProjection(\n",
    "    name='connect_a2_a1',  # Name of the projection for identification.\n",
    "    matrix=connect_a2_a1,  # Weight matrix for the connection.\n",
    ")\n",
    "\n",
    "# Add the nodes and projections to the composition as a circular pathway\n",
    "# This defines a loop where the output of each node influences the other\n",
    "comp_attract.add_linear_processing_pathway(\n",
    "    pathway=(node_attract1, weights_a1_a2, node_attract2, weights_a2_a1, node_attract1)\n",
    ")\n",
    "\n",
    "# Enable detailed reporting of output for both nodes\n",
    "node_attract1.reportOutputPref = True  # Output values will be reported during execution.\n",
    "node_attract2.reportOutputPref = True\n",
    "\n",
    "# Define inputs for each node over multiple trials\n",
    "# The inputs will influence the activation and learning behavior of the system\n",
    "input_a1 = 2  # Initial input to node_attract1.\n",
    "input_a2 = 6  # Initial input to node_attract2.\n",
    "\n",
    "input_dict = {\n",
    "    node_attract1: [input_a1] + [0] * 9,  # Input sequence for node_attract1.\n",
    "    node_attract2: [input_a2] + [0] * 9   # Input sequence for node_attract2.\n",
    "}\n",
    "\n",
    "# Execute the composition for a specified number of trials\n",
    "comp_attract.run(\n",
    "    inputs=input_dict,  # Provide the input sequences.\n",
    "    num_trials=10  # Number of trials to run.\n",
    ")\n",
    "\n",
    "# Visualize the graph of the composition\n",
    "comp_attract.show_graph(output_fmt='jupyter')  # This generates a graph showing the structure of the composition."
   ],
   "id": "4ac0299a55b7d4bd",
   "outputs": [
    {
     "data": {
      "image/svg+xml": "<?xml version=\"1.0\" encoding=\"UTF-8\" standalone=\"no\"?>\n<!DOCTYPE svg PUBLIC \"-//W3C//DTD SVG 1.1//EN\"\n \"http://www.w3.org/Graphics/SVG/1.1/DTD/svg11.dtd\">\n<!-- Generated by graphviz version 12.1.0 (20240811.2233)\n -->\n<!-- Title: Composition&#45;10 Pages: 1 -->\n<svg width=\"151pt\" height=\"346pt\"\n viewBox=\"0.00 0.00 150.84 345.59\" xmlns=\"http://www.w3.org/2000/svg\" xmlns:xlink=\"http://www.w3.org/1999/xlink\">\n<g id=\"graph0\" class=\"graph\" transform=\"scale(1 1) rotate(0) translate(4 341.59)\">\n<title>Composition&#45;10</title>\n<polygon fill=\"white\" stroke=\"none\" points=\"-4,4 -4,-341.59 146.84,-341.59 146.84,4 -4,4\"/>\n<text text-anchor=\"middle\" x=\"71.42\" y=\"-7.2\" font-family=\"Times,serif\" font-size=\"14.00\">Composition&#45;10</text>\n<!-- node_attract2&#45;9 -->\n<g id=\"node1\" class=\"node\">\n<title>node_attract2&#45;9</title>\n<ellipse fill=\"none\" stroke=\"brown\" stroke-width=\"3\" cx=\"71.42\" cy=\"-91.63\" rx=\"63.13\" ry=\"63.13\"/>\n<ellipse fill=\"none\" stroke=\"brown\" stroke-width=\"3\" cx=\"71.42\" cy=\"-91.63\" rx=\"67.13\" ry=\"67.13\"/>\n<text text-anchor=\"middle\" x=\"71.42\" y=\"-87.35\" font-family=\"arial\" font-size=\"12.00\">node_attract2&#45;9</text>\n</g>\n<!-- node_attract1&#45;10 -->\n<g id=\"node2\" class=\"node\">\n<title>node_attract1&#45;10</title>\n<ellipse fill=\"none\" stroke=\"brown\" stroke-width=\"3\" cx=\"71.42\" cy=\"-266.17\" rx=\"67.42\" ry=\"67.42\"/>\n<ellipse fill=\"none\" stroke=\"brown\" stroke-width=\"3\" cx=\"71.42\" cy=\"-266.17\" rx=\"71.42\" ry=\"71.42\"/>\n<text text-anchor=\"middle\" x=\"71.42\" y=\"-261.89\" font-family=\"arial\" font-size=\"12.00\">node_attract1&#45;10</text>\n</g>\n<!-- node_attract2&#45;9&#45;&gt;node_attract1&#45;10 -->\n<g id=\"edge1\" class=\"edge\">\n<title>node_attract2&#45;9&#45;&gt;node_attract1&#45;10</title>\n<path fill=\"none\" stroke=\"black\" d=\"M64.82,-159.83C64.7,-167.18 64.65,-174.73 64.67,-182.24\"/>\n<polygon fill=\"black\" stroke=\"black\" points=\"61.17,-182.1 64.75,-192.07 68.17,-182.05 61.17,-182.1\"/>\n</g>\n<!-- node_attract1&#45;10&#45;&gt;node_attract2&#45;9 -->\n<g id=\"edge2\" class=\"edge\">\n<title>node_attract1&#45;10&#45;&gt;node_attract2&#45;9</title>\n<path fill=\"none\" stroke=\"black\" d=\"M78.08,-193.59C78.17,-186.17 78.19,-178.6 78.14,-171.11\"/>\n<polygon fill=\"black\" stroke=\"black\" points=\"81.65,-171.3 78.04,-161.34 74.65,-171.38 81.65,-171.3\"/>\n</g>\n</g>\n</svg>\n",
      "text/plain": [
       "<graphviz.graphs.Digraph at 0x2b6a2ee90>"
      ]
     },
     "execution_count": 28,
     "metadata": {},
     "output_type": "execute_result"
    }
   ],
   "execution_count": 28
  },
  {
   "metadata": {},
   "cell_type": "markdown",
   "source": "We can plot the results over successive time steps to get a clearer sense of how the system evolves over time.  Compare the plot below to your understanding of how the system evolves.",
   "id": "6f4f9d94abb36cdf"
  },
  {
   "metadata": {
    "ExecuteTime": {
     "end_time": "2025-01-19T18:49:28.926335Z",
     "start_time": "2025-01-19T18:49:28.825586Z"
    }
   },
   "cell_type": "code",
   "source": [
    "print(np.shape(np.squeeze(comp_attract.results)))\n",
    "print(np.squeeze(comp_attract.results))\n",
    "plt.plot(np.squeeze(comp_attract.results))"
   ],
   "id": "778dc2df99055393",
   "outputs": [
    {
     "name": "stdout",
     "output_type": "stream",
     "text": [
      "(10, 2)\n",
      "[[ 1.  3.]\n",
      " [-1.  1.]\n",
      " [-1.  1.]\n",
      " [-1.  1.]\n",
      " [-1.  1.]\n",
      " [-1.  1.]\n",
      " [-1.  1.]\n",
      " [-1.  1.]\n",
      " [-1.  1.]\n",
      " [-1.  1.]]\n"
     ]
    },
    {
     "data": {
      "text/plain": [
       "[<matplotlib.lines.Line2D at 0x2b6ce4510>,\n",
       " <matplotlib.lines.Line2D at 0x2b6ce4890>]"
      ]
     },
     "execution_count": 29,
     "metadata": {},
     "output_type": "execute_result"
    },
    {
     "data": {
      "text/plain": [
       "<Figure size 640x480 with 1 Axes>"
      ],
      "image/png": "[encoded data removed]"
     },
     "metadata": {},
     "output_type": "display_data"
    }
   ],
   "execution_count": 29
  },
  {
   "metadata": {},
   "cell_type": "markdown",
   "source": [
    "How did the system evolve over time?\n",
    "\n",
    "To get a better, we can calculate the activations in each step by hand:\n",
    "\n",
    "Remember that the activation of each node is calculated as:\n",
    "\n",
    "$$\n",
    "act_{1}(t) &= (1 - integration\\_rate) * act_{1}(t-1) + integration\\_rate * input_{1} \\\\\n",
    "&= (1 - integration\\_rate) * act_{1}(t-1) + integration\\_rate * (input_{i, external} - act_{2}(t-1))\n",
    "$$\n",
    "\n",
    "$$\n",
    "act_{1}(t) &= (1 - integration\\_rate) * act_{1}(t-1) + integration\\_rate * input_{1} \\\\\n",
    "&= (1 - integration\\_rate) * act_{1}(t-1) + integration\\_rate * (input_{i, external} - act_{2}(t-1))\n",
    "$$\n",
    "\n",
    "\n",
    "##### Step 1\n",
    "\n",
    "$$\n",
    "act_{1}(1) &= (1 - integration\\_rate) * act_{1}(0) + integration\\_rate * (input_{i, external} - act_{2}(0)) \\\\\n",
    "&= (1 - 0.5) * 0 + 0.5 * (2 - 0) \\\\\n",
    "&= 1\n",
    "$$\n",
    "\n",
    "$$\n",
    "act_{2}(1) &= (1 - integration\\_rate) * act_{2}(0) + integration\\_rate * (input_{i, external} - act_{1}(0)) \\\\\n",
    "&= (1 - 0.5) * 0 + 0.5 * (6 - 0) \\\\\n",
    "&= 3\n",
    "$$\n",
    "\n",
    "##### Step 2\n",
    "\n",
    "$$\n",
    "act_{1}(2) &= (1 - integration\\_rate) * act_{1}(1) + integration\\_rate * (input_{i, external} - act_{2}(1)) \\\\\n",
    "&= (1 - 0.5) * 1 + 0.5 * (0 - 3) \\\\\n",
    "&= -1\n",
    "$$\n",
    "\n",
    "$$\n",
    "act_{2}(2) &= (1 - integration\\_rate) * act_{2}(1) + integration\\_rate * (input_{i, external} - act_{1}(1)) \\\\\n",
    "&= (1 - 0.5) * 3 + 0.5 * (0 - 1) \\\\\n",
    "&= 1\n",
    "$$\n",
    "\n",
    "##### Step 3\n",
    "\n",
    "$$\n",
    "act_{1}(3) &= (1 - integration\\_rate) * act_{1}(2) + integration\\_rate * (input_{i, external} - act_{2}(2)) \\\\\n",
    "&= (1 - 0.5) * -1 + 0.5 * (0 - 1) \\\\\n",
    "&= -1\n",
    "$$\n",
    "\n",
    "$$\n",
    "act_{2}(2) &= (1 - integration\\_rate) * act_{2}(1) + integration\\_rate * (input_{i, external} - act_{1}(1)) \\\\\n",
    "&= (1 - 0.5) * 1 + 0.5 * (0 - (-1)) \\\\\n",
    "&= 1\n",
    "$$\n",
    "\n",
    "So the system has stabilized at $act_{1} = -1$ and $act_{2} = 1$."
   ],
   "id": "b0db7d78dd2d470f"
  },
  {
   "metadata": {},
   "cell_type": "markdown",
   "source": [
    "\n",
    "Try to predict what happens if we change the input values of `node_attract1` and `node_attract2`.\n",
    "\n",
    "In the previous cell, we executed the system 10 times (`num_trials = 10`), with initial input values specified as `input_a1 = 6` and `input_a2 = 2`, and all subsequent input values set equal to `0` in the input_dict. What happens if you set all the subsequent input values to `1` instead of `0`?"
   ],
   "id": "e271200d7d3e714b"
  },
  {
   "metadata": {
    "ExecuteTime": {
     "end_time": "2025-01-19T19:37:00.583918Z",
     "start_time": "2025-01-19T19:37:00.427067Z"
    }
   },
   "cell_type": "code",
   "source": [
    "# Reset the composition ensuring that the results are cleared.\n",
    "comp_attract.reset(clear_results=True)\n",
    "\n",
    "input_dict = {\n",
    "    node_attract1: [input_a1] + [1] * 9,  # Input sequence for node_attract1.\n",
    "    node_attract2: [input_a2] + [1] * 9,  # Input sequence for node_attract2.\n",
    "}\n",
    "\n",
    "comp_attract.run(\n",
    "    inputs=input_dict,\n",
    "    num_trials=10\n",
    ")\n",
    "\n",
    "print(np.shape(np.squeeze(comp_attract.results)))\n",
    "print(np.squeeze(comp_attract.results))\n",
    "plt.plot(np.squeeze(comp_attract.results))"
   ],
   "id": "869dee3c55028637",
   "outputs": [
    {
     "name": "stdout",
     "output_type": "stream",
     "text": [
      "(10, 2)\n",
      "[[ 1.   3. ]\n",
      " [-0.5  1.5]\n",
      " [-0.5  1.5]\n",
      " [-0.5  1.5]\n",
      " [-0.5  1.5]\n",
      " [-0.5  1.5]\n",
      " [-0.5  1.5]\n",
      " [-0.5  1.5]\n",
      " [-0.5  1.5]\n",
      " [-0.5  1.5]]\n"
     ]
    },
    {
     "data": {
      "text/plain": [
       "[<matplotlib.lines.Line2D at 0x2b70d0ed0>,\n",
       " <matplotlib.lines.Line2D at 0x2b70d1210>]"
      ]
     },
     "execution_count": 37,
     "metadata": {},
     "output_type": "execute_result"
    },
    {
     "data": {
      "text/plain": [
       "<Figure size 640x480 with 1 Axes>"
      ],
      "image/png": "[encoded data removed]"
     },
     "metadata": {},
     "output_type": "display_data"
    }
   ],
   "execution_count": 37
  },
  {
   "metadata": {},
   "cell_type": "markdown",
   "source": [
    "### Exercise 1\n",
    "\n",
    "Explain the behavior of the system when the subsequent input values are set to `1` instead of `0`.\n",
    "\n",
    "<details><summary><b>Solution</b></summary>\n",
    "\n",
    "When the subsequent input values are set to `1` instead of `0` for both attractors, the system will evolve to a stable state where the output of `node_attract1` is `-0.5` and the output of `node_attract2` is `1.5`. With a constant input of `1` for both nodes, the stable state shifts `integration_rate` * `constant_input`. The relative difference between the two nodes remains the same, but the absolute values of the outputs are shifted by the constant input value.\n",
    "\n",
    "</details>"
   ],
   "id": "1059e8b49252202f"
  },
  {
   "metadata": {},
   "cell_type": "markdown",
   "source": [
    "\n",
    "Try to predict what happens if we change the functions in the `TransferMechanisms` from Linear to Logistic (with default parameters, `gain = 1`, `bias = 0`, `offset = 0)`?"
   ],
   "id": "2ba8ac32cc90d81b"
  },
  {
   "metadata": {
    "ExecuteTime": {
     "end_time": "2025-01-19T20:09:41.837809Z",
     "start_time": "2025-01-19T20:09:41.263777Z"
    }
   },
   "cell_type": "code",
   "source": [
    "# Create a PsyNeuLink Composition\n",
    "comp_attract = pnl.Composition()\n",
    "\n",
    "# Create the first Transfer Mechanism with Logistic function\n",
    "node_attract1 = pnl.TransferMechanism(\n",
    "    name='node_attract1',  \n",
    "    function=pnl.Logistic(gain=1, bias=0, offset=0),  # Logistic function with a gain of 1 and no bias and offset.\n",
    "    integrator_mode=True,\n",
    "    integration_rate=.5,\n",
    "    default_variable=np.zeros((1,)),\n",
    ")\n",
    "\n",
    "# Create the second Transfer Mechanism with Logistic function\n",
    "node_attract2 = pnl.TransferMechanism(\n",
    "    name='node_attract2',\n",
    "    function=pnl.Logistic(gain=1, bias=0, offset=0),  # Logistic function with a gain of 1 and no bias and offset.\n",
    "    integrator_mode=True,\n",
    "    integration_rate=.5,\n",
    "    default_variable=np.zeros((1,)),\n",
    ")\n",
    "\n",
    "# Create the Connection Weights\n",
    "connect_a1_a2 = ([-1])\n",
    "connect_a2_a1 = ([-1]) \n",
    "\n",
    "# Create the Mapping Projections\n",
    "weights_a1_a2 = pnl.MappingProjection(\n",
    "    name='connect_a1_a2',\n",
    "    matrix=connect_a1_a2,\n",
    ")\n",
    "weights_a2_a1 = pnl.MappingProjection(\n",
    "    name='connect_a2_a1',\n",
    "    matrix=connect_a2_a1,\n",
    ")\n",
    "\n",
    "# Add the nodes and projections to the composition\n",
    "comp_attract.add_linear_processing_pathway(\n",
    "    pathway=(node_attract1, weights_a1_a2, node_attract2, weights_a2_a1, node_attract1)\n",
    ")\n",
    "\n",
    "# Enable detailed reporting of output for both nodes\n",
    "node_attract1.reportOutputPref = True\n",
    "node_attract2.reportOutputPref = True\n",
    "\n",
    "# Define inputs for each node over multiple trials\n",
    "input_a1 = 2  # Initial input to node_attract1.\n",
    "input_a2 = 6  # Initial input to node_attract2.\n",
    "\n",
    "input_dict = {\n",
    "    node_attract1: [input_a1] + [0] * 9,  # Input sequence for node_attract1.\n",
    "    node_attract2: [input_a2] + [0] * 9,  # Input sequence for node_attract2.\n",
    "}\n",
    "\n",
    "# Execute the composition for a specified number of trials\n",
    "comp_attract.run(\n",
    "    inputs=input_dict,\n",
    "    num_trials=len(input_dict[node_attract1])\n",
    ")\n",
    "\n",
    "# Plot the output\n",
    "print(np.shape(np.squeeze(comp_attract.results)))\n",
    "print(np.squeeze(comp_attract.results))\n",
    "plt.plot(np.squeeze(comp_attract.results))"
   ],
   "id": "bd96840b98eff51",
   "outputs": [
    {
     "name": "stdout",
     "output_type": "stream",
     "text": [
      "(10, 2)\n",
      "[[0.6791787  0.96267311]\n",
      " [0.47344088 0.87702877]\n",
      " [0.37949726 0.77189018]\n",
      " [0.34710558 0.68981535]\n",
      " [0.34055973 0.63949682]\n",
      " [0.34295599 0.61227146]\n",
      " [0.34723619 0.59866679]\n",
      " [0.35093349 0.59232246]\n",
      " [0.35351354 0.58958597]\n",
      " [0.35512006 0.58852807]]\n"
     ]
    },
    {
     "data": {
      "text/plain": [
       "[<matplotlib.lines.Line2D at 0x17038e210>,\n",
       " <matplotlib.lines.Line2D at 0x17038e490>]"
      ]
     },
     "execution_count": 44,
     "metadata": {},
     "output_type": "execute_result"
    },
    {
     "data": {
      "text/plain": [
       "<Figure size 640x480 with 1 Axes>"
      ],
      "image/png": "[encoded data removed]"
     },
     "metadata": {},
     "output_type": "display_data"
    }
   ],
   "execution_count": 44
  },
  {
   "metadata": {},
   "cell_type": "markdown",
   "source": [
    "### Exercise 2\n",
    "\n",
    "Write down the equation for activation of the node `node_attract1` with the Logistic function.\n",
    "\n",
    "<details><summary><b>Solution</b></summary>\n",
    "\n",
    "The activation of `node_attract1` with the Logistic function is calculated as:\n",
    "\n",
    "with the logistic function:\n",
    "\n",
    "$$\n",
    "f(x) = \\frac{1}{1 + e^{-gain * (x - bias)}} + offset\n",
    "$$\n",
    "\n",
    "the activation of `node_attract1` is:\n",
    "\n",
    "$$\n",
    "act_{1}(t) $= (1 - integration\\_rate) * act_{1}(t-1) + integration\\_rate * f(input_{1} - act_{2}(t-1))\n",
    "$$\n",
    "\n",
    "with gain = 1, bias = 0, and offset = 0:\n",
    "\n",
    "$$\n",
    "act_{1}(t) = (1 - integration\\_rate) * act_{1}(t-1) + integration\\_rate * \\frac{1}{1 + e^{-(input_{1} - act_{2}(t-1))}}\n",
    "$$\n",
    "\n",
    "</details>\n"
   ],
   "id": "11cdc993fab66ae2"
  },
  {
   "metadata": {},
   "cell_type": "code",
   "outputs": [],
   "execution_count": null,
   "source": "# TODO: Add Necker cube and exercise",
   "id": "16301c418ad0b5c1"
  }
 ],
 "metadata": {
  "kernelspec": {
   "display_name": "Python 3",
   "language": "python",
   "name": "python3"
  },
  "language_info": {
   "codemirror_mode": {
    "name": "ipython",
    "version": 2
   },
   "file_extension": ".py",
   "mimetype": "text/x-python",
   "name": "python",
   "nbconvert_exporter": "python",
   "pygments_lexer": "ipython2",
   "version": "2.7.6"
  }
 },
 "nbformat": 4,
 "nbformat_minor": 5
}

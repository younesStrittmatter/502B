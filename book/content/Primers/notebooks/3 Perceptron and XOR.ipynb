{
 "cells": [
  {
   "metadata": {},
   "cell_type": "markdown",
   "source": [
    "# Perceptron and XOR\n",
    "\n",
    "##  Introduction\n",
    "\n",
    "To first approximation, activity of a neuron in the brain is determined by the integration of excitatory and inhibitory impulses received by its dendrites and passed to the cell body. If excitatory signals outweigh inhibitory signals sufficiently to pass a threshold, the neuron will fire, sending out an action potential via its axon.  \n",
    "  \n",
    "\n",
    "Artificial neurons were conceived to behave in a similar manner to real ones. Early artifical neurons were dubbed perceptrons; they received multiple binary inputs, multiplied each one by an appropriate “weight”, added them together (this should sound familiar), and produced a single binary output that depends on whether the sum passes a certain threshold.  In short, they applied a step function to the transformed input.  This is referred to as an LBF (linear basis function) activation function.  \n",
    "  \n",
    "![LBF](https://younesstrittmatter.github.io/502B/_static/images/lbf_perceptron.html)\n",
    "  \n",
    "If we define the threshold $ \\equiv-b $, then we can rewrite our conditional output  \n",
    "  \n",
    "\\begin{equation}\n",
    " output=\n",
    "\\begin{cases}\n",
    " 0 & if \\: w \\cdot x + b \\leq 0\n",
    "\\\\\n",
    "1  & if \\: w \\cdot x + b >  0\n",
    "\\end{cases}\n",
    "\\end{equation}  \n",
    "  \n",
    "The term $b$ is called a bias, and perceptrons are a special kind of linear classifier called a binary classifier. It is known as a binary classifier because it is assigning one of two labels (the binary output) to the inputs it receives, according to their dot product with the weights (a linear operation). The line defined by $ w \\cdot x+b=0 $ is the line that separates the classes from each other. Our “red square, blue circle” class example from earlier in the lab is an example of binarily classifiable data.  \n",
    "  \n",
    "![multilayer ffn](https://younesstrittmatter.github.io/502B/_static/images/multilayer_ffn.html)  \n",
    "  \n",
    "In a multilayer feedforward network, artificial neurons are clustered into layers, where the output of one layer forms the input of the next. The first layer is known as the input layer, the last is the output layer, and the operational layers, where the dot products are computed, are called “hidden layers”.\n",
    "\n",
    "Binary classification is simple but powerful. We will show this by using them to construct a set of logic gates."
   ],
   "id": "ea1be4183f9d8c51"
  },
  {
   "metadata": {},
   "cell_type": "markdown",
   "source": [
    "## Code Examples\n",
    "\n",
    "### Installation and Setup\n",
    "\n"
   ],
   "id": "20034bcc17269812"
  },
  {
   "metadata": {},
   "cell_type": "code",
   "outputs": [],
   "execution_count": null,
   "source": "!pip install psyneulink",
   "id": "569b0ad66e915ffc"
  },
  {
   "metadata": {
    "ExecuteTime": {
     "end_time": "2025-01-21T20:29:59.725208Z",
     "start_time": "2025-01-21T20:29:59.445032Z"
    }
   },
   "cell_type": "code",
   "source": [
    "import numpy as np\n",
    "import matplotlib.pyplot as plt"
   ],
   "id": "42ee689b2e822a7d",
   "outputs": [],
   "execution_count": 2
  },
  {
   "metadata": {},
   "cell_type": "markdown",
   "source": [
    "### AND\n",
    "\n",
    "An AND gate is a logic gate that answers the question, “are A and B both simultaneously true?”. The value 1 corresponds to True, and the value 0 corresponds to False.\n",
    "\n",
    "First, let's define a training set that includes all possible input combinations of the  boolean values True (`1`) and False (`0`) and their corresponding labels. Remember, AND(X, Y) is true if and only if both X and Y are true."
   ],
   "id": "a1166245100c1c59"
  },
  {
   "metadata": {
    "ExecuteTime": {
     "end_time": "2025-01-21T20:30:42.931707Z",
     "start_time": "2025-01-21T20:30:42.851938Z"
    }
   },
   "cell_type": "code",
   "source": [
    "# Create the input set\n",
    "input_set = np.array([[0, 0], [0, 1], [1, 0], [1, 1]])\n",
    "input_set = input_set.T\n",
    "n_combos = np.shape(input_set)[1]\n",
    "ub = np.max(abs(input_set))\n",
    "lb = - ub\n",
    "\n",
    "# Create the labels\n",
    "and_labels = np.array([0, 0, 0, 1])\n",
    "and_labels.shape = (1, n_combos)\n",
    "\n",
    "plt.figure()\n",
    "plt.title('Boolean Matrix')\n",
    "plt.xticks(np.arange(0, n_combos))\n",
    "plt.yticks(np.arange(0, 2))\n",
    "plt.imshow(input_set, cmap='RdBu_r', vmin=lb, vmax=ub)\n",
    "plt.colorbar()\n",
    "plt.show()\n"
   ],
   "id": "5739e8148c0e008e",
   "outputs": [
    {
     "data": {
      "text/plain": [
       "<Figure size 640x480 with 2 Axes>"
      ],
      "image/png": "[encoded data removed]"
     },
     "metadata": {},
     "output_type": "display_data"
    }
   ],
   "execution_count": 6
  },
  {
   "metadata": {},
   "cell_type": "markdown",
   "source": [
    "#### Learning the Weights\n",
    "\n",
    "For a simple gate like this, we could choose our weights and bias manually to correctly classify each example. However, we would rather the perceptron learn the weights itself. We can train it using supervised learning by showing it examples of the data with the appropriate labels (a truth table). If the weights were initialized randomly, these will generate a random answer at first, so the perceptron must change its weights when its output does not match the labels we gave it. \n",
    "  \n",
    "For perceptrons, we use error-based learning, where the weights are adjusted in the correct direction, based on the size and direction of the error. This is given by the Perceptron Learning Rule, and is written mathematically as:  \n",
    "\n",
    "$$\n",
    "\\begin{equation}\n",
    "w_{ij} \\rightarrow w_{ij}+ \\eta (desired \\ label - predicted \\ label) in_{i}\n",
    "\\end{equation}\n",
    "$$\n",
    "\n",
    "Where $w_{ij}$ is the weight connecting the $i-th$ input to the $j-th$ output, $in_{i}$ is the $i{th}$ input, and $ \\eta $ is the learning rate. The learning rate is a positive parameter that determines the size of the weight update."
   ],
   "id": "206ec195780d2073"
  },
  {
   "metadata": {
    "ExecuteTime": {
     "end_time": "2025-01-21T21:10:55.154196Z",
     "start_time": "2025-01-21T21:10:55.094657Z"
    }
   },
   "cell_type": "code",
   "source": [
    "# Set a random seed for reproducibility\n",
    "np.random.seed(42)\n",
    "\n",
    "# Initializing the weights with random values.\n",
    "w = np.random.rand(1, 2) * .1\n",
    "\n",
    "# Set the bia and learning rate\n",
    "b = -1\n",
    "eta = np.array([.3, .3])\n",
    "\n",
    "# Variables to store the accuracy and loop count\n",
    "accuracy = 0\n",
    "loop_count = 0\n",
    "acc_vec = []\n",
    "\n",
    "while accuracy < 100:\n",
    "    summed_accuracy = 0\n",
    "    # Calculate the predicted value for each input and learn the weights \n",
    "    for i in range(np.shape(input_set)[1]):\n",
    "        # Set the predicted label to 0 if the predicted value is less than or equal to 0 \n",
    "        # and 1 otherwise\n",
    "        if w @ input_set[:, i] + b <= 0:\n",
    "            predicted_label = 0\n",
    "        else:\n",
    "            predicted_label = 1\n",
    "        # Check if the predicted label is correct\n",
    "        if predicted_label == and_labels[:, i]:\n",
    "            # Summing the accuracy\n",
    "            summed_accuracy = summed_accuracy + 100\n",
    "        else:\n",
    "            diff = (and_labels[:, i] - predicted_label)\n",
    "            # Update the weights if the predicted label is incorrect\n",
    "            w = w + eta * diff * input_set[:, i].T\n",
    "    accuracy = int(summed_accuracy / n_combos)\n",
    "    acc_vec = np.append(acc_vec, accuracy)\n",
    "    loop_count = loop_count + 1\n",
    "lc = loop_count\n",
    "\n",
    "# Plot the accuracy over time\n",
    "plt.figure()\n",
    "plt.plot(acc_vec)\n",
    "plt.title('Accuracy V. Loop Number')\n",
    "plt.xlabel('Loop Number')\n",
    "plt.ylabel('Accuracy')\n",
    "plt.xticks(np.arange(0, int(lc)))\n",
    "plt.yticks([0, 25, 50, 75, 100])\n",
    "plt.show()"
   ],
   "id": "9664167d251ecd98",
   "outputs": [
    {
     "data": {
      "text/plain": [
       "<Figure size 640x480 with 1 Axes>"
      ],
      "image/png": "[encoded data removed]"
     },
     "metadata": {},
     "output_type": "display_data"
    }
   ],
   "execution_count": 31
  },
  {
   "metadata": {},
   "cell_type": "markdown",
   "source": [
    "### Exercise 1\n",
    "\n",
    "Implement the OR gate using the perceptron learning rule. The OR gate is a logic gate that answers the question, “is A or B true?”. Remember, OR(X, Y) is true if either X or Y (or both) are true."
   ],
   "id": "3a0015e06d0ecb7b"
  },
  {
   "metadata": {},
   "cell_type": "code",
   "outputs": [],
   "execution_count": null,
   "source": "# Implement your code here",
   "id": "aa692ba329eecd66"
  },
  {
   "metadata": {},
   "cell_type": "markdown",
   "source": [
    "<details><summary><b>Solution</b></summary>\n",
    "\n",
    "```python\n",
    "# We can use the same input_set but use different labels\n",
    "or_labels = np.array([0, 1, 1, 1])\n",
    "or_labels.shape = (1, n_combos)\n",
    "\n",
    "# Set a random seed for reproducibility\n",
    "np.random.seed(42)\n",
    "\n",
    "# Initializing the weights with random values.\n",
    "w = np.random.rand(1, 2) * .1\n",
    "\n",
    "\n",
    "# Set the bia and learning rate\n",
    "b = -1\n",
    "eta = np.array([.3, .3])\n",
    "\n",
    "# Variables to store the accuracy and loop count\n",
    "accuracy = 0\n",
    "loop_count = 0\n",
    "acc_vec = []\n",
    "\n",
    "while accuracy < 100:\n",
    "    summed_accuracy = 0\n",
    "    # Calculate the predicted value for each input and learn the weights \n",
    "    for i in range(np.shape(input_set)[1]):\n",
    "        # Set the predicted label to 0 if the predicted value is less than or equal to 0 \n",
    "        # and 1 otherwise\n",
    "        if w @ input_set[:, i] + b <= 0:\n",
    "            predicted_label = 0\n",
    "        else:\n",
    "            predicted_label = 1\n",
    "        # Check if the predicted label is correct\n",
    "        if predicted_label == or_labels[:, i]:\n",
    "            # Summing the accuracy\n",
    "            summed_accuracy = summed_accuracy + 100\n",
    "        else:\n",
    "            diff = (or_labels[:, i] - predicted_label)\n",
    "            # Update the weights if the predicted label is incorrect\n",
    "            w = w + eta * diff * input_set[:, i].T\n",
    "    accuracy = int(summed_accuracy / n_combos)\n",
    "    acc_vec = np.append(acc_vec, accuracy)\n",
    "    loop_count = loop_count + 1\n",
    "lc = loop_count\n",
    "\n",
    "# Plot the accuracy over time\n",
    "plt.figure()\n",
    "plt.plot(acc_vec)\n",
    "plt.title('Accuracy V. Loop Number')\n",
    "plt.xlabel('Loop Number')\n",
    "plt.ylabel('Accuracy')\n",
    "plt.xticks(np.arange(0, int(lc)))\n",
    "plt.yticks([0, 25, 50, 75, 100])\n",
    "plt.show()\n",
    "```\n",
    "\n",
    "</details>\n"
   ],
   "id": "261a846b45ce1ba8"
  },
  {
   "metadata": {},
   "cell_type": "code",
   "outputs": [],
   "execution_count": null,
   "source": "",
   "id": "6ffe64bd112728a"
  }
 ],
 "metadata": {
  "kernelspec": {
   "display_name": "Python 3",
   "language": "python",
   "name": "python3"
  },
  "language_info": {
   "codemirror_mode": {
    "name": "ipython",
    "version": 2
   },
   "file_extension": ".py",
   "mimetype": "text/x-python",
   "name": "python",
   "nbconvert_exporter": "python",
   "pygments_lexer": "ipython2",
   "version": "2.7.6"
  }
 },
 "nbformat": 4,
 "nbformat_minor": 5
}

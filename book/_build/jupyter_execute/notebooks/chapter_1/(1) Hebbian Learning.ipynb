{
 "cells": [
  {
   "cell_type": "markdown",
   "id": "4091fb01358f1bd",
   "metadata": {},
   "source": [
    "# Hebbian Learning\n",
    "\n",
    "## The Ubiquity of Associations\n",
    "\n",
    "How do you learn to associate things that occur together?\n",
    "\n",
    "- Peaches and ____________?\n",
    "- Cause and ____________?\n",
    "- Law and ____________?\n",
    "- Sooner or ____________?\n",
    "- Jack and ____________ went up ______ ____________ ?\n",
    "\n",
    "<details>\n",
    "<summary>Answers</summary>\n",
    "\n",
    "- Peaches and cream\n",
    "- Cause and effect\n",
    "- Law and order\n",
    "- Sooner or later\n",
    "- Jack and Jill went up the hill\n",
    "\n",
    "</details>\n",
    "\n",
    "You can automatically fill in most or all of the blanks using associations you have learned in the past. Associations are everywhere in cognition. You learn to associate all the different properties of individual objects, all the objects that make up familiar scenes, and generally any groups of people, properties and/or things that tend to co-occur.\n",
    "\n",
    "When you simply look at your laptop you know about its weight, texture, range of likely temperatures, approximately how long the battery will operate before dying, and lots of other associated details. When you see only the top of a chair on the other side of a solid table you automatically infer details about the rest of the chair that is out of sight - the top part of the chair that you see is strongly associated with the rest of a representation of a chair. \n",
    "\n",
    "What do you expect to see in the waiting room of a doctor's office? As each detail comes to mind it triggers associations to other details: chairs to sit in while you wait -> coffee table -> magazines -> Oprah magazine, Sports illustrated, The Economist -> cheap art on walls -> laminate flooring -> hand sanitizer -> clip boards with forms -> etc. \n",
    "When you see lightning, what do you expect to hear? Associations can build up in *temporal proximity* (events occurring together in time, like lightning and thunder) as well as *spatial proximity* (objects that co-occur in space, like a chair and a table). Your stream of consciousness is partly built out of strong and weak associations. \n",
    "\n",
    "How does the brain learn associations in the first place?\n",
    "\n",
    "## A Theory of Learning\n",
    "Perhaps the most influential early theory in neuroscience is about learning associations, summarized as: \"Neurons that fire together, wire together.\" The theory was advanced in great detail by Donald Hebb in 1949, who stated, \"The general idea is an old one, that any two cells or systems of cells that are repeatedly active at the same time will tend to become 'associated', so that activity in one facilitates activity in the other,\" and it is now called Hebbian Learning. It is an elegant theory because it is both simple and has the potential to explain a huge amount of psychological and neuroscientific data. And it is also a mechanistic theory that we can explore by building models.\n",
    "\n",
    "## Unsupervised Learning\n",
    "Hebbian learning is a type of *unsupervised learning* because it is able to extract structure from data without using feedback.  There are no answers provided in unsupervised learning, only an acquired representation of structure present in the data. In contrast, *supervised learning* usually involves a decision that can be correct or incorrect (e.g. Is this a picture of a dog or a cat?), and uses training and feedback to improve accuracy. Subsequent labs will explore supervised learning in detail. \n",
    "\n",
    "\\\\TODO: Add link to supervised learning lab or delete this paragraph"
   ]
  },
  {
   "cell_type": "markdown",
   "id": "b6a94da5092ef9e4",
   "metadata": {},
   "source": [
    "## Overview \n",
    "### concepts: \n",
    "Feature encoding \\\\\n",
    "Correlation matrices \\\\\n",
    "Simple Hebbian learning \\\\\n",
    "Hebbian learning with pruning \\\\\n",
    "Necker cubes \\\\\n",
    "\n",
    "### tools: \n",
    "Matrix multiplication \\\\\n",
    "Recurrent transfer mechanisms \\\\"
   ]
  },
  {
   "cell_type": "markdown",
   "id": "a94a60f9442af6a9",
   "metadata": {},
   "source": [
    "## Installation"
   ]
  },
  {
   "cell_type": "code",
   "execution_count": 1,
   "id": "bcd4d8923c92e5e3",
   "metadata": {},
   "outputs": [
    {
     "name": "stdout",
     "output_type": "stream",
     "text": [
      "Requirement already satisfied: psyneulink in /Users/younesstrittmatter/Documents/GitHub/younesStrittmatter/princeton/psyneulink-related/502B/.venv/lib/python3.11/site-packages (0.15.3.0)\r\n",
      "Requirement already satisfied: beartype<0.20.0 in /Users/younesstrittmatter/Documents/GitHub/younesStrittmatter/princeton/psyneulink-related/502B/.venv/lib/python3.11/site-packages (from psyneulink) (0.19.0)\r\n",
      "Requirement already satisfied: dill<0.3.10 in /Users/younesstrittmatter/Documents/GitHub/younesStrittmatter/princeton/psyneulink-related/502B/.venv/lib/python3.11/site-packages (from psyneulink) (0.3.9)\r\n",
      "Requirement already satisfied: fastkde<2.0.2,>=2.0.0 in /Users/younesstrittmatter/Documents/GitHub/younesStrittmatter/princeton/psyneulink-related/502B/.venv/lib/python3.11/site-packages (from psyneulink) (2.0.1)\r\n",
      "Requirement already satisfied: graph-scheduler<1.3.0,>=1.2.1 in /Users/younesstrittmatter/Documents/GitHub/younesStrittmatter/princeton/psyneulink-related/502B/.venv/lib/python3.11/site-packages (from psyneulink) (1.2.2)\r\n",
      "Requirement already satisfied: graphviz<0.21.0 in /Users/younesstrittmatter/Documents/GitHub/younesStrittmatter/princeton/psyneulink-related/502B/.venv/lib/python3.11/site-packages (from psyneulink) (0.20.3)\r\n",
      "Requirement already satisfied: grpcio<1.69.0 in /Users/younesstrittmatter/Documents/GitHub/younesStrittmatter/princeton/psyneulink-related/502B/.venv/lib/python3.11/site-packages (from psyneulink) (1.68.1)\r\n",
      "Requirement already satisfied: leabra-psyneulink<0.3.3 in /Users/younesstrittmatter/Documents/GitHub/younesStrittmatter/princeton/psyneulink-related/502B/.venv/lib/python3.11/site-packages (from psyneulink) (0.3.2)\r\n",
      "Requirement already satisfied: llvmlite<0.44 in /Users/younesstrittmatter/Documents/GitHub/younesStrittmatter/princeton/psyneulink-related/502B/.venv/lib/python3.11/site-packages (from psyneulink) (0.43.0)\r\n",
      "Requirement already satisfied: matplotlib<3.7.6 in /Users/younesstrittmatter/Documents/GitHub/younesStrittmatter/princeton/psyneulink-related/502B/.venv/lib/python3.11/site-packages (from psyneulink) (3.7.5)\r\n",
      "Requirement already satisfied: networkx<3.5 in /Users/younesstrittmatter/Documents/GitHub/younesStrittmatter/princeton/psyneulink-related/502B/.venv/lib/python3.11/site-packages (from psyneulink) (3.4.2)\r\n",
      "Requirement already satisfied: numpy<1.26.5,>=1.21.0 in /Users/younesstrittmatter/Documents/GitHub/younesStrittmatter/princeton/psyneulink-related/502B/.venv/lib/python3.11/site-packages (from psyneulink) (1.26.4)\r\n",
      "Requirement already satisfied: optuna<4.2.0 in /Users/younesstrittmatter/Documents/GitHub/younesStrittmatter/princeton/psyneulink-related/502B/.venv/lib/python3.11/site-packages (from psyneulink) (4.1.0)\r\n",
      "Requirement already satisfied: packaging<25.0 in /Users/younesstrittmatter/Documents/GitHub/younesStrittmatter/princeton/psyneulink-related/502B/.venv/lib/python3.11/site-packages (from psyneulink) (24.2)\r\n",
      "Requirement already satisfied: pandas<2.2.4 in /Users/younesstrittmatter/Documents/GitHub/younesStrittmatter/princeton/psyneulink-related/502B/.venv/lib/python3.11/site-packages (from psyneulink) (2.2.3)\r\n",
      "Requirement already satisfied: pillow<11.1.0 in /Users/younesstrittmatter/Documents/GitHub/younesStrittmatter/princeton/psyneulink-related/502B/.venv/lib/python3.11/site-packages (from psyneulink) (11.0.0)\r\n",
      "Requirement already satisfied: pint<0.22.0 in /Users/younesstrittmatter/Documents/GitHub/younesStrittmatter/princeton/psyneulink-related/502B/.venv/lib/python3.11/site-packages (from psyneulink) (0.21.1)\r\n",
      "Requirement already satisfied: protobuf<3.20.4 in /Users/younesstrittmatter/Documents/GitHub/younesStrittmatter/princeton/psyneulink-related/502B/.venv/lib/python3.11/site-packages (from psyneulink) (3.20.2)\r\n",
      "Requirement already satisfied: rich<10.13,>=10.1 in /Users/younesstrittmatter/Documents/GitHub/younesStrittmatter/princeton/psyneulink-related/502B/.venv/lib/python3.11/site-packages (from psyneulink) (10.12.0)\r\n",
      "Requirement already satisfied: scipy<1.15,>=1.7.3 in /Users/younesstrittmatter/Documents/GitHub/younesStrittmatter/princeton/psyneulink-related/502B/.venv/lib/python3.11/site-packages (from psyneulink) (1.14.1)\r\n",
      "Requirement already satisfied: toposort<1.11 in /Users/younesstrittmatter/Documents/GitHub/younesStrittmatter/princeton/psyneulink-related/502B/.venv/lib/python3.11/site-packages (from psyneulink) (1.10)\r\n",
      "Requirement already satisfied: modeci-mdf<0.5,>=0.4.3 in /Users/younesstrittmatter/Documents/GitHub/younesStrittmatter/princeton/psyneulink-related/502B/.venv/lib/python3.11/site-packages (from psyneulink) (0.4.10)\r\n",
      "Requirement already satisfied: torch<2.6.0,>=1.10.0 in /Users/younesstrittmatter/Documents/GitHub/younesStrittmatter/princeton/psyneulink-related/502B/.venv/lib/python3.11/site-packages (from psyneulink) (2.5.1)\r\n",
      "Requirement already satisfied: xarray in /Users/younesstrittmatter/Documents/GitHub/younesStrittmatter/princeton/psyneulink-related/502B/.venv/lib/python3.11/site-packages (from fastkde<2.0.2,>=2.0.0->psyneulink) (2025.1.1)\r\n",
      "Requirement already satisfied: bokeh>=0.12.6 in /Users/younesstrittmatter/Documents/GitHub/younesStrittmatter/princeton/psyneulink-related/502B/.venv/lib/python3.11/site-packages (from leabra-psyneulink<0.3.3->psyneulink) (3.6.2)\r\n",
      "Requirement already satisfied: ipywidgets>=7.0 in /Users/younesstrittmatter/Documents/GitHub/younesStrittmatter/princeton/psyneulink-related/502B/.venv/lib/python3.11/site-packages (from leabra-psyneulink<0.3.3->psyneulink) (8.1.5)\r\n",
      "Requirement already satisfied: jupyter in /Users/younesstrittmatter/Documents/GitHub/younesStrittmatter/princeton/psyneulink-related/502B/.venv/lib/python3.11/site-packages (from leabra-psyneulink<0.3.3->psyneulink) (1.1.1)\r\n",
      "Requirement already satisfied: contourpy>=1.0.1 in /Users/younesstrittmatter/Documents/GitHub/younesStrittmatter/princeton/psyneulink-related/502B/.venv/lib/python3.11/site-packages (from matplotlib<3.7.6->psyneulink) (1.3.1)\r\n",
      "Requirement already satisfied: cycler>=0.10 in /Users/younesstrittmatter/Documents/GitHub/younesStrittmatter/princeton/psyneulink-related/502B/.venv/lib/python3.11/site-packages (from matplotlib<3.7.6->psyneulink) (0.12.1)\r\n",
      "Requirement already satisfied: fonttools>=4.22.0 in /Users/younesstrittmatter/Documents/GitHub/younesStrittmatter/princeton/psyneulink-related/502B/.venv/lib/python3.11/site-packages (from matplotlib<3.7.6->psyneulink) (4.55.3)\r\n",
      "Requirement already satisfied: kiwisolver>=1.0.1 in /Users/younesstrittmatter/Documents/GitHub/younesStrittmatter/princeton/psyneulink-related/502B/.venv/lib/python3.11/site-packages (from matplotlib<3.7.6->psyneulink) (1.4.8)\r\n",
      "Requirement already satisfied: pyparsing>=2.3.1 in /Users/younesstrittmatter/Documents/GitHub/younesStrittmatter/princeton/psyneulink-related/502B/.venv/lib/python3.11/site-packages (from matplotlib<3.7.6->psyneulink) (3.2.1)\r\n",
      "Requirement already satisfied: python-dateutil>=2.7 in /Users/younesstrittmatter/Documents/GitHub/younesStrittmatter/princeton/psyneulink-related/502B/.venv/lib/python3.11/site-packages (from matplotlib<3.7.6->psyneulink) (2.9.0.post0)\r\n",
      "Requirement already satisfied: h5py in /Users/younesstrittmatter/Documents/GitHub/younesStrittmatter/princeton/psyneulink-related/502B/.venv/lib/python3.11/site-packages (from modeci-mdf<0.5,>=0.4.3->psyneulink) (3.12.1)\r\n",
      "Requirement already satisfied: onnxruntime in /Users/younesstrittmatter/Documents/GitHub/younesStrittmatter/princeton/psyneulink-related/502B/.venv/lib/python3.11/site-packages (from modeci-mdf<0.5,>=0.4.3->psyneulink) (1.20.1)\r\n",
      "Requirement already satisfied: onnx in /Users/younesstrittmatter/Documents/GitHub/younesStrittmatter/princeton/psyneulink-related/502B/.venv/lib/python3.11/site-packages (from modeci-mdf<0.5,>=0.4.3->psyneulink) (1.17.0)\r\n",
      "Requirement already satisfied: skl2onnx in /Users/younesstrittmatter/Documents/GitHub/younesStrittmatter/princeton/psyneulink-related/502B/.venv/lib/python3.11/site-packages (from modeci-mdf<0.5,>=0.4.3->psyneulink) (1.18.0)\r\n",
      "Requirement already satisfied: attrs>=21.1.0 in /Users/younesstrittmatter/Documents/GitHub/younesStrittmatter/princeton/psyneulink-related/502B/.venv/lib/python3.11/site-packages (from modeci-mdf<0.5,>=0.4.3->psyneulink) (24.3.0)\r\n",
      "Requirement already satisfied: cattrs in /Users/younesstrittmatter/Documents/GitHub/younesStrittmatter/princeton/psyneulink-related/502B/.venv/lib/python3.11/site-packages (from modeci-mdf<0.5,>=0.4.3->psyneulink) (24.1.2)\r\n",
      "Requirement already satisfied: modelspec<0.4,>=0.3.0 in /Users/younesstrittmatter/Documents/GitHub/younesStrittmatter/princeton/psyneulink-related/502B/.venv/lib/python3.11/site-packages (from modeci-mdf<0.5,>=0.4.3->psyneulink) (0.3.5)\r\n",
      "Requirement already satisfied: glom in /Users/younesstrittmatter/Documents/GitHub/younesStrittmatter/princeton/psyneulink-related/502B/.venv/lib/python3.11/site-packages (from modeci-mdf<0.5,>=0.4.3->psyneulink) (24.11.0)\r\n"
     ]
    },
    {
     "name": "stdout",
     "output_type": "stream",
     "text": [
      "Requirement already satisfied: alembic>=1.5.0 in /Users/younesstrittmatter/Documents/GitHub/younesStrittmatter/princeton/psyneulink-related/502B/.venv/lib/python3.11/site-packages (from optuna<4.2.0->psyneulink) (1.14.0)\r\n",
      "Requirement already satisfied: colorlog in /Users/younesstrittmatter/Documents/GitHub/younesStrittmatter/princeton/psyneulink-related/502B/.venv/lib/python3.11/site-packages (from optuna<4.2.0->psyneulink) (6.9.0)\r\n",
      "Requirement already satisfied: sqlalchemy>=1.4.2 in /Users/younesstrittmatter/Documents/GitHub/younesStrittmatter/princeton/psyneulink-related/502B/.venv/lib/python3.11/site-packages (from optuna<4.2.0->psyneulink) (2.0.37)\r\n",
      "Requirement already satisfied: tqdm in /Users/younesstrittmatter/Documents/GitHub/younesStrittmatter/princeton/psyneulink-related/502B/.venv/lib/python3.11/site-packages (from optuna<4.2.0->psyneulink) (4.67.1)\r\n",
      "Requirement already satisfied: PyYAML in /Users/younesstrittmatter/Documents/GitHub/younesStrittmatter/princeton/psyneulink-related/502B/.venv/lib/python3.11/site-packages (from optuna<4.2.0->psyneulink) (6.0.2)\r\n",
      "Requirement already satisfied: pytz>=2020.1 in /Users/younesstrittmatter/Documents/GitHub/younesStrittmatter/princeton/psyneulink-related/502B/.venv/lib/python3.11/site-packages (from pandas<2.2.4->psyneulink) (2024.2)\r\n",
      "Requirement already satisfied: tzdata>=2022.7 in /Users/younesstrittmatter/Documents/GitHub/younesStrittmatter/princeton/psyneulink-related/502B/.venv/lib/python3.11/site-packages (from pandas<2.2.4->psyneulink) (2024.2)\r\n",
      "Requirement already satisfied: colorama<0.5.0,>=0.4.0 in /Users/younesstrittmatter/Documents/GitHub/younesStrittmatter/princeton/psyneulink-related/502B/.venv/lib/python3.11/site-packages (from rich<10.13,>=10.1->psyneulink) (0.4.6)\r\n",
      "Requirement already satisfied: commonmark<0.10.0,>=0.9.0 in /Users/younesstrittmatter/Documents/GitHub/younesStrittmatter/princeton/psyneulink-related/502B/.venv/lib/python3.11/site-packages (from rich<10.13,>=10.1->psyneulink) (0.9.1)\r\n",
      "Requirement already satisfied: pygments<3.0.0,>=2.6.0 in /Users/younesstrittmatter/Documents/GitHub/younesStrittmatter/princeton/psyneulink-related/502B/.venv/lib/python3.11/site-packages (from rich<10.13,>=10.1->psyneulink) (2.19.1)\r\n",
      "Requirement already satisfied: filelock in /Users/younesstrittmatter/Documents/GitHub/younesStrittmatter/princeton/psyneulink-related/502B/.venv/lib/python3.11/site-packages (from torch<2.6.0,>=1.10.0->psyneulink) (3.16.1)\r\n",
      "Requirement already satisfied: typing-extensions>=4.8.0 in /Users/younesstrittmatter/Documents/GitHub/younesStrittmatter/princeton/psyneulink-related/502B/.venv/lib/python3.11/site-packages (from torch<2.6.0,>=1.10.0->psyneulink) (4.12.2)\r\n",
      "Requirement already satisfied: jinja2 in /Users/younesstrittmatter/Documents/GitHub/younesStrittmatter/princeton/psyneulink-related/502B/.venv/lib/python3.11/site-packages (from torch<2.6.0,>=1.10.0->psyneulink) (3.1.5)\r\n",
      "Requirement already satisfied: fsspec in /Users/younesstrittmatter/Documents/GitHub/younesStrittmatter/princeton/psyneulink-related/502B/.venv/lib/python3.11/site-packages (from torch<2.6.0,>=1.10.0->psyneulink) (2024.12.0)\r\n",
      "Requirement already satisfied: sympy==1.13.1 in /Users/younesstrittmatter/Documents/GitHub/younesStrittmatter/princeton/psyneulink-related/502B/.venv/lib/python3.11/site-packages (from torch<2.6.0,>=1.10.0->psyneulink) (1.13.1)\r\n",
      "Requirement already satisfied: mpmath<1.4,>=1.1.0 in /Users/younesstrittmatter/Documents/GitHub/younesStrittmatter/princeton/psyneulink-related/502B/.venv/lib/python3.11/site-packages (from sympy==1.13.1->torch<2.6.0,>=1.10.0->psyneulink) (1.3.0)\r\n",
      "Requirement already satisfied: Mako in /Users/younesstrittmatter/Documents/GitHub/younesStrittmatter/princeton/psyneulink-related/502B/.venv/lib/python3.11/site-packages (from alembic>=1.5.0->optuna<4.2.0->psyneulink) (1.3.8)\r\n",
      "Requirement already satisfied: tornado>=6.2 in /Users/younesstrittmatter/Documents/GitHub/younesStrittmatter/princeton/psyneulink-related/502B/.venv/lib/python3.11/site-packages (from bokeh>=0.12.6->leabra-psyneulink<0.3.3->psyneulink) (6.4.2)\r\n",
      "Requirement already satisfied: xyzservices>=2021.09.1 in /Users/younesstrittmatter/Documents/GitHub/younesStrittmatter/princeton/psyneulink-related/502B/.venv/lib/python3.11/site-packages (from bokeh>=0.12.6->leabra-psyneulink<0.3.3->psyneulink) (2025.1.0)\r\n",
      "Requirement already satisfied: comm>=0.1.3 in /Users/younesstrittmatter/Documents/GitHub/younesStrittmatter/princeton/psyneulink-related/502B/.venv/lib/python3.11/site-packages (from ipywidgets>=7.0->leabra-psyneulink<0.3.3->psyneulink) (0.2.2)\r\n",
      "Requirement already satisfied: ipython>=6.1.0 in /Users/younesstrittmatter/Documents/GitHub/younesStrittmatter/princeton/psyneulink-related/502B/.venv/lib/python3.11/site-packages (from ipywidgets>=7.0->leabra-psyneulink<0.3.3->psyneulink) (8.31.0)\r\n",
      "Requirement already satisfied: traitlets>=4.3.1 in /Users/younesstrittmatter/Documents/GitHub/younesStrittmatter/princeton/psyneulink-related/502B/.venv/lib/python3.11/site-packages (from ipywidgets>=7.0->leabra-psyneulink<0.3.3->psyneulink) (5.14.3)\r\n",
      "Requirement already satisfied: widgetsnbextension~=4.0.12 in /Users/younesstrittmatter/Documents/GitHub/younesStrittmatter/princeton/psyneulink-related/502B/.venv/lib/python3.11/site-packages (from ipywidgets>=7.0->leabra-psyneulink<0.3.3->psyneulink) (4.0.13)\r\n",
      "Requirement already satisfied: jupyterlab-widgets~=3.0.12 in /Users/younesstrittmatter/Documents/GitHub/younesStrittmatter/princeton/psyneulink-related/502B/.venv/lib/python3.11/site-packages (from ipywidgets>=7.0->leabra-psyneulink<0.3.3->psyneulink) (3.0.13)\r\n",
      "Requirement already satisfied: MarkupSafe>=2.0 in /Users/younesstrittmatter/Documents/GitHub/younesStrittmatter/princeton/psyneulink-related/502B/.venv/lib/python3.11/site-packages (from jinja2->torch<2.6.0,>=1.10.0->psyneulink) (3.0.2)\r\n"
     ]
    },
    {
     "name": "stdout",
     "output_type": "stream",
     "text": [
      "Requirement already satisfied: pymongo in /Users/younesstrittmatter/Documents/GitHub/younesStrittmatter/princeton/psyneulink-related/502B/.venv/lib/python3.11/site-packages (from modelspec<0.4,>=0.3.0->modeci-mdf<0.5,>=0.4.3->psyneulink) (4.10.1)\r\n",
      "Requirement already satisfied: tabulate in /Users/younesstrittmatter/Documents/GitHub/younesStrittmatter/princeton/psyneulink-related/502B/.venv/lib/python3.11/site-packages (from modelspec<0.4,>=0.3.0->modeci-mdf<0.5,>=0.4.3->psyneulink) (0.9.0)\r\n",
      "Requirement already satisfied: docstring-parser in /Users/younesstrittmatter/Documents/GitHub/younesStrittmatter/princeton/psyneulink-related/502B/.venv/lib/python3.11/site-packages (from modelspec<0.4,>=0.3.0->modeci-mdf<0.5,>=0.4.3->psyneulink) (0.16)\r\n",
      "Requirement already satisfied: six>=1.5 in /Users/younesstrittmatter/Documents/GitHub/younesStrittmatter/princeton/psyneulink-related/502B/.venv/lib/python3.11/site-packages (from python-dateutil>=2.7->matplotlib<3.7.6->psyneulink) (1.17.0)\r\n",
      "Requirement already satisfied: boltons>=19.3.0 in /Users/younesstrittmatter/Documents/GitHub/younesStrittmatter/princeton/psyneulink-related/502B/.venv/lib/python3.11/site-packages (from glom->modeci-mdf<0.5,>=0.4.3->psyneulink) (24.1.0)\r\n",
      "Requirement already satisfied: face>=20.1.1 in /Users/younesstrittmatter/Documents/GitHub/younesStrittmatter/princeton/psyneulink-related/502B/.venv/lib/python3.11/site-packages (from glom->modeci-mdf<0.5,>=0.4.3->psyneulink) (24.0.0)\r\n",
      "Requirement already satisfied: notebook in /Users/younesstrittmatter/Documents/GitHub/younesStrittmatter/princeton/psyneulink-related/502B/.venv/lib/python3.11/site-packages (from jupyter->leabra-psyneulink<0.3.3->psyneulink) (7.3.2)\r\n",
      "Requirement already satisfied: jupyter-console in /Users/younesstrittmatter/Documents/GitHub/younesStrittmatter/princeton/psyneulink-related/502B/.venv/lib/python3.11/site-packages (from jupyter->leabra-psyneulink<0.3.3->psyneulink) (6.6.3)\r\n",
      "Requirement already satisfied: nbconvert in /Users/younesstrittmatter/Documents/GitHub/younesStrittmatter/princeton/psyneulink-related/502B/.venv/lib/python3.11/site-packages (from jupyter->leabra-psyneulink<0.3.3->psyneulink) (7.16.5)\r\n",
      "Requirement already satisfied: ipykernel in /Users/younesstrittmatter/Documents/GitHub/younesStrittmatter/princeton/psyneulink-related/502B/.venv/lib/python3.11/site-packages (from jupyter->leabra-psyneulink<0.3.3->psyneulink) (6.29.5)\r\n",
      "Requirement already satisfied: jupyterlab in /Users/younesstrittmatter/Documents/GitHub/younesStrittmatter/princeton/psyneulink-related/502B/.venv/lib/python3.11/site-packages (from jupyter->leabra-psyneulink<0.3.3->psyneulink) (4.3.4)\r\n",
      "Requirement already satisfied: coloredlogs in /Users/younesstrittmatter/Documents/GitHub/younesStrittmatter/princeton/psyneulink-related/502B/.venv/lib/python3.11/site-packages (from onnxruntime->modeci-mdf<0.5,>=0.4.3->psyneulink) (15.0.1)\r\n",
      "Requirement already satisfied: flatbuffers in /Users/younesstrittmatter/Documents/GitHub/younesStrittmatter/princeton/psyneulink-related/502B/.venv/lib/python3.11/site-packages (from onnxruntime->modeci-mdf<0.5,>=0.4.3->psyneulink) (24.12.23)\r\n",
      "Requirement already satisfied: scikit-learn>=1.1 in /Users/younesstrittmatter/Documents/GitHub/younesStrittmatter/princeton/psyneulink-related/502B/.venv/lib/python3.11/site-packages (from skl2onnx->modeci-mdf<0.5,>=0.4.3->psyneulink) (1.6.1)\r\n",
      "Requirement already satisfied: onnxconverter-common>=1.7.0 in /Users/younesstrittmatter/Documents/GitHub/younesStrittmatter/princeton/psyneulink-related/502B/.venv/lib/python3.11/site-packages (from skl2onnx->modeci-mdf<0.5,>=0.4.3->psyneulink) (1.14.0)\r\n",
      "Requirement already satisfied: decorator in /Users/younesstrittmatter/Documents/GitHub/younesStrittmatter/princeton/psyneulink-related/502B/.venv/lib/python3.11/site-packages (from ipython>=6.1.0->ipywidgets>=7.0->leabra-psyneulink<0.3.3->psyneulink) (5.1.1)\r\n",
      "Requirement already satisfied: jedi>=0.16 in /Users/younesstrittmatter/Documents/GitHub/younesStrittmatter/princeton/psyneulink-related/502B/.venv/lib/python3.11/site-packages (from ipython>=6.1.0->ipywidgets>=7.0->leabra-psyneulink<0.3.3->psyneulink) (0.19.2)\r\n",
      "Requirement already satisfied: matplotlib-inline in /Users/younesstrittmatter/Documents/GitHub/younesStrittmatter/princeton/psyneulink-related/502B/.venv/lib/python3.11/site-packages (from ipython>=6.1.0->ipywidgets>=7.0->leabra-psyneulink<0.3.3->psyneulink) (0.1.7)\r\n",
      "Requirement already satisfied: pexpect>4.3 in /Users/younesstrittmatter/Documents/GitHub/younesStrittmatter/princeton/psyneulink-related/502B/.venv/lib/python3.11/site-packages (from ipython>=6.1.0->ipywidgets>=7.0->leabra-psyneulink<0.3.3->psyneulink) (4.9.0)\r\n",
      "Requirement already satisfied: prompt_toolkit<3.1.0,>=3.0.41 in /Users/younesstrittmatter/Documents/GitHub/younesStrittmatter/princeton/psyneulink-related/502B/.venv/lib/python3.11/site-packages (from ipython>=6.1.0->ipywidgets>=7.0->leabra-psyneulink<0.3.3->psyneulink) (3.0.48)\r\n",
      "Requirement already satisfied: stack_data in /Users/younesstrittmatter/Documents/GitHub/younesStrittmatter/princeton/psyneulink-related/502B/.venv/lib/python3.11/site-packages (from ipython>=6.1.0->ipywidgets>=7.0->leabra-psyneulink<0.3.3->psyneulink) (0.6.3)\r\n",
      "Requirement already satisfied: joblib>=1.2.0 in /Users/younesstrittmatter/Documents/GitHub/younesStrittmatter/princeton/psyneulink-related/502B/.venv/lib/python3.11/site-packages (from scikit-learn>=1.1->skl2onnx->modeci-mdf<0.5,>=0.4.3->psyneulink) (1.4.2)\r\n",
      "Requirement already satisfied: threadpoolctl>=3.1.0 in /Users/younesstrittmatter/Documents/GitHub/younesStrittmatter/princeton/psyneulink-related/502B/.venv/lib/python3.11/site-packages (from scikit-learn>=1.1->skl2onnx->modeci-mdf<0.5,>=0.4.3->psyneulink) (3.5.0)\r\n"
     ]
    },
    {
     "name": "stdout",
     "output_type": "stream",
     "text": [
      "Requirement already satisfied: humanfriendly>=9.1 in /Users/younesstrittmatter/Documents/GitHub/younesStrittmatter/princeton/psyneulink-related/502B/.venv/lib/python3.11/site-packages (from coloredlogs->onnxruntime->modeci-mdf<0.5,>=0.4.3->psyneulink) (10.0)\r\n",
      "Requirement already satisfied: appnope in /Users/younesstrittmatter/Documents/GitHub/younesStrittmatter/princeton/psyneulink-related/502B/.venv/lib/python3.11/site-packages (from ipykernel->jupyter->leabra-psyneulink<0.3.3->psyneulink) (0.1.4)\r\n",
      "Requirement already satisfied: debugpy>=1.6.5 in /Users/younesstrittmatter/Documents/GitHub/younesStrittmatter/princeton/psyneulink-related/502B/.venv/lib/python3.11/site-packages (from ipykernel->jupyter->leabra-psyneulink<0.3.3->psyneulink) (1.8.12)\r\n",
      "Requirement already satisfied: jupyter-client>=6.1.12 in /Users/younesstrittmatter/Documents/GitHub/younesStrittmatter/princeton/psyneulink-related/502B/.venv/lib/python3.11/site-packages (from ipykernel->jupyter->leabra-psyneulink<0.3.3->psyneulink) (8.6.3)\r\n",
      "Requirement already satisfied: jupyter-core!=5.0.*,>=4.12 in /Users/younesstrittmatter/Documents/GitHub/younesStrittmatter/princeton/psyneulink-related/502B/.venv/lib/python3.11/site-packages (from ipykernel->jupyter->leabra-psyneulink<0.3.3->psyneulink) (5.7.2)\r\n",
      "Requirement already satisfied: nest-asyncio in /Users/younesstrittmatter/Documents/GitHub/younesStrittmatter/princeton/psyneulink-related/502B/.venv/lib/python3.11/site-packages (from ipykernel->jupyter->leabra-psyneulink<0.3.3->psyneulink) (1.6.0)\r\n",
      "Requirement already satisfied: psutil in /Users/younesstrittmatter/Documents/GitHub/younesStrittmatter/princeton/psyneulink-related/502B/.venv/lib/python3.11/site-packages (from ipykernel->jupyter->leabra-psyneulink<0.3.3->psyneulink) (6.1.1)\r\n",
      "Requirement already satisfied: pyzmq>=24 in /Users/younesstrittmatter/Documents/GitHub/younesStrittmatter/princeton/psyneulink-related/502B/.venv/lib/python3.11/site-packages (from ipykernel->jupyter->leabra-psyneulink<0.3.3->psyneulink) (26.2.0)\r\n",
      "Requirement already satisfied: async-lru>=1.0.0 in /Users/younesstrittmatter/Documents/GitHub/younesStrittmatter/princeton/psyneulink-related/502B/.venv/lib/python3.11/site-packages (from jupyterlab->jupyter->leabra-psyneulink<0.3.3->psyneulink) (2.0.4)\r\n",
      "Requirement already satisfied: httpx>=0.25.0 in /Users/younesstrittmatter/Documents/GitHub/younesStrittmatter/princeton/psyneulink-related/502B/.venv/lib/python3.11/site-packages (from jupyterlab->jupyter->leabra-psyneulink<0.3.3->psyneulink) (0.28.1)\r\n",
      "Requirement already satisfied: jupyter-lsp>=2.0.0 in /Users/younesstrittmatter/Documents/GitHub/younesStrittmatter/princeton/psyneulink-related/502B/.venv/lib/python3.11/site-packages (from jupyterlab->jupyter->leabra-psyneulink<0.3.3->psyneulink) (2.2.5)\r\n",
      "Requirement already satisfied: jupyter-server<3,>=2.4.0 in /Users/younesstrittmatter/Documents/GitHub/younesStrittmatter/princeton/psyneulink-related/502B/.venv/lib/python3.11/site-packages (from jupyterlab->jupyter->leabra-psyneulink<0.3.3->psyneulink) (2.15.0)\r\n",
      "Requirement already satisfied: jupyterlab-server<3,>=2.27.1 in /Users/younesstrittmatter/Documents/GitHub/younesStrittmatter/princeton/psyneulink-related/502B/.venv/lib/python3.11/site-packages (from jupyterlab->jupyter->leabra-psyneulink<0.3.3->psyneulink) (2.27.3)\r\n",
      "Requirement already satisfied: notebook-shim>=0.2 in /Users/younesstrittmatter/Documents/GitHub/younesStrittmatter/princeton/psyneulink-related/502B/.venv/lib/python3.11/site-packages (from jupyterlab->jupyter->leabra-psyneulink<0.3.3->psyneulink) (0.2.4)\r\n",
      "Requirement already satisfied: setuptools>=40.8.0 in /Users/younesstrittmatter/Documents/GitHub/younesStrittmatter/princeton/psyneulink-related/502B/.venv/lib/python3.11/site-packages (from jupyterlab->jupyter->leabra-psyneulink<0.3.3->psyneulink) (74.1.2)\r\n",
      "Requirement already satisfied: beautifulsoup4 in /Users/younesstrittmatter/Documents/GitHub/younesStrittmatter/princeton/psyneulink-related/502B/.venv/lib/python3.11/site-packages (from nbconvert->jupyter->leabra-psyneulink<0.3.3->psyneulink) (4.12.3)\r\n",
      "Requirement already satisfied: bleach!=5.0.0 in /Users/younesstrittmatter/Documents/GitHub/younesStrittmatter/princeton/psyneulink-related/502B/.venv/lib/python3.11/site-packages (from bleach[css]!=5.0.0->nbconvert->jupyter->leabra-psyneulink<0.3.3->psyneulink) (6.2.0)\r\n",
      "Requirement already satisfied: defusedxml in /Users/younesstrittmatter/Documents/GitHub/younesStrittmatter/princeton/psyneulink-related/502B/.venv/lib/python3.11/site-packages (from nbconvert->jupyter->leabra-psyneulink<0.3.3->psyneulink) (0.7.1)\r\n",
      "Requirement already satisfied: jupyterlab-pygments in /Users/younesstrittmatter/Documents/GitHub/younesStrittmatter/princeton/psyneulink-related/502B/.venv/lib/python3.11/site-packages (from nbconvert->jupyter->leabra-psyneulink<0.3.3->psyneulink) (0.3.0)\r\n",
      "Requirement already satisfied: mistune<4,>=2.0.3 in /Users/younesstrittmatter/Documents/GitHub/younesStrittmatter/princeton/psyneulink-related/502B/.venv/lib/python3.11/site-packages (from nbconvert->jupyter->leabra-psyneulink<0.3.3->psyneulink) (3.1.0)\r\n",
      "Requirement already satisfied: nbclient>=0.5.0 in /Users/younesstrittmatter/Documents/GitHub/younesStrittmatter/princeton/psyneulink-related/502B/.venv/lib/python3.11/site-packages (from nbconvert->jupyter->leabra-psyneulink<0.3.3->psyneulink) (0.10.2)\r\n",
      "Requirement already satisfied: nbformat>=5.7 in /Users/younesstrittmatter/Documents/GitHub/younesStrittmatter/princeton/psyneulink-related/502B/.venv/lib/python3.11/site-packages (from nbconvert->jupyter->leabra-psyneulink<0.3.3->psyneulink) (5.10.4)\r\n",
      "Requirement already satisfied: pandocfilters>=1.4.1 in /Users/younesstrittmatter/Documents/GitHub/younesStrittmatter/princeton/psyneulink-related/502B/.venv/lib/python3.11/site-packages (from nbconvert->jupyter->leabra-psyneulink<0.3.3->psyneulink) (1.5.1)\r\n",
      "Requirement already satisfied: dnspython<3.0.0,>=1.16.0 in /Users/younesstrittmatter/Documents/GitHub/younesStrittmatter/princeton/psyneulink-related/502B/.venv/lib/python3.11/site-packages (from pymongo->modelspec<0.4,>=0.3.0->modeci-mdf<0.5,>=0.4.3->psyneulink) (2.7.0)\r\n",
      "Requirement already satisfied: webencodings in /Users/younesstrittmatter/Documents/GitHub/younesStrittmatter/princeton/psyneulink-related/502B/.venv/lib/python3.11/site-packages (from bleach!=5.0.0->bleach[css]!=5.0.0->nbconvert->jupyter->leabra-psyneulink<0.3.3->psyneulink) (0.5.1)\r\n",
      "Requirement already satisfied: tinycss2<1.5,>=1.1.0 in /Users/younesstrittmatter/Documents/GitHub/younesStrittmatter/princeton/psyneulink-related/502B/.venv/lib/python3.11/site-packages (from bleach[css]!=5.0.0->nbconvert->jupyter->leabra-psyneulink<0.3.3->psyneulink) (1.4.0)\r\n",
      "Requirement already satisfied: anyio in /Users/younesstrittmatter/Documents/GitHub/younesStrittmatter/princeton/psyneulink-related/502B/.venv/lib/python3.11/site-packages (from httpx>=0.25.0->jupyterlab->jupyter->leabra-psyneulink<0.3.3->psyneulink) (4.8.0)\r\n",
      "Requirement already satisfied: certifi in /Users/younesstrittmatter/Documents/GitHub/younesStrittmatter/princeton/psyneulink-related/502B/.venv/lib/python3.11/site-packages (from httpx>=0.25.0->jupyterlab->jupyter->leabra-psyneulink<0.3.3->psyneulink) (2024.12.14)\r\n",
      "Requirement already satisfied: httpcore==1.* in /Users/younesstrittmatter/Documents/GitHub/younesStrittmatter/princeton/psyneulink-related/502B/.venv/lib/python3.11/site-packages (from httpx>=0.25.0->jupyterlab->jupyter->leabra-psyneulink<0.3.3->psyneulink) (1.0.7)\r\n",
      "Requirement already satisfied: idna in /Users/younesstrittmatter/Documents/GitHub/younesStrittmatter/princeton/psyneulink-related/502B/.venv/lib/python3.11/site-packages (from httpx>=0.25.0->jupyterlab->jupyter->leabra-psyneulink<0.3.3->psyneulink) (3.10)\r\n",
      "Requirement already satisfied: h11<0.15,>=0.13 in /Users/younesstrittmatter/Documents/GitHub/younesStrittmatter/princeton/psyneulink-related/502B/.venv/lib/python3.11/site-packages (from httpcore==1.*->httpx>=0.25.0->jupyterlab->jupyter->leabra-psyneulink<0.3.3->psyneulink) (0.14.0)\r\n",
      "Requirement already satisfied: parso<0.9.0,>=0.8.4 in /Users/younesstrittmatter/Documents/GitHub/younesStrittmatter/princeton/psyneulink-related/502B/.venv/lib/python3.11/site-packages (from jedi>=0.16->ipython>=6.1.0->ipywidgets>=7.0->leabra-psyneulink<0.3.3->psyneulink) (0.8.4)\r\n",
      "Requirement already satisfied: platformdirs>=2.5 in /Users/younesstrittmatter/Documents/GitHub/younesStrittmatter/princeton/psyneulink-related/502B/.venv/lib/python3.11/site-packages (from jupyter-core!=5.0.*,>=4.12->ipykernel->jupyter->leabra-psyneulink<0.3.3->psyneulink) (4.3.6)\r\n"
     ]
    },
    {
     "name": "stdout",
     "output_type": "stream",
     "text": [
      "Requirement already satisfied: argon2-cffi>=21.1 in /Users/younesstrittmatter/Documents/GitHub/younesStrittmatter/princeton/psyneulink-related/502B/.venv/lib/python3.11/site-packages (from jupyter-server<3,>=2.4.0->jupyterlab->jupyter->leabra-psyneulink<0.3.3->psyneulink) (23.1.0)\r\n",
      "Requirement already satisfied: jupyter-events>=0.11.0 in /Users/younesstrittmatter/Documents/GitHub/younesStrittmatter/princeton/psyneulink-related/502B/.venv/lib/python3.11/site-packages (from jupyter-server<3,>=2.4.0->jupyterlab->jupyter->leabra-psyneulink<0.3.3->psyneulink) (0.11.0)\r\n",
      "Requirement already satisfied: jupyter-server-terminals>=0.4.4 in /Users/younesstrittmatter/Documents/GitHub/younesStrittmatter/princeton/psyneulink-related/502B/.venv/lib/python3.11/site-packages (from jupyter-server<3,>=2.4.0->jupyterlab->jupyter->leabra-psyneulink<0.3.3->psyneulink) (0.5.3)\r\n",
      "Requirement already satisfied: overrides>=5.0 in /Users/younesstrittmatter/Documents/GitHub/younesStrittmatter/princeton/psyneulink-related/502B/.venv/lib/python3.11/site-packages (from jupyter-server<3,>=2.4.0->jupyterlab->jupyter->leabra-psyneulink<0.3.3->psyneulink) (7.7.0)\r\n",
      "Requirement already satisfied: prometheus-client>=0.9 in /Users/younesstrittmatter/Documents/GitHub/younesStrittmatter/princeton/psyneulink-related/502B/.venv/lib/python3.11/site-packages (from jupyter-server<3,>=2.4.0->jupyterlab->jupyter->leabra-psyneulink<0.3.3->psyneulink) (0.21.1)\r\n",
      "Requirement already satisfied: send2trash>=1.8.2 in /Users/younesstrittmatter/Documents/GitHub/younesStrittmatter/princeton/psyneulink-related/502B/.venv/lib/python3.11/site-packages (from jupyter-server<3,>=2.4.0->jupyterlab->jupyter->leabra-psyneulink<0.3.3->psyneulink) (1.8.3)\r\n",
      "Requirement already satisfied: terminado>=0.8.3 in /Users/younesstrittmatter/Documents/GitHub/younesStrittmatter/princeton/psyneulink-related/502B/.venv/lib/python3.11/site-packages (from jupyter-server<3,>=2.4.0->jupyterlab->jupyter->leabra-psyneulink<0.3.3->psyneulink) (0.18.1)\r\n",
      "Requirement already satisfied: websocket-client>=1.7 in /Users/younesstrittmatter/Documents/GitHub/younesStrittmatter/princeton/psyneulink-related/502B/.venv/lib/python3.11/site-packages (from jupyter-server<3,>=2.4.0->jupyterlab->jupyter->leabra-psyneulink<0.3.3->psyneulink) (1.8.0)\r\n",
      "Requirement already satisfied: babel>=2.10 in /Users/younesstrittmatter/Documents/GitHub/younesStrittmatter/princeton/psyneulink-related/502B/.venv/lib/python3.11/site-packages (from jupyterlab-server<3,>=2.27.1->jupyterlab->jupyter->leabra-psyneulink<0.3.3->psyneulink) (2.16.0)\r\n",
      "Requirement already satisfied: json5>=0.9.0 in /Users/younesstrittmatter/Documents/GitHub/younesStrittmatter/princeton/psyneulink-related/502B/.venv/lib/python3.11/site-packages (from jupyterlab-server<3,>=2.27.1->jupyterlab->jupyter->leabra-psyneulink<0.3.3->psyneulink) (0.10.0)\r\n",
      "Requirement already satisfied: jsonschema>=4.18.0 in /Users/younesstrittmatter/Documents/GitHub/younesStrittmatter/princeton/psyneulink-related/502B/.venv/lib/python3.11/site-packages (from jupyterlab-server<3,>=2.27.1->jupyterlab->jupyter->leabra-psyneulink<0.3.3->psyneulink) (4.23.0)\r\n",
      "Requirement already satisfied: requests>=2.31 in /Users/younesstrittmatter/Documents/GitHub/younesStrittmatter/princeton/psyneulink-related/502B/.venv/lib/python3.11/site-packages (from jupyterlab-server<3,>=2.27.1->jupyterlab->jupyter->leabra-psyneulink<0.3.3->psyneulink) (2.32.3)\r\n",
      "Requirement already satisfied: fastjsonschema>=2.15 in /Users/younesstrittmatter/Documents/GitHub/younesStrittmatter/princeton/psyneulink-related/502B/.venv/lib/python3.11/site-packages (from nbformat>=5.7->nbconvert->jupyter->leabra-psyneulink<0.3.3->psyneulink) (2.21.1)\r\n",
      "Requirement already satisfied: ptyprocess>=0.5 in /Users/younesstrittmatter/Documents/GitHub/younesStrittmatter/princeton/psyneulink-related/502B/.venv/lib/python3.11/site-packages (from pexpect>4.3->ipython>=6.1.0->ipywidgets>=7.0->leabra-psyneulink<0.3.3->psyneulink) (0.7.0)\r\n",
      "Requirement already satisfied: wcwidth in /Users/younesstrittmatter/Documents/GitHub/younesStrittmatter/princeton/psyneulink-related/502B/.venv/lib/python3.11/site-packages (from prompt_toolkit<3.1.0,>=3.0.41->ipython>=6.1.0->ipywidgets>=7.0->leabra-psyneulink<0.3.3->psyneulink) (0.2.13)\r\n",
      "Requirement already satisfied: soupsieve>1.2 in /Users/younesstrittmatter/Documents/GitHub/younesStrittmatter/princeton/psyneulink-related/502B/.venv/lib/python3.11/site-packages (from beautifulsoup4->nbconvert->jupyter->leabra-psyneulink<0.3.3->psyneulink) (2.6)\r\n",
      "Requirement already satisfied: executing>=1.2.0 in /Users/younesstrittmatter/Documents/GitHub/younesStrittmatter/princeton/psyneulink-related/502B/.venv/lib/python3.11/site-packages (from stack_data->ipython>=6.1.0->ipywidgets>=7.0->leabra-psyneulink<0.3.3->psyneulink) (2.1.0)\r\n",
      "Requirement already satisfied: asttokens>=2.1.0 in /Users/younesstrittmatter/Documents/GitHub/younesStrittmatter/princeton/psyneulink-related/502B/.venv/lib/python3.11/site-packages (from stack_data->ipython>=6.1.0->ipywidgets>=7.0->leabra-psyneulink<0.3.3->psyneulink) (3.0.0)\r\n",
      "Requirement already satisfied: pure-eval in /Users/younesstrittmatter/Documents/GitHub/younesStrittmatter/princeton/psyneulink-related/502B/.venv/lib/python3.11/site-packages (from stack_data->ipython>=6.1.0->ipywidgets>=7.0->leabra-psyneulink<0.3.3->psyneulink) (0.2.3)\r\n",
      "Requirement already satisfied: sniffio>=1.1 in /Users/younesstrittmatter/Documents/GitHub/younesStrittmatter/princeton/psyneulink-related/502B/.venv/lib/python3.11/site-packages (from anyio->httpx>=0.25.0->jupyterlab->jupyter->leabra-psyneulink<0.3.3->psyneulink) (1.3.1)\r\n",
      "Requirement already satisfied: argon2-cffi-bindings in /Users/younesstrittmatter/Documents/GitHub/younesStrittmatter/princeton/psyneulink-related/502B/.venv/lib/python3.11/site-packages (from argon2-cffi>=21.1->jupyter-server<3,>=2.4.0->jupyterlab->jupyter->leabra-psyneulink<0.3.3->psyneulink) (21.2.0)\r\n"
     ]
    },
    {
     "name": "stdout",
     "output_type": "stream",
     "text": [
      "Requirement already satisfied: jsonschema-specifications>=2023.03.6 in /Users/younesstrittmatter/Documents/GitHub/younesStrittmatter/princeton/psyneulink-related/502B/.venv/lib/python3.11/site-packages (from jsonschema>=4.18.0->jupyterlab-server<3,>=2.27.1->jupyterlab->jupyter->leabra-psyneulink<0.3.3->psyneulink) (2024.10.1)\r\n",
      "Requirement already satisfied: referencing>=0.28.4 in /Users/younesstrittmatter/Documents/GitHub/younesStrittmatter/princeton/psyneulink-related/502B/.venv/lib/python3.11/site-packages (from jsonschema>=4.18.0->jupyterlab-server<3,>=2.27.1->jupyterlab->jupyter->leabra-psyneulink<0.3.3->psyneulink) (0.36.1)\r\n",
      "Requirement already satisfied: rpds-py>=0.7.1 in /Users/younesstrittmatter/Documents/GitHub/younesStrittmatter/princeton/psyneulink-related/502B/.venv/lib/python3.11/site-packages (from jsonschema>=4.18.0->jupyterlab-server<3,>=2.27.1->jupyterlab->jupyter->leabra-psyneulink<0.3.3->psyneulink) (0.22.3)\r\n",
      "Requirement already satisfied: python-json-logger>=2.0.4 in /Users/younesstrittmatter/Documents/GitHub/younesStrittmatter/princeton/psyneulink-related/502B/.venv/lib/python3.11/site-packages (from jupyter-events>=0.11.0->jupyter-server<3,>=2.4.0->jupyterlab->jupyter->leabra-psyneulink<0.3.3->psyneulink) (3.2.1)\r\n",
      "Requirement already satisfied: rfc3339-validator in /Users/younesstrittmatter/Documents/GitHub/younesStrittmatter/princeton/psyneulink-related/502B/.venv/lib/python3.11/site-packages (from jupyter-events>=0.11.0->jupyter-server<3,>=2.4.0->jupyterlab->jupyter->leabra-psyneulink<0.3.3->psyneulink) (0.1.4)\r\n",
      "Requirement already satisfied: rfc3986-validator>=0.1.1 in /Users/younesstrittmatter/Documents/GitHub/younesStrittmatter/princeton/psyneulink-related/502B/.venv/lib/python3.11/site-packages (from jupyter-events>=0.11.0->jupyter-server<3,>=2.4.0->jupyterlab->jupyter->leabra-psyneulink<0.3.3->psyneulink) (0.1.1)\r\n",
      "Requirement already satisfied: charset-normalizer<4,>=2 in /Users/younesstrittmatter/Documents/GitHub/younesStrittmatter/princeton/psyneulink-related/502B/.venv/lib/python3.11/site-packages (from requests>=2.31->jupyterlab-server<3,>=2.27.1->jupyterlab->jupyter->leabra-psyneulink<0.3.3->psyneulink) (3.4.1)\r\n",
      "Requirement already satisfied: urllib3<3,>=1.21.1 in /Users/younesstrittmatter/Documents/GitHub/younesStrittmatter/princeton/psyneulink-related/502B/.venv/lib/python3.11/site-packages (from requests>=2.31->jupyterlab-server<3,>=2.27.1->jupyterlab->jupyter->leabra-psyneulink<0.3.3->psyneulink) (2.3.0)\r\n",
      "Requirement already satisfied: fqdn in /Users/younesstrittmatter/Documents/GitHub/younesStrittmatter/princeton/psyneulink-related/502B/.venv/lib/python3.11/site-packages (from jsonschema[format-nongpl]>=4.18.0->jupyter-events>=0.11.0->jupyter-server<3,>=2.4.0->jupyterlab->jupyter->leabra-psyneulink<0.3.3->psyneulink) (1.5.1)\r\n",
      "Requirement already satisfied: isoduration in /Users/younesstrittmatter/Documents/GitHub/younesStrittmatter/princeton/psyneulink-related/502B/.venv/lib/python3.11/site-packages (from jsonschema[format-nongpl]>=4.18.0->jupyter-events>=0.11.0->jupyter-server<3,>=2.4.0->jupyterlab->jupyter->leabra-psyneulink<0.3.3->psyneulink) (20.11.0)\r\n",
      "Requirement already satisfied: jsonpointer>1.13 in /Users/younesstrittmatter/Documents/GitHub/younesStrittmatter/princeton/psyneulink-related/502B/.venv/lib/python3.11/site-packages (from jsonschema[format-nongpl]>=4.18.0->jupyter-events>=0.11.0->jupyter-server<3,>=2.4.0->jupyterlab->jupyter->leabra-psyneulink<0.3.3->psyneulink) (3.0.0)\r\n",
      "Requirement already satisfied: uri-template in /Users/younesstrittmatter/Documents/GitHub/younesStrittmatter/princeton/psyneulink-related/502B/.venv/lib/python3.11/site-packages (from jsonschema[format-nongpl]>=4.18.0->jupyter-events>=0.11.0->jupyter-server<3,>=2.4.0->jupyterlab->jupyter->leabra-psyneulink<0.3.3->psyneulink) (1.3.0)\r\n"
     ]
    },
    {
     "name": "stdout",
     "output_type": "stream",
     "text": [
      "Requirement already satisfied: webcolors>=24.6.0 in /Users/younesstrittmatter/Documents/GitHub/younesStrittmatter/princeton/psyneulink-related/502B/.venv/lib/python3.11/site-packages (from jsonschema[format-nongpl]>=4.18.0->jupyter-events>=0.11.0->jupyter-server<3,>=2.4.0->jupyterlab->jupyter->leabra-psyneulink<0.3.3->psyneulink) (24.11.1)\r\n",
      "Requirement already satisfied: cffi>=1.0.1 in /Users/younesstrittmatter/Documents/GitHub/younesStrittmatter/princeton/psyneulink-related/502B/.venv/lib/python3.11/site-packages (from argon2-cffi-bindings->argon2-cffi>=21.1->jupyter-server<3,>=2.4.0->jupyterlab->jupyter->leabra-psyneulink<0.3.3->psyneulink) (1.17.1)\r\n",
      "Requirement already satisfied: pycparser in /Users/younesstrittmatter/Documents/GitHub/younesStrittmatter/princeton/psyneulink-related/502B/.venv/lib/python3.11/site-packages (from cffi>=1.0.1->argon2-cffi-bindings->argon2-cffi>=21.1->jupyter-server<3,>=2.4.0->jupyterlab->jupyter->leabra-psyneulink<0.3.3->psyneulink) (2.22)\r\n",
      "Requirement already satisfied: arrow>=0.15.0 in /Users/younesstrittmatter/Documents/GitHub/younesStrittmatter/princeton/psyneulink-related/502B/.venv/lib/python3.11/site-packages (from isoduration->jsonschema[format-nongpl]>=4.18.0->jupyter-events>=0.11.0->jupyter-server<3,>=2.4.0->jupyterlab->jupyter->leabra-psyneulink<0.3.3->psyneulink) (1.3.0)\r\n",
      "Requirement already satisfied: types-python-dateutil>=2.8.10 in /Users/younesstrittmatter/Documents/GitHub/younesStrittmatter/princeton/psyneulink-related/502B/.venv/lib/python3.11/site-packages (from arrow>=0.15.0->isoduration->jsonschema[format-nongpl]>=4.18.0->jupyter-events>=0.11.0->jupyter-server<3,>=2.4.0->jupyterlab->jupyter->leabra-psyneulink<0.3.3->psyneulink) (2.9.0.20241206)\r\n"
     ]
    },
    {
     "name": "stdout",
     "output_type": "stream",
     "text": [
      "\r\n",
      "\u001b[1m[\u001b[0m\u001b[34;49mnotice\u001b[0m\u001b[1;39;49m]\u001b[0m\u001b[39;49m A new release of pip is available: \u001b[0m\u001b[31;49m24.2\u001b[0m\u001b[39;49m -> \u001b[0m\u001b[32;49m24.3.1\u001b[0m\r\n",
      "\u001b[1m[\u001b[0m\u001b[34;49mnotice\u001b[0m\u001b[1;39;49m]\u001b[0m\u001b[39;49m To update, run: \u001b[0m\u001b[32;49mpip install --upgrade pip\u001b[0m\r\n"
     ]
    }
   ],
   "source": [
    "!pip install psyneulink"
   ]
  },
  {
   "cell_type": "markdown",
   "id": "7d735374c5c37dce",
   "metadata": {},
   "source": [
    "## Imports & Setup"
   ]
  },
  {
   "cell_type": "code",
   "execution_count": 2,
   "id": "47fa7624e4ce2832",
   "metadata": {
    "ExecuteTime": {
     "end_time": "2025-01-18T23:00:00.148369Z",
     "start_time": "2025-01-18T22:59:58.035499Z"
    }
   },
   "outputs": [],
   "source": [
    "import numpy as np\n",
    "import matplotlib\n",
    "from matplotlib import pyplot as plt\n",
    "import psyneulink as pnl"
   ]
  },
  {
   "cell_type": "markdown",
   "id": "5b493322e9144bc2",
   "metadata": {},
   "source": [
    "## Learning to Group Properties of Objects\n",
    "\n",
    "Objects typically have multiple properties, such as size, shape, color, texture, density, temperature, etc. It is useful to learn to group the different properties of an object together.\n",
    "\n",
    "In the following cell, we define a set of features to represent objects. The features include size (small, medium, large), color (red, blue, green), and shape (circle, rectangle, triangle). A feature is coded as `1` when it is present and `0` when it is absent.\n",
    "\n",
    "Next, we specify some objects, such as a small red circle. Each object is represented as a stimulus in the model, using a feature-coded vector. For example:\n",
    "\n",
    "- A small red circle is coded as `[1, 0, 0, 1, 0, 0, 1, 0, 0]` and abbreviated as `src`.\n",
    "\n",
    "### Stimuli"
   ]
  },
  {
   "cell_type": "code",
   "execution_count": 3,
   "id": "ecaa77741e533940",
   "metadata": {
    "ExecuteTime": {
     "end_time": "2025-01-18T23:00:07.430334Z",
     "start_time": "2025-01-18T23:00:07.427351Z"
    }
   },
   "outputs": [],
   "source": [
    "# Define the set of features\n",
    "feature_names = [\n",
    "    'small', 'medium', 'large',\n",
    "    'red', 'yellow', 'blue',\n",
    "    'circle', 'rectangle', 'triangle'\n",
    "]\n",
    "\n",
    "# Calculate the size of the feature space\n",
    "size_f = len(feature_names)\n",
    "\n",
    "# Define stimuli representing objects composed of features\n",
    "small_red_circle =        [1, 0, 0, 1, 0, 0, 1, 0, 0]\n",
    "medium_yellow_rectangle = [0, 1, 0, 0, 1, 0, 0, 1, 0]\n",
    "large_blue_triangle =     [0, 0, 1, 0, 0, 1, 0, 0, 1]\n",
    "\n",
    "# Note: Feature coding can be more elaborate, e.g., combining basic features.\n",
    "# Represent green as the activation of blue + yellow, and use rectangle + triangle for a house\n",
    "small_green_house = [1, 0, 0, 0, 1, 1, 0, 1, 1]\n",
    "\n",
    "# Assign abbreviated aliases\n",
    "src = small_red_circle\n",
    "myr = medium_yellow_rectangle\n",
    "lbt = large_blue_triangle\n",
    "sgh = small_green_house"
   ]
  },
  {
   "cell_type": "markdown",
   "id": "4990e91ae11a5e7",
   "metadata": {},
   "source": [
    "With our features defined, we can specify a collection of stimuli (`sm_3_uniform`) to present to the model. This collection is organized as a matrix where each row corresponds to a single stimulus, and each column represents a feature (as defined in `feature_names`). Here, the `sm_3_uniform matrix` contains three repetitions of each stimulus."
   ]
  },
  {
   "cell_type": "code",
   "execution_count": 4,
   "id": "7f855e732ab30899",
   "metadata": {
    "ExecuteTime": {
     "end_time": "2025-01-18T23:00:10.183040Z",
     "start_time": "2025-01-18T23:00:10.177826Z"
    }
   },
   "outputs": [
    {
     "data": {
      "text/plain": [
       "matrix([[1, 0, 0, 1, 0, 0, 1, 0, 0],\n",
       "        [1, 0, 0, 1, 0, 0, 1, 0, 0],\n",
       "        [1, 0, 0, 1, 0, 0, 1, 0, 0],\n",
       "        [0, 1, 0, 0, 1, 0, 0, 1, 0],\n",
       "        [0, 1, 0, 0, 1, 0, 0, 1, 0],\n",
       "        [0, 1, 0, 0, 1, 0, 0, 1, 0],\n",
       "        [0, 0, 1, 0, 0, 1, 0, 0, 1],\n",
       "        [0, 0, 1, 0, 0, 1, 0, 0, 1],\n",
       "        [0, 0, 1, 0, 0, 1, 0, 0, 1]])"
      ]
     },
     "execution_count": 4,
     "metadata": {},
     "output_type": "execute_result"
    }
   ],
   "source": [
    "sm_3_uniform = np.matrix([src,src,src,myr,myr,myr,lbt,lbt,lbt])\n",
    "sm_3_uniform"
   ]
  },
  {
   "cell_type": "markdown",
   "id": "ddf3180df05d2880",
   "metadata": {},
   "source": []
  }
 ],
 "metadata": {
  "kernelspec": {
   "display_name": "Python 3 (ipykernel)",
   "language": "python",
   "name": "python3"
  },
  "language_info": {
   "codemirror_mode": {
    "name": "ipython",
    "version": 3
   },
   "file_extension": ".py",
   "mimetype": "text/x-python",
   "name": "python",
   "nbconvert_exporter": "python",
   "pygments_lexer": "ipython3",
   "version": "3.11.7"
  }
 },
 "nbformat": 4,
 "nbformat_minor": 5
}
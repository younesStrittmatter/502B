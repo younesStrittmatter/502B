{
 "cells": [
  {
   "metadata": {},
   "cell_type": "markdown",
   "source": [
    "# Scalars, Vectors, and Matrices\n",
    "\n",
    "## Introduction\n",
    "\n",
    "A *scalar* is a number used to quantify magnitude (e.g. temperature), while a *vector* is a number used to quantify magnitude and direction (e.g. wind).  \n",
    "\n",
    "Vectors are typically formatted as a list of numbers with each number corresponding to one direction. Familiar Cartesian coordinates have 2 dimensions, X & Y, and a vector in Cartesian coordinates is 1x2, a one dimensional list with two numbers. \n",
    "For example, west-east is the X axis and south-north is the Y axis. The vector (3, 4) indicates wind moving both 3 mph west and 4 mph north, but the combination of these components is a vector of wind moving 5 mph northwest (thanks to the pythagorean theorem, $a^2 + b^2 = c^2$). The magnitude is the distance from the origin (0,0), in this case 5. The vector itself is one dimensional and can be depicted as an arrow starting at (0,0) and extending to (3,4) in these Cartesian coordinates.    \n",
    "\n",
    "***Note:*** A number with magnitude AND two or more directions is called a *tensor*. One way to think of a basic tensor is pinching and pulling a rubber sheet toward you: there is a magnitude of force pulling back toward the initial position (you could use this to launch a pebble like a slingshot) and there is also a magnitude of tension in the rubber sheet itself that will contract back when you let go. Tensors are used to describe gravity in general relativity.   \n",
    "\n",
    "Vectors are typically formatted as one-dimensional data structures or lists, 1xN, with N as the length of the list.  A *matrix* is a two-dimensional, MxN, data structures. \n",
    "\n",
    "Here, we introduce common mathematical notation and the equivalent code implementation in [Numpy](https://numpy.org/).\n",
    "\n",
    "**Numpy Setup:**"
   ],
   "id": "397bbcf160ad8986"
  },
  {
   "metadata": {
    "ExecuteTime": {
     "end_time": "2025-01-20T20:18:40.798057Z",
     "start_time": "2025-01-20T20:18:40.064284Z"
    }
   },
   "cell_type": "code",
   "source": [
    "%%capture\n",
    "!pip install numpy\n",
    "\n",
    "import numpy as np"
   ],
   "id": "fb2910919ad35095",
   "outputs": [],
   "execution_count": 2
  },
  {
   "metadata": {},
   "cell_type": "markdown",
   "source": [
    "## Vector & Matrix Operations\n",
    "\n",
    "### Notation\n",
    "  \n",
    "Like scalars, vectors and matrices of numbers can be added and multiplied. However, these operations differ from their scalar counterparts, and are heavily dependent on dimensionality. Matrix and vector dimensions are given as (r x c) where r is the number of rows, and c is the number of columns. Individual vectors are 1 dimensional and notated as a single row (1 x c) or as a single column (r x 1).\n",
    "\n",
    "For example, $a$ is a [1x3] vector, called a row vector. Vector $b$ is a [3x1] vector, called a column vector. $C$ is a [3x3] matrix. The components of a matrix $C$ are denoted $c_{ij}$, where i is the row index and j is the column index.\n",
    "\n",
    "***Note:*** Vectors are a special type of matrix. In the following sections, the term \"matrices\" will be used as a general term to refer to both matrices and vectors.\n",
    " \n",
    "$$\n",
    "\\begin{equation}\n",
    "a =\n",
    "\\left[\n",
    "\\begin{matrix}\n",
    "a_{1} & a_{2} & a_{3}\n",
    "\\end{matrix}\n",
    "\\right]\n",
    ";  b =\n",
    "\\left[\n",
    "\\begin{matrix}\n",
    "b_{1} \\\\ b_{2} \\\\ b_{3}\n",
    "\\end{matrix}\n",
    "\\right]\n",
    "; C =\n",
    "\\left[\n",
    "\\begin{matrix}\n",
    "C_{11} & C_{12} & C_{13} \\\\ C_{21} & C_{22} & C_{23} \\\\ C_{31} & C_{32} & C_{33}\n",
    "\\end{matrix}\n",
    "\\right]\n",
    "\\end{equation}\n",
    "$$\n",
    "\n",
    "**Code:**"
   ],
   "id": "9a82e287066b9a9"
  },
  {
   "metadata": {
    "ExecuteTime": {
     "end_time": "2025-01-20T20:25:31.808048Z",
     "start_time": "2025-01-20T20:25:31.803150Z"
    }
   },
   "cell_type": "code",
   "source": [
    "# Define vectors and matrices\n",
    "a = np.array([[1, 2, 3]])        # Row vector (1x3)\n",
    "b = np.array([[4], [5], [6]])    # Column vector (3x1)\n",
    "c = np.array([[1, 2, 3],         # Matrix (3x3)\n",
    "              [4, 5, 6],\n",
    "              [7, 8, 9]])\n",
    "\n",
    "# Get the dimensions\n",
    "dim_a = a.shape\n",
    "dim_b = b.shape\n",
    "dim_c = c.shape\n",
    "\n",
    "print(f'a({dim_a}):\\n{a}')\n",
    "print(f'b({dim_b}):\\n{b}')\n",
    "print(f'c({dim_c}):\\n{c}')"
   ],
   "id": "ea100618137346b1",
   "outputs": [
    {
     "name": "stdout",
     "output_type": "stream",
     "text": [
      "a((1, 3)):\n",
      " [[1 2 3]]\n",
      "b((3, 1)):\n",
      " [[4]\n",
      " [5]\n",
      " [6]]\n",
      "c((3, 3)):\n",
      " [[1 2 3]\n",
      " [4 5 6]\n",
      " [7 8 9]]\n"
     ]
    }
   ],
   "execution_count": 12
  },
  {
   "metadata": {},
   "cell_type": "markdown",
   "source": [
    "### Transpose\n",
    "  \n",
    "When performing operations on vectors, it is easiest to represent a vector as a column vector, and a corresponding row vector as its *transpose&. \n",
    "$$\n",
    "\\begin{equation}\n",
    "a=\n",
    "\\left[\n",
    "\\begin{matrix}\n",
    "a_{1} \\\\ a_{2} \\\\ a_{3}\n",
    "\\end{matrix}\n",
    "\\right]\n",
    "; a^T=\n",
    "\\left[\n",
    "\\begin{matrix}\n",
    "a_{1} & a_{2} & a_{3}\n",
    "\\end{matrix}\n",
    "\\right]\n",
    "\\end{equation}\n",
    "$$\n",
    "\n",
    "**Code:**"
   ],
   "id": "8cc19bf3f6b6ec45"
  },
  {
   "metadata": {
    "ExecuteTime": {
     "end_time": "2025-01-20T20:31:12.784424Z",
     "start_time": "2025-01-20T20:31:12.777332Z"
    }
   },
   "cell_type": "code",
   "source": [
    "# Define a row vector\n",
    "a = np.array([[1, 2, 3]])\n",
    "\n",
    "# Transpose the vector\n",
    "a_transpose = a.T\n",
    "print('Transpose of a:\\n', a_transpose)\n",
    "print(f'Dim a: {a.shape}')\n",
    "print(f'Dim a_transpose: {a_transpose.shape}')"
   ],
   "id": "cf510fcdbf7bd66a",
   "outputs": [
    {
     "name": "stdout",
     "output_type": "stream",
     "text": [
      "Transpose of a:\n",
      " [[1]\n",
      " [2]\n",
      " [3]]\n",
      "Dim a: (1, 3)\n",
      "Dim a_transpose: (3, 1)\n"
     ]
    }
   ],
   "execution_count": 13
  },
  {
   "metadata": {},
   "cell_type": "markdown",
   "source": [
    "### Addition\n",
    "  \n",
    "Matrices of the same dimension can be added component-wise, and the result is a new matrix of the same dimension.  \n",
    "\n",
    "$$\n",
    "\\begin{equation}\n",
    "\\left[\n",
    "\\begin{matrix}\n",
    "a_{1} \\\\ a_{2} \\\\ a_{3}\n",
    "\\end{matrix}\n",
    "\\right]\n",
    "+\n",
    "\\left[\n",
    "\\begin{matrix}\n",
    "b_{1} \\\\ b_{2} \\\\ b_{3}\n",
    "\\end{matrix}\n",
    "\\right]\n",
    "=\n",
    "\\left[\n",
    "\\begin{matrix}\n",
    "a_{1} + b_{1}\\\\ a_{2} + b_{2} \\\\ a_{3} + b_{3}\n",
    "\\end{matrix}\n",
    "\\right]\n",
    "\\end{equation}\n",
    "$$\n",
    "  \n",
    "Matrix subtraction works precisely the same way.\n",
    "\n",
    "**Code:**"
   ],
   "id": "74059bc6d4a89265"
  },
  {
   "metadata": {
    "ExecuteTime": {
     "end_time": "2025-01-20T20:31:16.469720Z",
     "start_time": "2025-01-20T20:31:16.465968Z"
    }
   },
   "cell_type": "code",
   "source": [
    "# Define two vectors\n",
    "a = np.array([[1], [2], [3]])\n",
    "b = np.array([[4], [5], [6]])\n",
    "\n",
    "# Calculate the sum of a and b\n",
    "sum_ab = a + b\n",
    "\n",
    "# Calculate the difference between b and a\n",
    "diff_ba = b - a\n",
    "\n",
    "print('a + b:\\n', sum_ab)\n",
    "print('b - a:\\n', diff_ba)"
   ],
   "id": "6c7b6ab7c93841e5",
   "outputs": [
    {
     "name": "stdout",
     "output_type": "stream",
     "text": [
      "a + b:\n",
      " [[5]\n",
      " [7]\n",
      " [9]]\n",
      "b - a:\n",
      " [[3]\n",
      " [3]\n",
      " [3]]\n"
     ]
    }
   ],
   "execution_count": 14
  },
  {
   "metadata": {},
   "cell_type": "markdown",
   "source": [
    "### Scalar Multiplication\n",
    "\n",
    "A matrix can also be multiplied by a scalar by multiplying every component of a matrix by that scalar.\n",
    "\n",
    "$$\n",
    "\\begin{equation}\n",
    "\\alpha \\left[\n",
    "\\begin{matrix}\n",
    "a_{1} \\\\ a_{2} \\\\ a_{3}\n",
    "\\end{matrix}\n",
    "\\right]\n",
    "=\n",
    "\\left[\n",
    "\\begin{matrix}\n",
    "\\alpha a_{1} \\\\ \\alpha a_{2} \\\\ \\alpha a_{3}\n",
    "\\end{matrix}\n",
    "\\right]\n",
    "\\end{equation}\n",
    "$$\n",
    "\n",
    "**Code:**"
   ],
   "id": "34d602596998203c"
  },
  {
   "metadata": {},
   "cell_type": "code",
   "outputs": [],
   "execution_count": null,
   "source": "",
   "id": "518ebd4cdc05110"
  },
  {
   "metadata": {},
   "cell_type": "code",
   "outputs": [],
   "execution_count": null,
   "source": [
    "\n",
    "\n",
    "### Dot Product\n",
    "  \n",
    "However, there are other types of vector multiplication. Here, we will introduce one type of vector multiplication: the *dot product*, or *inner product*.  \n",
    "  \n",
    "A dot product is the sum of component-wise multiplication of vectors. To perform it, we first multiply each component of the first vector by its corresponding component of the second vector, then we sum the resulting products. The result of a dot product is a scalar.  \n",
    "  \n",
    "\\begin{equation}\n",
    "c =\n",
    "\\sum\\limits_{i} a_{i} b_{i}\n",
    "\\end{equation}  \n",
    "    \n",
    "In vector notation, the dot product can be written as follows  \n",
    "  \n",
    "\\begin{equation}\n",
    "b \\cdot a = b^T a = \n",
    "\\left[\n",
    "\\begin{matrix}\n",
    "b_{1} & b_{2} & b_{3}\n",
    "\\end{matrix}\n",
    "\\right]\n",
    "\\left[\n",
    "\\begin{matrix}\n",
    "a_{1} \\\\ a_{2} \\\\ a_{3}\n",
    "\\end{matrix}\n",
    "\\right]\n",
    "=a_{1}b_{1} + a_{2}b_{2} + a_{3}b_{3}  \n",
    "=c\n",
    "\\end{equation}  \n",
    "  \n",
    "Note that the product only works if its “inner dimensions”, the number of columns of $b$ and the number of rows of $a$, are the same."
   ],
   "id": "9f27971b459082ca"
  },
  {
   "metadata": {},
   "cell_type": "markdown",
   "source": [
    "## Exercise 1\n",
    " \n",
    "What happens if we try to compute a dot product from vectors whose inner dimensions are different? Write some code in Python that tries to compute the dot product from vectors with different inner dimensions.  Report and interpret the error.\n",
    "\n",
    "Here, you can use [Numpy](https://numpy.org/) for vector and matrix multiplication. To initialize a vecto\n"
   ],
   "id": "73713bec7c988726"
  }
 ],
 "metadata": {
  "kernelspec": {
   "display_name": "Python 3",
   "language": "python",
   "name": "python3"
  },
  "language_info": {
   "codemirror_mode": {
    "name": "ipython",
    "version": 2
   },
   "file_extension": ".py",
   "mimetype": "text/x-python",
   "name": "python",
   "nbconvert_exporter": "python",
   "pygments_lexer": "ipython2",
   "version": "2.7.6"
  }
 },
 "nbformat": 4,
 "nbformat_minor": 5
}

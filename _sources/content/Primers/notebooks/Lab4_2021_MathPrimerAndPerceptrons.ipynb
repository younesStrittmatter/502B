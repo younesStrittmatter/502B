{
 "nbformat": 4,
 "nbformat_minor": 0,
 "metadata": {
  "colab": {
   "name": "330Lab4.ipynb",
   "provenance": [],
   "collapsed_sections": []
  },
  "kernelspec": {
   "display_name": "Python 3",
   "language": "python",
   "name": "python3"
  }
 },
 "cells": [
  {
   "cell_type": "markdown",
   "metadata": {
    "id": "TikTliayW1Hr"
   },
   "source": [
    "To understand why our 2 layer net can't effectively learn the XOR labels, it may be helpful to consider the follwing graph: \n",
    "\n"
   ]
  },
  {
   "cell_type": "code",
   "metadata": {
    "colab": {
     "base_uri": "https://localhost:8080/",
     "height": 248
    },
    "id": "T6wsdjZaW1Hr",
    "outputId": "a95bf7ad-9682-45d3-92c7-254e94983d44"
   },
   "source": [
    "#convert to numpy arrays, as required for plotting functions\n",
    "Bool_bias_np=np.array(Bool_bias)\n",
    "#we will plot each point as red if the XOR relation is satisfied, and blue if not \n",
    "XOR_colors=['blue','red','red','blue']\n",
    "ax=plt.axes(projection='3d')\n",
    "\n",
    "ax.scatter(Bool_bias_np[:,0],Bool_bias_np[:,1],Bool_bias_np[:,2],color=XOR_colors)\n",
    "plt.title('XOR projected into 3-d')\n",
    "plt.show()"
   ],
   "execution_count": 10,
   "outputs": [
    {
     "output_type": "display_data",
     "data": {
      "image/png": "[encoded data removed]",
      "text/plain": [
       "<Figure size 432x288 with 1 Axes>"
      ]
     },
     "metadata": {
      "tags": []
     }
    }
   ]
  },
  {
   "cell_type": "markdown",
   "metadata": {
    "id": "XQhXg4owb_Ao"
   },
   "source": [
    "##  <a id='e3'>Exercise 4: Limitations of the Perceptron Learning Rule</a> \n",
    "\n",
    "\n",
    "**Looking at the graph above, why do you think that the network had trouble learning the XOR relation, but not the AND or the OR?**\n"
   ]
  },
  {
   "cell_type": "code",
   "metadata": {
    "id": "yfkOs2YnRkEm"
   },
   "source": [
    ""
   ],
   "execution_count": 10,
   "outputs": []
  },
  {
   "cell_type": "markdown",
   "metadata": {
    "id": "M6OOxihHIKKW"
   },
   "source": [
    "This example was important from a historical perspective. In the 1960s, Marvin Minsky and Seymour Papert showed that it was impossible for a simple neural network such as this one to learn the XOR relation. This caused people to lose interest in neural networks for a long time. However the interest was revived in the 1980s with the development of the Backpropagation algorithm, which showed how to generalize the Perceptron Learning Rule to networks with any number of layers. The ability to train networks with more than two layers allowed them to effectively learn XOR, as well as many other much more complex relations. "
   ]
  },
  {
   "cell_type": "markdown",
   "metadata": {
    "id": "gOT3AiKnB9uS"
   },
   "source": [
    "# BUILD"
   ]
  },
  {
   "cell_type": "code",
   "metadata": {
    "id": "Ss9RhbTgB_lo"
   },
   "source": [
    ""
   ],
   "execution_count": 10,
   "outputs": []
  },
  {
   "cell_type": "markdown",
   "metadata": {
    "id": "AVT4YAauGVBB"
   },
   "source": [
    "# Appendix: Derivation of Learning Rule for two-layer network with sigmoidal activation"
   ]
  },
  {
   "cell_type": "markdown",
   "metadata": {
    "id": "n-ZHvUacGVdt"
   },
   "source": [
    "Sigmoid neurons take inputs and produce outputs similar to perceptrons, however, the inputs and outputs are not binary. Additionally, rather than applying a simple dot product to the inputs such that\n",
    "\\begin{equation}\n",
    "z(w,x) = w \\cdot x + b\n",
    "\\end{equation}\n",
    "\n",
    "these new types of neurons apply the sigmoid function, of the form\n",
    "\n",
    "\\begin{equation}\n",
    "\\sigma(z(w,x))=\\frac{1}{1+e^{-z(w,x)}}\n",
    "\\end{equation}\n",
    "\n",
    ". \n",
    "This function is actually the same as a Logistic function with a bias value of 0 and a gain value of 1. It has an upper bound at 1 and a lower bound at zero. This can be seen by examining the limits: $\\lim_{z(w,x)\\to\\infty} \\sigma(z(w,x))$ and $\\lim_{z(w,x)\\to -\\infty} \\sigma(z(w,x))$. Although its equation looks complex, a sigmoid function can quickly become intuitive when you try modifying the parameters, as we did in Lab 1 with the Logistic function. The graph below illustrates gives the graph of $\\sigma(x)$.\n"
   ]
  },
  {
   "cell_type": "markdown",
   "metadata": {
    "id": "_eiLMMf3PdcN"
   },
   "source": [
    "<img src=\"https://drive.google.com/uc?id=11pGLSRaXt-eeBp37P0iTc3AmAsdb4Q1_\"> \n"
   ]
  },
  {
   "cell_type": "markdown",
   "metadata": {
    "id": "wMLRc8bjGmpJ"
   },
   "source": [
    "In a multilayer network, the output of multiple sigmoid functions in the first non-input layer forms the input to the next layer. However, because of its bounded structure, a sigmoid function only outputs 1 or 0 at the limits (when rounding error kicks in). Typically its output will be somewhere in between. Therefore, there will always be some error between the desired output of a logical function (1 or 0) and the output of a sigmoid. The error of a single output is given by  \n",
    "  \n",
    "\\begin{equation}\n",
    "E=desired \\ output - \\sigma(z(w,x))\n",
    "\\end{equation}  \n",
    "  \n",
    "A common measure of error is called the mean squared error, and is given by  \n",
    "  \n",
    "\\begin{equation}\n",
    "E =\n",
    "\\frac{1}{n} \\ \\sum_{i=1}^{n} (desired \\ output_{i} - \\sigma(z(w,x))_{i})^2\n",
    "\\end{equation}  \n",
    "  \n",
    "Although we cannot drive this value to zero (when our desired output is binary), we can minimize it. Because it is a sum of squares, we can minimize it by minimizing each term. Because each term is a convex function of the weights, it is minimized when its derivative as a function of the weights is zero. We can train our neural net to do this using the delta rule, which is very similar to the perceptron learning rule. \n",
    "\n",
    "\\begin{equation}\n",
    "w^{t+1} = \\underbrace{w^t}_\\text{current weight} + \\underbrace{\\Delta w^t}_\\text{weight change}\n",
    "\\end{equation}\n",
    "\n",
    "where \n",
    "\n",
    "\\begin{equation}\n",
    "\\Delta w^t = - \\alpha \\underbrace{\\frac{\\partial E^t}{\\partial w^t}}_\\text{change in error terms as a function of the weights}\n",
    "\\end{equation}\n",
    "\n",
    ".\n",
    "  \n",
    "As you can see, when the derivative of the error is zero, the weights stop changing. The error is, at this point, minimized.  \n",
    "  \n",
    "In order to calculate the derviative of the error, we simply employ the chain rule. We will aslo be using a modified form of the error. Instead of scaling each term by $\\frac{1}{n}$, we will scale by $\\frac{1}{2}$ \n",
    "\n",
    "So, each error term is given by \n",
    "  \n",
    "\\begin{equation}\n",
    "E_{i} =\n",
    "\\frac{1}{2} (desired \\ output_{i} - \\sigma(h(x))_{i})^2\n",
    "\\end{equation}  \n",
    "  \n",
    "and its derivative is given by  \n",
    "  \n",
    "\\begin{equation}\n",
    "\\frac{\\partial E_{i}}{\\partial w} = \\underbrace{\\frac{\\partial E_{i}}{\\partial \\sigma(h(w,x))}}_\\text{derivative 1} \\quad\n",
    "\\underbrace{\\frac{\\partial \\sigma(h(w,x))}{\\partial h(w,x)}}_\\text{derivative 2} \\quad\n",
    "\\underbrace{\\frac{\\partial h(w,x)}{\\partial w}}_\\text{derivative 3}\n",
    "\\end{equation}\n",
    "  \n",
    "Now, because $h(w,x)$ is a vector equation, its derivative is also a vector. This produces our vector of weight changes, each term of which is determined by derivative 3  \n",
    "  \n",
    "\\begin{equation}\n",
    "\\quad\n",
    "\\underbrace{\\frac{\\partial h(w,x)}{\\partial w_{i}}}_\\text{derivative 3}\n",
    "\\end{equation}  \n",
    ".\n",
    "\n",
    "This comes out surprisingly tidily:  \n",
    "  \n",
    "\\begin{equation}\n",
    "{\\frac{\\partial E^t}{\\partial w_{i}^t}}=(desired \\ output - \\sigma) (\\sigma (1 - \\sigma))x_{i}\n",
    "\\end{equation}  \n",
    "  \n",
    "Now \n",
    "\\begin{equation}\n",
    "\\Delta w^t_{i} = - \\alpha (desired \\ output - \\sigma) (\\sigma (1 - \\sigma))x_{i}\n",
    "\\end{equation}\n",
    "  \n",
    "Biases are updated in much the same fashion, using\n",
    "  \n",
    "\\begin{equation}\n",
    "\\Delta b^t_{i} = - \\alpha (desired \\ output - \\sigma) (\\sigma (1 - \\sigma))1\n",
    "\\end{equation}"
   ]
  }
 ]
}

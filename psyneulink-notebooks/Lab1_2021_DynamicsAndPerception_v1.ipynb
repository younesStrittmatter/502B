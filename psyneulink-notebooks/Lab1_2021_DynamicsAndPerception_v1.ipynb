{
 "nbformat": 4,
 "nbformat_minor": 0,
 "metadata": {
  "colab": {
   "name": "Lab_1_2021_DynamicsAndPerception_v1.ipynb",
   "provenance": [],
   "collapsed_sections": []
  },
  "kernelspec": {
   "display_name": "Python 3",
   "language": "python",
   "name": "python3"
  }
 },
 "cells": [
  {
   "cell_type": "markdown",
   "metadata": {
    "collapsed": false,
    "id": "4kxJ_3miwgAr"
   },
   "source": [
    "# Laboratory 1: Dynamics & Perception \n",
    "version 1.0 Feb 5 2021 (for eventual release to public) \n",
    "\n",
    "**Note:** You should complete the PsyNeuLink Beginner Tutorial prior to starting Lab 1, unless you are already familiar with the PsyNeuLink environment.  \n",
    "\n",
    "## Lab 1 Overview\n",
    " \n",
    "In this lab we will explore dynamic models using some examples from Perception.  We'll start with a Hopfield Network that takes noisy input and settles on a stable interpretation, then we'll explore some simple examples of dynamic networks evolving over time, and finally consider bistable percepts that can be interpretted multiple ways.  Along the way we'll cover numerous examples and concepts that recur and are useful throughout this course.     \n",
    "\n",
    "\n",
    "\n",
    " "
   ]
  },
  {
   "cell_type": "code",
   "metadata": {
    "id": "c3MvrNfkzm7l",
    "colab": {
     "base_uri": "https://localhost:8080/"
    },
    "outputId": "161c7e17-e4c5-4bce-98bb-d6b74b905863",
    "ExecuteTime": {
     "end_time": "2025-01-19T18:29:23.495057Z",
     "start_time": "2025-01-19T18:29:22.395805Z"
    }
   },
   "source": [
    "!pip install psyneulink"
   ],
   "outputs": [
    {
     "name": "stdout",
     "output_type": "stream",
     "text": [
      "Requirement already satisfied: psyneulink in /Users/younesstrittmatter/Documents/GitHub/younesStrittmatter/princeton/psyneulink-related/502B/.venv/lib/python3.11/site-packages (0.15.3.0)\r\n",
      "Requirement already satisfied: beartype<0.20.0 in /Users/younesstrittmatter/Documents/GitHub/younesStrittmatter/princeton/psyneulink-related/502B/.venv/lib/python3.11/site-packages (from psyneulink) (0.19.0)\r\n",
      "Requirement already satisfied: dill<0.3.10 in /Users/younesstrittmatter/Documents/GitHub/younesStrittmatter/princeton/psyneulink-related/502B/.venv/lib/python3.11/site-packages (from psyneulink) (0.3.9)\r\n",
      "Requirement already satisfied: fastkde<2.0.2,>=2.0.0 in /Users/younesstrittmatter/Documents/GitHub/younesStrittmatter/princeton/psyneulink-related/502B/.venv/lib/python3.11/site-packages (from psyneulink) (2.0.1)\r\n",
      "Requirement already satisfied: graph-scheduler<1.3.0,>=1.2.1 in /Users/younesstrittmatter/Documents/GitHub/younesStrittmatter/princeton/psyneulink-related/502B/.venv/lib/python3.11/site-packages (from psyneulink) (1.2.2)\r\n",
      "Requirement already satisfied: graphviz<0.21.0 in /Users/younesstrittmatter/Documents/GitHub/younesStrittmatter/princeton/psyneulink-related/502B/.venv/lib/python3.11/site-packages (from psyneulink) (0.20.3)\r\n",
      "Requirement already satisfied: grpcio<1.69.0 in /Users/younesstrittmatter/Documents/GitHub/younesStrittmatter/princeton/psyneulink-related/502B/.venv/lib/python3.11/site-packages (from psyneulink) (1.68.1)\r\n",
      "Requirement already satisfied: leabra-psyneulink<0.3.3 in /Users/younesstrittmatter/Documents/GitHub/younesStrittmatter/princeton/psyneulink-related/502B/.venv/lib/python3.11/site-packages (from psyneulink) (0.3.2)\r\n",
      "Requirement already satisfied: llvmlite<0.44 in /Users/younesstrittmatter/Documents/GitHub/younesStrittmatter/princeton/psyneulink-related/502B/.venv/lib/python3.11/site-packages (from psyneulink) (0.43.0)\r\n",
      "Requirement already satisfied: matplotlib<3.7.6 in /Users/younesstrittmatter/Documents/GitHub/younesStrittmatter/princeton/psyneulink-related/502B/.venv/lib/python3.11/site-packages (from psyneulink) (3.7.5)\r\n",
      "Requirement already satisfied: networkx<3.5 in /Users/younesstrittmatter/Documents/GitHub/younesStrittmatter/princeton/psyneulink-related/502B/.venv/lib/python3.11/site-packages (from psyneulink) (3.4.2)\r\n",
      "Requirement already satisfied: numpy<1.26.5,>=1.21.0 in /Users/younesstrittmatter/Documents/GitHub/younesStrittmatter/princeton/psyneulink-related/502B/.venv/lib/python3.11/site-packages (from psyneulink) (1.26.4)\r\n",
      "Requirement already satisfied: optuna<4.2.0 in /Users/younesstrittmatter/Documents/GitHub/younesStrittmatter/princeton/psyneulink-related/502B/.venv/lib/python3.11/site-packages (from psyneulink) (4.1.0)\r\n",
      "Requirement already satisfied: packaging<25.0 in /Users/younesstrittmatter/Documents/GitHub/younesStrittmatter/princeton/psyneulink-related/502B/.venv/lib/python3.11/site-packages (from psyneulink) (24.2)\r\n",
      "Requirement already satisfied: pandas<2.2.4 in /Users/younesstrittmatter/Documents/GitHub/younesStrittmatter/princeton/psyneulink-related/502B/.venv/lib/python3.11/site-packages (from psyneulink) (2.2.3)\r\n",
      "Requirement already satisfied: pillow<11.1.0 in /Users/younesstrittmatter/Documents/GitHub/younesStrittmatter/princeton/psyneulink-related/502B/.venv/lib/python3.11/site-packages (from psyneulink) (11.0.0)\r\n",
      "Requirement already satisfied: pint<0.22.0 in /Users/younesstrittmatter/Documents/GitHub/younesStrittmatter/princeton/psyneulink-related/502B/.venv/lib/python3.11/site-packages (from psyneulink) (0.21.1)\r\n",
      "Requirement already satisfied: protobuf<3.20.4 in /Users/younesstrittmatter/Documents/GitHub/younesStrittmatter/princeton/psyneulink-related/502B/.venv/lib/python3.11/site-packages (from psyneulink) (3.20.2)\r\n",
      "Requirement already satisfied: rich<10.13,>=10.1 in /Users/younesstrittmatter/Documents/GitHub/younesStrittmatter/princeton/psyneulink-related/502B/.venv/lib/python3.11/site-packages (from psyneulink) (10.12.0)\r\n",
      "Requirement already satisfied: scipy<1.15,>=1.7.3 in /Users/younesstrittmatter/Documents/GitHub/younesStrittmatter/princeton/psyneulink-related/502B/.venv/lib/python3.11/site-packages (from psyneulink) (1.14.1)\r\n",
      "Requirement already satisfied: toposort<1.11 in /Users/younesstrittmatter/Documents/GitHub/younesStrittmatter/princeton/psyneulink-related/502B/.venv/lib/python3.11/site-packages (from psyneulink) (1.10)\r\n",
      "Requirement already satisfied: modeci-mdf<0.5,>=0.4.3 in /Users/younesstrittmatter/Documents/GitHub/younesStrittmatter/princeton/psyneulink-related/502B/.venv/lib/python3.11/site-packages (from psyneulink) (0.4.10)\r\n",
      "Requirement already satisfied: torch<2.6.0,>=1.10.0 in /Users/younesstrittmatter/Documents/GitHub/younesStrittmatter/princeton/psyneulink-related/502B/.venv/lib/python3.11/site-packages (from psyneulink) (2.5.1)\r\n",
      "Requirement already satisfied: xarray in /Users/younesstrittmatter/Documents/GitHub/younesStrittmatter/princeton/psyneulink-related/502B/.venv/lib/python3.11/site-packages (from fastkde<2.0.2,>=2.0.0->psyneulink) (2025.1.1)\r\n",
      "Requirement already satisfied: bokeh>=0.12.6 in /Users/younesstrittmatter/Documents/GitHub/younesStrittmatter/princeton/psyneulink-related/502B/.venv/lib/python3.11/site-packages (from leabra-psyneulink<0.3.3->psyneulink) (3.6.2)\r\n",
      "Requirement already satisfied: ipywidgets>=7.0 in /Users/younesstrittmatter/Documents/GitHub/younesStrittmatter/princeton/psyneulink-related/502B/.venv/lib/python3.11/site-packages (from leabra-psyneulink<0.3.3->psyneulink) (8.1.5)\r\n",
      "Requirement already satisfied: jupyter in /Users/younesstrittmatter/Documents/GitHub/younesStrittmatter/princeton/psyneulink-related/502B/.venv/lib/python3.11/site-packages (from leabra-psyneulink<0.3.3->psyneulink) (1.1.1)\r\n",
      "Requirement already satisfied: contourpy>=1.0.1 in /Users/younesstrittmatter/Documents/GitHub/younesStrittmatter/princeton/psyneulink-related/502B/.venv/lib/python3.11/site-packages (from matplotlib<3.7.6->psyneulink) (1.3.1)\r\n",
      "Requirement already satisfied: cycler>=0.10 in /Users/younesstrittmatter/Documents/GitHub/younesStrittmatter/princeton/psyneulink-related/502B/.venv/lib/python3.11/site-packages (from matplotlib<3.7.6->psyneulink) (0.12.1)\r\n",
      "Requirement already satisfied: fonttools>=4.22.0 in /Users/younesstrittmatter/Documents/GitHub/younesStrittmatter/princeton/psyneulink-related/502B/.venv/lib/python3.11/site-packages (from matplotlib<3.7.6->psyneulink) (4.55.3)\r\n",
      "Requirement already satisfied: kiwisolver>=1.0.1 in /Users/younesstrittmatter/Documents/GitHub/younesStrittmatter/princeton/psyneulink-related/502B/.venv/lib/python3.11/site-packages (from matplotlib<3.7.6->psyneulink) (1.4.8)\r\n",
      "Requirement already satisfied: pyparsing>=2.3.1 in /Users/younesstrittmatter/Documents/GitHub/younesStrittmatter/princeton/psyneulink-related/502B/.venv/lib/python3.11/site-packages (from matplotlib<3.7.6->psyneulink) (3.2.1)\r\n",
      "Requirement already satisfied: python-dateutil>=2.7 in /Users/younesstrittmatter/Documents/GitHub/younesStrittmatter/princeton/psyneulink-related/502B/.venv/lib/python3.11/site-packages (from matplotlib<3.7.6->psyneulink) (2.9.0.post0)\r\n",
      "Requirement already satisfied: h5py in /Users/younesstrittmatter/Documents/GitHub/younesStrittmatter/princeton/psyneulink-related/502B/.venv/lib/python3.11/site-packages (from modeci-mdf<0.5,>=0.4.3->psyneulink) (3.12.1)\r\n",
      "Requirement already satisfied: onnxruntime in /Users/younesstrittmatter/Documents/GitHub/younesStrittmatter/princeton/psyneulink-related/502B/.venv/lib/python3.11/site-packages (from modeci-mdf<0.5,>=0.4.3->psyneulink) (1.20.1)\r\n",
      "Requirement already satisfied: onnx in /Users/younesstrittmatter/Documents/GitHub/younesStrittmatter/princeton/psyneulink-related/502B/.venv/lib/python3.11/site-packages (from modeci-mdf<0.5,>=0.4.3->psyneulink) (1.17.0)\r\n",
      "Requirement already satisfied: skl2onnx in /Users/younesstrittmatter/Documents/GitHub/younesStrittmatter/princeton/psyneulink-related/502B/.venv/lib/python3.11/site-packages (from modeci-mdf<0.5,>=0.4.3->psyneulink) (1.18.0)\r\n",
      "Requirement already satisfied: attrs>=21.1.0 in /Users/younesstrittmatter/Documents/GitHub/younesStrittmatter/princeton/psyneulink-related/502B/.venv/lib/python3.11/site-packages (from modeci-mdf<0.5,>=0.4.3->psyneulink) (24.3.0)\r\n",
      "Requirement already satisfied: cattrs in /Users/younesstrittmatter/Documents/GitHub/younesStrittmatter/princeton/psyneulink-related/502B/.venv/lib/python3.11/site-packages (from modeci-mdf<0.5,>=0.4.3->psyneulink) (24.1.2)\r\n",
      "Requirement already satisfied: modelspec<0.4,>=0.3.0 in /Users/younesstrittmatter/Documents/GitHub/younesStrittmatter/princeton/psyneulink-related/502B/.venv/lib/python3.11/site-packages (from modeci-mdf<0.5,>=0.4.3->psyneulink) (0.3.5)\r\n",
      "Requirement already satisfied: glom in /Users/younesstrittmatter/Documents/GitHub/younesStrittmatter/princeton/psyneulink-related/502B/.venv/lib/python3.11/site-packages (from modeci-mdf<0.5,>=0.4.3->psyneulink) (24.11.0)\r\n",
      "Requirement already satisfied: alembic>=1.5.0 in /Users/younesstrittmatter/Documents/GitHub/younesStrittmatter/princeton/psyneulink-related/502B/.venv/lib/python3.11/site-packages (from optuna<4.2.0->psyneulink) (1.14.0)\r\n",
      "Requirement already satisfied: colorlog in /Users/younesstrittmatter/Documents/GitHub/younesStrittmatter/princeton/psyneulink-related/502B/.venv/lib/python3.11/site-packages (from optuna<4.2.0->psyneulink) (6.9.0)\r\n",
      "Requirement already satisfied: sqlalchemy>=1.4.2 in /Users/younesstrittmatter/Documents/GitHub/younesStrittmatter/princeton/psyneulink-related/502B/.venv/lib/python3.11/site-packages (from optuna<4.2.0->psyneulink) (2.0.37)\r\n",
      "Requirement already satisfied: tqdm in /Users/younesstrittmatter/Documents/GitHub/younesStrittmatter/princeton/psyneulink-related/502B/.venv/lib/python3.11/site-packages (from optuna<4.2.0->psyneulink) (4.67.1)\r\n",
      "Requirement already satisfied: PyYAML in /Users/younesstrittmatter/Documents/GitHub/younesStrittmatter/princeton/psyneulink-related/502B/.venv/lib/python3.11/site-packages (from optuna<4.2.0->psyneulink) (6.0.2)\r\n",
      "Requirement already satisfied: pytz>=2020.1 in /Users/younesstrittmatter/Documents/GitHub/younesStrittmatter/princeton/psyneulink-related/502B/.venv/lib/python3.11/site-packages (from pandas<2.2.4->psyneulink) (2024.2)\r\n",
      "Requirement already satisfied: tzdata>=2022.7 in /Users/younesstrittmatter/Documents/GitHub/younesStrittmatter/princeton/psyneulink-related/502B/.venv/lib/python3.11/site-packages (from pandas<2.2.4->psyneulink) (2024.2)\r\n",
      "Requirement already satisfied: colorama<0.5.0,>=0.4.0 in /Users/younesstrittmatter/Documents/GitHub/younesStrittmatter/princeton/psyneulink-related/502B/.venv/lib/python3.11/site-packages (from rich<10.13,>=10.1->psyneulink) (0.4.6)\r\n",
      "Requirement already satisfied: commonmark<0.10.0,>=0.9.0 in /Users/younesstrittmatter/Documents/GitHub/younesStrittmatter/princeton/psyneulink-related/502B/.venv/lib/python3.11/site-packages (from rich<10.13,>=10.1->psyneulink) (0.9.1)\r\n",
      "Requirement already satisfied: pygments<3.0.0,>=2.6.0 in /Users/younesstrittmatter/Documents/GitHub/younesStrittmatter/princeton/psyneulink-related/502B/.venv/lib/python3.11/site-packages (from rich<10.13,>=10.1->psyneulink) (2.19.1)\r\n",
      "Requirement already satisfied: filelock in /Users/younesstrittmatter/Documents/GitHub/younesStrittmatter/princeton/psyneulink-related/502B/.venv/lib/python3.11/site-packages (from torch<2.6.0,>=1.10.0->psyneulink) (3.16.1)\r\n",
      "Requirement already satisfied: typing-extensions>=4.8.0 in /Users/younesstrittmatter/Documents/GitHub/younesStrittmatter/princeton/psyneulink-related/502B/.venv/lib/python3.11/site-packages (from torch<2.6.0,>=1.10.0->psyneulink) (4.12.2)\r\n",
      "Requirement already satisfied: jinja2 in /Users/younesstrittmatter/Documents/GitHub/younesStrittmatter/princeton/psyneulink-related/502B/.venv/lib/python3.11/site-packages (from torch<2.6.0,>=1.10.0->psyneulink) (3.1.5)\r\n",
      "Requirement already satisfied: fsspec in /Users/younesstrittmatter/Documents/GitHub/younesStrittmatter/princeton/psyneulink-related/502B/.venv/lib/python3.11/site-packages (from torch<2.6.0,>=1.10.0->psyneulink) (2024.12.0)\r\n",
      "Requirement already satisfied: sympy==1.13.1 in /Users/younesstrittmatter/Documents/GitHub/younesStrittmatter/princeton/psyneulink-related/502B/.venv/lib/python3.11/site-packages (from torch<2.6.0,>=1.10.0->psyneulink) (1.13.1)\r\n",
      "Requirement already satisfied: mpmath<1.4,>=1.1.0 in /Users/younesstrittmatter/Documents/GitHub/younesStrittmatter/princeton/psyneulink-related/502B/.venv/lib/python3.11/site-packages (from sympy==1.13.1->torch<2.6.0,>=1.10.0->psyneulink) (1.3.0)\r\n",
      "Requirement already satisfied: Mako in /Users/younesstrittmatter/Documents/GitHub/younesStrittmatter/princeton/psyneulink-related/502B/.venv/lib/python3.11/site-packages (from alembic>=1.5.0->optuna<4.2.0->psyneulink) (1.3.8)\r\n",
      "Requirement already satisfied: tornado>=6.2 in /Users/younesstrittmatter/Documents/GitHub/younesStrittmatter/princeton/psyneulink-related/502B/.venv/lib/python3.11/site-packages (from bokeh>=0.12.6->leabra-psyneulink<0.3.3->psyneulink) (6.4.2)\r\n",
      "Requirement already satisfied: xyzservices>=2021.09.1 in /Users/younesstrittmatter/Documents/GitHub/younesStrittmatter/princeton/psyneulink-related/502B/.venv/lib/python3.11/site-packages (from bokeh>=0.12.6->leabra-psyneulink<0.3.3->psyneulink) (2025.1.0)\r\n",
      "Requirement already satisfied: comm>=0.1.3 in /Users/younesstrittmatter/Documents/GitHub/younesStrittmatter/princeton/psyneulink-related/502B/.venv/lib/python3.11/site-packages (from ipywidgets>=7.0->leabra-psyneulink<0.3.3->psyneulink) (0.2.2)\r\n",
      "Requirement already satisfied: ipython>=6.1.0 in /Users/younesstrittmatter/Documents/GitHub/younesStrittmatter/princeton/psyneulink-related/502B/.venv/lib/python3.11/site-packages (from ipywidgets>=7.0->leabra-psyneulink<0.3.3->psyneulink) (8.31.0)\r\n",
      "Requirement already satisfied: traitlets>=4.3.1 in /Users/younesstrittmatter/Documents/GitHub/younesStrittmatter/princeton/psyneulink-related/502B/.venv/lib/python3.11/site-packages (from ipywidgets>=7.0->leabra-psyneulink<0.3.3->psyneulink) (5.14.3)\r\n",
      "Requirement already satisfied: widgetsnbextension~=4.0.12 in /Users/younesstrittmatter/Documents/GitHub/younesStrittmatter/princeton/psyneulink-related/502B/.venv/lib/python3.11/site-packages (from ipywidgets>=7.0->leabra-psyneulink<0.3.3->psyneulink) (4.0.13)\r\n",
      "Requirement already satisfied: jupyterlab-widgets~=3.0.12 in /Users/younesstrittmatter/Documents/GitHub/younesStrittmatter/princeton/psyneulink-related/502B/.venv/lib/python3.11/site-packages (from ipywidgets>=7.0->leabra-psyneulink<0.3.3->psyneulink) (3.0.13)\r\n",
      "Requirement already satisfied: MarkupSafe>=2.0 in /Users/younesstrittmatter/Documents/GitHub/younesStrittmatter/princeton/psyneulink-related/502B/.venv/lib/python3.11/site-packages (from jinja2->torch<2.6.0,>=1.10.0->psyneulink) (3.0.2)\r\n",
      "Requirement already satisfied: pymongo in /Users/younesstrittmatter/Documents/GitHub/younesStrittmatter/princeton/psyneulink-related/502B/.venv/lib/python3.11/site-packages (from modelspec<0.4,>=0.3.0->modeci-mdf<0.5,>=0.4.3->psyneulink) (4.10.1)\r\n",
      "Requirement already satisfied: tabulate in /Users/younesstrittmatter/Documents/GitHub/younesStrittmatter/princeton/psyneulink-related/502B/.venv/lib/python3.11/site-packages (from modelspec<0.4,>=0.3.0->modeci-mdf<0.5,>=0.4.3->psyneulink) (0.9.0)\r\n",
      "Requirement already satisfied: docstring-parser in /Users/younesstrittmatter/Documents/GitHub/younesStrittmatter/princeton/psyneulink-related/502B/.venv/lib/python3.11/site-packages (from modelspec<0.4,>=0.3.0->modeci-mdf<0.5,>=0.4.3->psyneulink) (0.16)\r\n",
      "Requirement already satisfied: six>=1.5 in /Users/younesstrittmatter/Documents/GitHub/younesStrittmatter/princeton/psyneulink-related/502B/.venv/lib/python3.11/site-packages (from python-dateutil>=2.7->matplotlib<3.7.6->psyneulink) (1.17.0)\r\n",
      "Requirement already satisfied: boltons>=19.3.0 in /Users/younesstrittmatter/Documents/GitHub/younesStrittmatter/princeton/psyneulink-related/502B/.venv/lib/python3.11/site-packages (from glom->modeci-mdf<0.5,>=0.4.3->psyneulink) (24.1.0)\r\n",
      "Requirement already satisfied: face>=20.1.1 in /Users/younesstrittmatter/Documents/GitHub/younesStrittmatter/princeton/psyneulink-related/502B/.venv/lib/python3.11/site-packages (from glom->modeci-mdf<0.5,>=0.4.3->psyneulink) (24.0.0)\r\n",
      "Requirement already satisfied: notebook in /Users/younesstrittmatter/Documents/GitHub/younesStrittmatter/princeton/psyneulink-related/502B/.venv/lib/python3.11/site-packages (from jupyter->leabra-psyneulink<0.3.3->psyneulink) (7.3.2)\r\n",
      "Requirement already satisfied: jupyter-console in /Users/younesstrittmatter/Documents/GitHub/younesStrittmatter/princeton/psyneulink-related/502B/.venv/lib/python3.11/site-packages (from jupyter->leabra-psyneulink<0.3.3->psyneulink) (6.6.3)\r\n",
      "Requirement already satisfied: nbconvert in /Users/younesstrittmatter/Documents/GitHub/younesStrittmatter/princeton/psyneulink-related/502B/.venv/lib/python3.11/site-packages (from jupyter->leabra-psyneulink<0.3.3->psyneulink) (7.16.5)\r\n",
      "Requirement already satisfied: ipykernel in /Users/younesstrittmatter/Documents/GitHub/younesStrittmatter/princeton/psyneulink-related/502B/.venv/lib/python3.11/site-packages (from jupyter->leabra-psyneulink<0.3.3->psyneulink) (6.29.5)\r\n",
      "Requirement already satisfied: jupyterlab in /Users/younesstrittmatter/Documents/GitHub/younesStrittmatter/princeton/psyneulink-related/502B/.venv/lib/python3.11/site-packages (from jupyter->leabra-psyneulink<0.3.3->psyneulink) (4.3.4)\r\n",
      "Requirement already satisfied: coloredlogs in /Users/younesstrittmatter/Documents/GitHub/younesStrittmatter/princeton/psyneulink-related/502B/.venv/lib/python3.11/site-packages (from onnxruntime->modeci-mdf<0.5,>=0.4.3->psyneulink) (15.0.1)\r\n",
      "Requirement already satisfied: flatbuffers in /Users/younesstrittmatter/Documents/GitHub/younesStrittmatter/princeton/psyneulink-related/502B/.venv/lib/python3.11/site-packages (from onnxruntime->modeci-mdf<0.5,>=0.4.3->psyneulink) (24.12.23)\r\n",
      "Requirement already satisfied: scikit-learn>=1.1 in /Users/younesstrittmatter/Documents/GitHub/younesStrittmatter/princeton/psyneulink-related/502B/.venv/lib/python3.11/site-packages (from skl2onnx->modeci-mdf<0.5,>=0.4.3->psyneulink) (1.6.1)\r\n",
      "Requirement already satisfied: onnxconverter-common>=1.7.0 in /Users/younesstrittmatter/Documents/GitHub/younesStrittmatter/princeton/psyneulink-related/502B/.venv/lib/python3.11/site-packages (from skl2onnx->modeci-mdf<0.5,>=0.4.3->psyneulink) (1.14.0)\r\n",
      "Requirement already satisfied: decorator in /Users/younesstrittmatter/Documents/GitHub/younesStrittmatter/princeton/psyneulink-related/502B/.venv/lib/python3.11/site-packages (from ipython>=6.1.0->ipywidgets>=7.0->leabra-psyneulink<0.3.3->psyneulink) (5.1.1)\r\n",
      "Requirement already satisfied: jedi>=0.16 in /Users/younesstrittmatter/Documents/GitHub/younesStrittmatter/princeton/psyneulink-related/502B/.venv/lib/python3.11/site-packages (from ipython>=6.1.0->ipywidgets>=7.0->leabra-psyneulink<0.3.3->psyneulink) (0.19.2)\r\n",
      "Requirement already satisfied: matplotlib-inline in /Users/younesstrittmatter/Documents/GitHub/younesStrittmatter/princeton/psyneulink-related/502B/.venv/lib/python3.11/site-packages (from ipython>=6.1.0->ipywidgets>=7.0->leabra-psyneulink<0.3.3->psyneulink) (0.1.7)\r\n",
      "Requirement already satisfied: pexpect>4.3 in /Users/younesstrittmatter/Documents/GitHub/younesStrittmatter/princeton/psyneulink-related/502B/.venv/lib/python3.11/site-packages (from ipython>=6.1.0->ipywidgets>=7.0->leabra-psyneulink<0.3.3->psyneulink) (4.9.0)\r\n",
      "Requirement already satisfied: prompt_toolkit<3.1.0,>=3.0.41 in /Users/younesstrittmatter/Documents/GitHub/younesStrittmatter/princeton/psyneulink-related/502B/.venv/lib/python3.11/site-packages (from ipython>=6.1.0->ipywidgets>=7.0->leabra-psyneulink<0.3.3->psyneulink) (3.0.48)\r\n",
      "Requirement already satisfied: stack_data in /Users/younesstrittmatter/Documents/GitHub/younesStrittmatter/princeton/psyneulink-related/502B/.venv/lib/python3.11/site-packages (from ipython>=6.1.0->ipywidgets>=7.0->leabra-psyneulink<0.3.3->psyneulink) (0.6.3)\r\n",
      "Requirement already satisfied: joblib>=1.2.0 in /Users/younesstrittmatter/Documents/GitHub/younesStrittmatter/princeton/psyneulink-related/502B/.venv/lib/python3.11/site-packages (from scikit-learn>=1.1->skl2onnx->modeci-mdf<0.5,>=0.4.3->psyneulink) (1.4.2)\r\n",
      "Requirement already satisfied: threadpoolctl>=3.1.0 in /Users/younesstrittmatter/Documents/GitHub/younesStrittmatter/princeton/psyneulink-related/502B/.venv/lib/python3.11/site-packages (from scikit-learn>=1.1->skl2onnx->modeci-mdf<0.5,>=0.4.3->psyneulink) (3.5.0)\r\n",
      "Requirement already satisfied: humanfriendly>=9.1 in /Users/younesstrittmatter/Documents/GitHub/younesStrittmatter/princeton/psyneulink-related/502B/.venv/lib/python3.11/site-packages (from coloredlogs->onnxruntime->modeci-mdf<0.5,>=0.4.3->psyneulink) (10.0)\r\n",
      "Requirement already satisfied: appnope in /Users/younesstrittmatter/Documents/GitHub/younesStrittmatter/princeton/psyneulink-related/502B/.venv/lib/python3.11/site-packages (from ipykernel->jupyter->leabra-psyneulink<0.3.3->psyneulink) (0.1.4)\r\n",
      "Requirement already satisfied: debugpy>=1.6.5 in /Users/younesstrittmatter/Documents/GitHub/younesStrittmatter/princeton/psyneulink-related/502B/.venv/lib/python3.11/site-packages (from ipykernel->jupyter->leabra-psyneulink<0.3.3->psyneulink) (1.8.12)\r\n",
      "Requirement already satisfied: jupyter-client>=6.1.12 in /Users/younesstrittmatter/Documents/GitHub/younesStrittmatter/princeton/psyneulink-related/502B/.venv/lib/python3.11/site-packages (from ipykernel->jupyter->leabra-psyneulink<0.3.3->psyneulink) (8.6.3)\r\n",
      "Requirement already satisfied: jupyter-core!=5.0.*,>=4.12 in /Users/younesstrittmatter/Documents/GitHub/younesStrittmatter/princeton/psyneulink-related/502B/.venv/lib/python3.11/site-packages (from ipykernel->jupyter->leabra-psyneulink<0.3.3->psyneulink) (5.7.2)\r\n",
      "Requirement already satisfied: nest-asyncio in /Users/younesstrittmatter/Documents/GitHub/younesStrittmatter/princeton/psyneulink-related/502B/.venv/lib/python3.11/site-packages (from ipykernel->jupyter->leabra-psyneulink<0.3.3->psyneulink) (1.6.0)\r\n",
      "Requirement already satisfied: psutil in /Users/younesstrittmatter/Documents/GitHub/younesStrittmatter/princeton/psyneulink-related/502B/.venv/lib/python3.11/site-packages (from ipykernel->jupyter->leabra-psyneulink<0.3.3->psyneulink) (6.1.1)\r\n",
      "Requirement already satisfied: pyzmq>=24 in /Users/younesstrittmatter/Documents/GitHub/younesStrittmatter/princeton/psyneulink-related/502B/.venv/lib/python3.11/site-packages (from ipykernel->jupyter->leabra-psyneulink<0.3.3->psyneulink) (26.2.0)\r\n",
      "Requirement already satisfied: async-lru>=1.0.0 in /Users/younesstrittmatter/Documents/GitHub/younesStrittmatter/princeton/psyneulink-related/502B/.venv/lib/python3.11/site-packages (from jupyterlab->jupyter->leabra-psyneulink<0.3.3->psyneulink) (2.0.4)\r\n",
      "Requirement already satisfied: httpx>=0.25.0 in /Users/younesstrittmatter/Documents/GitHub/younesStrittmatter/princeton/psyneulink-related/502B/.venv/lib/python3.11/site-packages (from jupyterlab->jupyter->leabra-psyneulink<0.3.3->psyneulink) (0.28.1)\r\n",
      "Requirement already satisfied: jupyter-lsp>=2.0.0 in /Users/younesstrittmatter/Documents/GitHub/younesStrittmatter/princeton/psyneulink-related/502B/.venv/lib/python3.11/site-packages (from jupyterlab->jupyter->leabra-psyneulink<0.3.3->psyneulink) (2.2.5)\r\n",
      "Requirement already satisfied: jupyter-server<3,>=2.4.0 in /Users/younesstrittmatter/Documents/GitHub/younesStrittmatter/princeton/psyneulink-related/502B/.venv/lib/python3.11/site-packages (from jupyterlab->jupyter->leabra-psyneulink<0.3.3->psyneulink) (2.15.0)\r\n",
      "Requirement already satisfied: jupyterlab-server<3,>=2.27.1 in /Users/younesstrittmatter/Documents/GitHub/younesStrittmatter/princeton/psyneulink-related/502B/.venv/lib/python3.11/site-packages (from jupyterlab->jupyter->leabra-psyneulink<0.3.3->psyneulink) (2.27.3)\r\n",
      "Requirement already satisfied: notebook-shim>=0.2 in /Users/younesstrittmatter/Documents/GitHub/younesStrittmatter/princeton/psyneulink-related/502B/.venv/lib/python3.11/site-packages (from jupyterlab->jupyter->leabra-psyneulink<0.3.3->psyneulink) (0.2.4)\r\n",
      "Requirement already satisfied: setuptools>=40.8.0 in /Users/younesstrittmatter/Documents/GitHub/younesStrittmatter/princeton/psyneulink-related/502B/.venv/lib/python3.11/site-packages (from jupyterlab->jupyter->leabra-psyneulink<0.3.3->psyneulink) (74.1.2)\r\n",
      "Requirement already satisfied: beautifulsoup4 in /Users/younesstrittmatter/Documents/GitHub/younesStrittmatter/princeton/psyneulink-related/502B/.venv/lib/python3.11/site-packages (from nbconvert->jupyter->leabra-psyneulink<0.3.3->psyneulink) (4.12.3)\r\n",
      "Requirement already satisfied: bleach!=5.0.0 in /Users/younesstrittmatter/Documents/GitHub/younesStrittmatter/princeton/psyneulink-related/502B/.venv/lib/python3.11/site-packages (from bleach[css]!=5.0.0->nbconvert->jupyter->leabra-psyneulink<0.3.3->psyneulink) (6.2.0)\r\n",
      "Requirement already satisfied: defusedxml in /Users/younesstrittmatter/Documents/GitHub/younesStrittmatter/princeton/psyneulink-related/502B/.venv/lib/python3.11/site-packages (from nbconvert->jupyter->leabra-psyneulink<0.3.3->psyneulink) (0.7.1)\r\n",
      "Requirement already satisfied: jupyterlab-pygments in /Users/younesstrittmatter/Documents/GitHub/younesStrittmatter/princeton/psyneulink-related/502B/.venv/lib/python3.11/site-packages (from nbconvert->jupyter->leabra-psyneulink<0.3.3->psyneulink) (0.3.0)\r\n",
      "Requirement already satisfied: mistune<4,>=2.0.3 in /Users/younesstrittmatter/Documents/GitHub/younesStrittmatter/princeton/psyneulink-related/502B/.venv/lib/python3.11/site-packages (from nbconvert->jupyter->leabra-psyneulink<0.3.3->psyneulink) (3.1.0)\r\n",
      "Requirement already satisfied: nbclient>=0.5.0 in /Users/younesstrittmatter/Documents/GitHub/younesStrittmatter/princeton/psyneulink-related/502B/.venv/lib/python3.11/site-packages (from nbconvert->jupyter->leabra-psyneulink<0.3.3->psyneulink) (0.10.2)\r\n",
      "Requirement already satisfied: nbformat>=5.7 in /Users/younesstrittmatter/Documents/GitHub/younesStrittmatter/princeton/psyneulink-related/502B/.venv/lib/python3.11/site-packages (from nbconvert->jupyter->leabra-psyneulink<0.3.3->psyneulink) (5.10.4)\r\n",
      "Requirement already satisfied: pandocfilters>=1.4.1 in /Users/younesstrittmatter/Documents/GitHub/younesStrittmatter/princeton/psyneulink-related/502B/.venv/lib/python3.11/site-packages (from nbconvert->jupyter->leabra-psyneulink<0.3.3->psyneulink) (1.5.1)\r\n",
      "Requirement already satisfied: dnspython<3.0.0,>=1.16.0 in /Users/younesstrittmatter/Documents/GitHub/younesStrittmatter/princeton/psyneulink-related/502B/.venv/lib/python3.11/site-packages (from pymongo->modelspec<0.4,>=0.3.0->modeci-mdf<0.5,>=0.4.3->psyneulink) (2.7.0)\r\n",
      "Requirement already satisfied: webencodings in /Users/younesstrittmatter/Documents/GitHub/younesStrittmatter/princeton/psyneulink-related/502B/.venv/lib/python3.11/site-packages (from bleach!=5.0.0->bleach[css]!=5.0.0->nbconvert->jupyter->leabra-psyneulink<0.3.3->psyneulink) (0.5.1)\r\n",
      "Requirement already satisfied: tinycss2<1.5,>=1.1.0 in /Users/younesstrittmatter/Documents/GitHub/younesStrittmatter/princeton/psyneulink-related/502B/.venv/lib/python3.11/site-packages (from bleach[css]!=5.0.0->nbconvert->jupyter->leabra-psyneulink<0.3.3->psyneulink) (1.4.0)\r\n",
      "Requirement already satisfied: anyio in /Users/younesstrittmatter/Documents/GitHub/younesStrittmatter/princeton/psyneulink-related/502B/.venv/lib/python3.11/site-packages (from httpx>=0.25.0->jupyterlab->jupyter->leabra-psyneulink<0.3.3->psyneulink) (4.8.0)\r\n",
      "Requirement already satisfied: certifi in /Users/younesstrittmatter/Documents/GitHub/younesStrittmatter/princeton/psyneulink-related/502B/.venv/lib/python3.11/site-packages (from httpx>=0.25.0->jupyterlab->jupyter->leabra-psyneulink<0.3.3->psyneulink) (2024.12.14)\r\n",
      "Requirement already satisfied: httpcore==1.* in /Users/younesstrittmatter/Documents/GitHub/younesStrittmatter/princeton/psyneulink-related/502B/.venv/lib/python3.11/site-packages (from httpx>=0.25.0->jupyterlab->jupyter->leabra-psyneulink<0.3.3->psyneulink) (1.0.7)\r\n",
      "Requirement already satisfied: idna in /Users/younesstrittmatter/Documents/GitHub/younesStrittmatter/princeton/psyneulink-related/502B/.venv/lib/python3.11/site-packages (from httpx>=0.25.0->jupyterlab->jupyter->leabra-psyneulink<0.3.3->psyneulink) (3.10)\r\n",
      "Requirement already satisfied: h11<0.15,>=0.13 in /Users/younesstrittmatter/Documents/GitHub/younesStrittmatter/princeton/psyneulink-related/502B/.venv/lib/python3.11/site-packages (from httpcore==1.*->httpx>=0.25.0->jupyterlab->jupyter->leabra-psyneulink<0.3.3->psyneulink) (0.14.0)\r\n",
      "Requirement already satisfied: parso<0.9.0,>=0.8.4 in /Users/younesstrittmatter/Documents/GitHub/younesStrittmatter/princeton/psyneulink-related/502B/.venv/lib/python3.11/site-packages (from jedi>=0.16->ipython>=6.1.0->ipywidgets>=7.0->leabra-psyneulink<0.3.3->psyneulink) (0.8.4)\r\n",
      "Requirement already satisfied: platformdirs>=2.5 in /Users/younesstrittmatter/Documents/GitHub/younesStrittmatter/princeton/psyneulink-related/502B/.venv/lib/python3.11/site-packages (from jupyter-core!=5.0.*,>=4.12->ipykernel->jupyter->leabra-psyneulink<0.3.3->psyneulink) (4.3.6)\r\n",
      "Requirement already satisfied: argon2-cffi>=21.1 in /Users/younesstrittmatter/Documents/GitHub/younesStrittmatter/princeton/psyneulink-related/502B/.venv/lib/python3.11/site-packages (from jupyter-server<3,>=2.4.0->jupyterlab->jupyter->leabra-psyneulink<0.3.3->psyneulink) (23.1.0)\r\n",
      "Requirement already satisfied: jupyter-events>=0.11.0 in /Users/younesstrittmatter/Documents/GitHub/younesStrittmatter/princeton/psyneulink-related/502B/.venv/lib/python3.11/site-packages (from jupyter-server<3,>=2.4.0->jupyterlab->jupyter->leabra-psyneulink<0.3.3->psyneulink) (0.11.0)\r\n",
      "Requirement already satisfied: jupyter-server-terminals>=0.4.4 in /Users/younesstrittmatter/Documents/GitHub/younesStrittmatter/princeton/psyneulink-related/502B/.venv/lib/python3.11/site-packages (from jupyter-server<3,>=2.4.0->jupyterlab->jupyter->leabra-psyneulink<0.3.3->psyneulink) (0.5.3)\r\n",
      "Requirement already satisfied: overrides>=5.0 in /Users/younesstrittmatter/Documents/GitHub/younesStrittmatter/princeton/psyneulink-related/502B/.venv/lib/python3.11/site-packages (from jupyter-server<3,>=2.4.0->jupyterlab->jupyter->leabra-psyneulink<0.3.3->psyneulink) (7.7.0)\r\n",
      "Requirement already satisfied: prometheus-client>=0.9 in /Users/younesstrittmatter/Documents/GitHub/younesStrittmatter/princeton/psyneulink-related/502B/.venv/lib/python3.11/site-packages (from jupyter-server<3,>=2.4.0->jupyterlab->jupyter->leabra-psyneulink<0.3.3->psyneulink) (0.21.1)\r\n",
      "Requirement already satisfied: send2trash>=1.8.2 in /Users/younesstrittmatter/Documents/GitHub/younesStrittmatter/princeton/psyneulink-related/502B/.venv/lib/python3.11/site-packages (from jupyter-server<3,>=2.4.0->jupyterlab->jupyter->leabra-psyneulink<0.3.3->psyneulink) (1.8.3)\r\n",
      "Requirement already satisfied: terminado>=0.8.3 in /Users/younesstrittmatter/Documents/GitHub/younesStrittmatter/princeton/psyneulink-related/502B/.venv/lib/python3.11/site-packages (from jupyter-server<3,>=2.4.0->jupyterlab->jupyter->leabra-psyneulink<0.3.3->psyneulink) (0.18.1)\r\n",
      "Requirement already satisfied: websocket-client>=1.7 in /Users/younesstrittmatter/Documents/GitHub/younesStrittmatter/princeton/psyneulink-related/502B/.venv/lib/python3.11/site-packages (from jupyter-server<3,>=2.4.0->jupyterlab->jupyter->leabra-psyneulink<0.3.3->psyneulink) (1.8.0)\r\n",
      "Requirement already satisfied: babel>=2.10 in /Users/younesstrittmatter/Documents/GitHub/younesStrittmatter/princeton/psyneulink-related/502B/.venv/lib/python3.11/site-packages (from jupyterlab-server<3,>=2.27.1->jupyterlab->jupyter->leabra-psyneulink<0.3.3->psyneulink) (2.16.0)\r\n",
      "Requirement already satisfied: json5>=0.9.0 in /Users/younesstrittmatter/Documents/GitHub/younesStrittmatter/princeton/psyneulink-related/502B/.venv/lib/python3.11/site-packages (from jupyterlab-server<3,>=2.27.1->jupyterlab->jupyter->leabra-psyneulink<0.3.3->psyneulink) (0.10.0)\r\n",
      "Requirement already satisfied: jsonschema>=4.18.0 in /Users/younesstrittmatter/Documents/GitHub/younesStrittmatter/princeton/psyneulink-related/502B/.venv/lib/python3.11/site-packages (from jupyterlab-server<3,>=2.27.1->jupyterlab->jupyter->leabra-psyneulink<0.3.3->psyneulink) (4.23.0)\r\n",
      "Requirement already satisfied: requests>=2.31 in /Users/younesstrittmatter/Documents/GitHub/younesStrittmatter/princeton/psyneulink-related/502B/.venv/lib/python3.11/site-packages (from jupyterlab-server<3,>=2.27.1->jupyterlab->jupyter->leabra-psyneulink<0.3.3->psyneulink) (2.32.3)\r\n",
      "Requirement already satisfied: fastjsonschema>=2.15 in /Users/younesstrittmatter/Documents/GitHub/younesStrittmatter/princeton/psyneulink-related/502B/.venv/lib/python3.11/site-packages (from nbformat>=5.7->nbconvert->jupyter->leabra-psyneulink<0.3.3->psyneulink) (2.21.1)\r\n",
      "Requirement already satisfied: ptyprocess>=0.5 in /Users/younesstrittmatter/Documents/GitHub/younesStrittmatter/princeton/psyneulink-related/502B/.venv/lib/python3.11/site-packages (from pexpect>4.3->ipython>=6.1.0->ipywidgets>=7.0->leabra-psyneulink<0.3.3->psyneulink) (0.7.0)\r\n",
      "Requirement already satisfied: wcwidth in /Users/younesstrittmatter/Documents/GitHub/younesStrittmatter/princeton/psyneulink-related/502B/.venv/lib/python3.11/site-packages (from prompt_toolkit<3.1.0,>=3.0.41->ipython>=6.1.0->ipywidgets>=7.0->leabra-psyneulink<0.3.3->psyneulink) (0.2.13)\r\n",
      "Requirement already satisfied: soupsieve>1.2 in /Users/younesstrittmatter/Documents/GitHub/younesStrittmatter/princeton/psyneulink-related/502B/.venv/lib/python3.11/site-packages (from beautifulsoup4->nbconvert->jupyter->leabra-psyneulink<0.3.3->psyneulink) (2.6)\r\n",
      "Requirement already satisfied: executing>=1.2.0 in /Users/younesstrittmatter/Documents/GitHub/younesStrittmatter/princeton/psyneulink-related/502B/.venv/lib/python3.11/site-packages (from stack_data->ipython>=6.1.0->ipywidgets>=7.0->leabra-psyneulink<0.3.3->psyneulink) (2.1.0)\r\n",
      "Requirement already satisfied: asttokens>=2.1.0 in /Users/younesstrittmatter/Documents/GitHub/younesStrittmatter/princeton/psyneulink-related/502B/.venv/lib/python3.11/site-packages (from stack_data->ipython>=6.1.0->ipywidgets>=7.0->leabra-psyneulink<0.3.3->psyneulink) (3.0.0)\r\n",
      "Requirement already satisfied: pure-eval in /Users/younesstrittmatter/Documents/GitHub/younesStrittmatter/princeton/psyneulink-related/502B/.venv/lib/python3.11/site-packages (from stack_data->ipython>=6.1.0->ipywidgets>=7.0->leabra-psyneulink<0.3.3->psyneulink) (0.2.3)\r\n",
      "Requirement already satisfied: sniffio>=1.1 in /Users/younesstrittmatter/Documents/GitHub/younesStrittmatter/princeton/psyneulink-related/502B/.venv/lib/python3.11/site-packages (from anyio->httpx>=0.25.0->jupyterlab->jupyter->leabra-psyneulink<0.3.3->psyneulink) (1.3.1)\r\n",
      "Requirement already satisfied: argon2-cffi-bindings in /Users/younesstrittmatter/Documents/GitHub/younesStrittmatter/princeton/psyneulink-related/502B/.venv/lib/python3.11/site-packages (from argon2-cffi>=21.1->jupyter-server<3,>=2.4.0->jupyterlab->jupyter->leabra-psyneulink<0.3.3->psyneulink) (21.2.0)\r\n",
      "Requirement already satisfied: jsonschema-specifications>=2023.03.6 in /Users/younesstrittmatter/Documents/GitHub/younesStrittmatter/princeton/psyneulink-related/502B/.venv/lib/python3.11/site-packages (from jsonschema>=4.18.0->jupyterlab-server<3,>=2.27.1->jupyterlab->jupyter->leabra-psyneulink<0.3.3->psyneulink) (2024.10.1)\r\n",
      "Requirement already satisfied: referencing>=0.28.4 in /Users/younesstrittmatter/Documents/GitHub/younesStrittmatter/princeton/psyneulink-related/502B/.venv/lib/python3.11/site-packages (from jsonschema>=4.18.0->jupyterlab-server<3,>=2.27.1->jupyterlab->jupyter->leabra-psyneulink<0.3.3->psyneulink) (0.36.1)\r\n",
      "Requirement already satisfied: rpds-py>=0.7.1 in /Users/younesstrittmatter/Documents/GitHub/younesStrittmatter/princeton/psyneulink-related/502B/.venv/lib/python3.11/site-packages (from jsonschema>=4.18.0->jupyterlab-server<3,>=2.27.1->jupyterlab->jupyter->leabra-psyneulink<0.3.3->psyneulink) (0.22.3)\r\n",
      "Requirement already satisfied: python-json-logger>=2.0.4 in /Users/younesstrittmatter/Documents/GitHub/younesStrittmatter/princeton/psyneulink-related/502B/.venv/lib/python3.11/site-packages (from jupyter-events>=0.11.0->jupyter-server<3,>=2.4.0->jupyterlab->jupyter->leabra-psyneulink<0.3.3->psyneulink) (3.2.1)\r\n",
      "Requirement already satisfied: rfc3339-validator in /Users/younesstrittmatter/Documents/GitHub/younesStrittmatter/princeton/psyneulink-related/502B/.venv/lib/python3.11/site-packages (from jupyter-events>=0.11.0->jupyter-server<3,>=2.4.0->jupyterlab->jupyter->leabra-psyneulink<0.3.3->psyneulink) (0.1.4)\r\n",
      "Requirement already satisfied: rfc3986-validator>=0.1.1 in /Users/younesstrittmatter/Documents/GitHub/younesStrittmatter/princeton/psyneulink-related/502B/.venv/lib/python3.11/site-packages (from jupyter-events>=0.11.0->jupyter-server<3,>=2.4.0->jupyterlab->jupyter->leabra-psyneulink<0.3.3->psyneulink) (0.1.1)\r\n",
      "Requirement already satisfied: charset-normalizer<4,>=2 in /Users/younesstrittmatter/Documents/GitHub/younesStrittmatter/princeton/psyneulink-related/502B/.venv/lib/python3.11/site-packages (from requests>=2.31->jupyterlab-server<3,>=2.27.1->jupyterlab->jupyter->leabra-psyneulink<0.3.3->psyneulink) (3.4.1)\r\n",
      "Requirement already satisfied: urllib3<3,>=1.21.1 in /Users/younesstrittmatter/Documents/GitHub/younesStrittmatter/princeton/psyneulink-related/502B/.venv/lib/python3.11/site-packages (from requests>=2.31->jupyterlab-server<3,>=2.27.1->jupyterlab->jupyter->leabra-psyneulink<0.3.3->psyneulink) (2.3.0)\r\n",
      "Requirement already satisfied: fqdn in /Users/younesstrittmatter/Documents/GitHub/younesStrittmatter/princeton/psyneulink-related/502B/.venv/lib/python3.11/site-packages (from jsonschema[format-nongpl]>=4.18.0->jupyter-events>=0.11.0->jupyter-server<3,>=2.4.0->jupyterlab->jupyter->leabra-psyneulink<0.3.3->psyneulink) (1.5.1)\r\n",
      "Requirement already satisfied: isoduration in /Users/younesstrittmatter/Documents/GitHub/younesStrittmatter/princeton/psyneulink-related/502B/.venv/lib/python3.11/site-packages (from jsonschema[format-nongpl]>=4.18.0->jupyter-events>=0.11.0->jupyter-server<3,>=2.4.0->jupyterlab->jupyter->leabra-psyneulink<0.3.3->psyneulink) (20.11.0)\r\n",
      "Requirement already satisfied: jsonpointer>1.13 in /Users/younesstrittmatter/Documents/GitHub/younesStrittmatter/princeton/psyneulink-related/502B/.venv/lib/python3.11/site-packages (from jsonschema[format-nongpl]>=4.18.0->jupyter-events>=0.11.0->jupyter-server<3,>=2.4.0->jupyterlab->jupyter->leabra-psyneulink<0.3.3->psyneulink) (3.0.0)\r\n",
      "Requirement already satisfied: uri-template in /Users/younesstrittmatter/Documents/GitHub/younesStrittmatter/princeton/psyneulink-related/502B/.venv/lib/python3.11/site-packages (from jsonschema[format-nongpl]>=4.18.0->jupyter-events>=0.11.0->jupyter-server<3,>=2.4.0->jupyterlab->jupyter->leabra-psyneulink<0.3.3->psyneulink) (1.3.0)\r\n",
      "Requirement already satisfied: webcolors>=24.6.0 in /Users/younesstrittmatter/Documents/GitHub/younesStrittmatter/princeton/psyneulink-related/502B/.venv/lib/python3.11/site-packages (from jsonschema[format-nongpl]>=4.18.0->jupyter-events>=0.11.0->jupyter-server<3,>=2.4.0->jupyterlab->jupyter->leabra-psyneulink<0.3.3->psyneulink) (24.11.1)\r\n",
      "Requirement already satisfied: cffi>=1.0.1 in /Users/younesstrittmatter/Documents/GitHub/younesStrittmatter/princeton/psyneulink-related/502B/.venv/lib/python3.11/site-packages (from argon2-cffi-bindings->argon2-cffi>=21.1->jupyter-server<3,>=2.4.0->jupyterlab->jupyter->leabra-psyneulink<0.3.3->psyneulink) (1.17.1)\r\n",
      "Requirement already satisfied: pycparser in /Users/younesstrittmatter/Documents/GitHub/younesStrittmatter/princeton/psyneulink-related/502B/.venv/lib/python3.11/site-packages (from cffi>=1.0.1->argon2-cffi-bindings->argon2-cffi>=21.1->jupyter-server<3,>=2.4.0->jupyterlab->jupyter->leabra-psyneulink<0.3.3->psyneulink) (2.22)\r\n",
      "Requirement already satisfied: arrow>=0.15.0 in /Users/younesstrittmatter/Documents/GitHub/younesStrittmatter/princeton/psyneulink-related/502B/.venv/lib/python3.11/site-packages (from isoduration->jsonschema[format-nongpl]>=4.18.0->jupyter-events>=0.11.0->jupyter-server<3,>=2.4.0->jupyterlab->jupyter->leabra-psyneulink<0.3.3->psyneulink) (1.3.0)\r\n",
      "Requirement already satisfied: types-python-dateutil>=2.8.10 in /Users/younesstrittmatter/Documents/GitHub/younesStrittmatter/princeton/psyneulink-related/502B/.venv/lib/python3.11/site-packages (from arrow>=0.15.0->isoduration->jsonschema[format-nongpl]>=4.18.0->jupyter-events>=0.11.0->jupyter-server<3,>=2.4.0->jupyterlab->jupyter->leabra-psyneulink<0.3.3->psyneulink) (2.9.0.20241206)\r\n",
      "\r\n",
      "\u001B[1m[\u001B[0m\u001B[34;49mnotice\u001B[0m\u001B[1;39;49m]\u001B[0m\u001B[39;49m A new release of pip is available: \u001B[0m\u001B[31;49m24.2\u001B[0m\u001B[39;49m -> \u001B[0m\u001B[32;49m24.3.1\u001B[0m\r\n",
      "\u001B[1m[\u001B[0m\u001B[34;49mnotice\u001B[0m\u001B[1;39;49m]\u001B[0m\u001B[39;49m To update, run: \u001B[0m\u001B[32;49mpip install --upgrade pip\u001B[0m\r\n"
     ]
    }
   ],
   "execution_count": 2
  },
  {
   "cell_type": "code",
   "metadata": {
    "id": "N9kCNkxV0jko",
    "colab": {
     "base_uri": "https://localhost:8080/",
     "height": 89
    },
    "outputId": "36acf8df-4c62-4cd3-9653-0fe0c523b846",
    "ExecuteTime": {
     "end_time": "2025-01-19T18:29:29.089211Z",
     "start_time": "2025-01-19T18:29:25.778082Z"
    }
   },
   "source": [
    "import numpy as np\n",
    "import matplotlib\n",
    "from matplotlib import pyplot as plt\n",
    "# % matplotlib inline\n",
    "import psyneulink as pnl\n",
    "\n",
    "# This couple of lines sets our color palette\n",
    "# import seaborn as sb\n",
    "# sb.palplot(sb.color_palette(\"RdBu_r\",7))\n",
    "# sb.set_palette(\"RdBu_r\")\n",
    "# sb.set_style(\"whitegrid\")\n",
    "\n",
    "#matplotlib.colors.Colormap(\"RdBu_r\")"
   ],
   "outputs": [],
   "execution_count": 3
  },
  {
   "cell_type": "code",
   "metadata": {
    "id": "IcUrtPBQDQGO",
    "ExecuteTime": {
     "end_time": "2025-01-17T19:42:07.301381Z",
     "start_time": "2025-01-17T19:42:07.298643Z"
    }
   },
   "source": [
    "#from google.colab import drive\n",
    "#drive.mount('/content/gdrive')"
   ],
   "outputs": [],
   "execution_count": 7
  },
  {
   "cell_type": "markdown",
   "metadata": {
    "id": "Di4WYbquzED2"
   },
   "source": [
    "# Noisy Input and Perception: Hopfield Networks\n",
    "\n",
    "When you are looking out at the world through a rainstorm, your sense data are noisy with a messy distribution of water droplets partially obscuring your view at any given moment, but you are typically still able to recognize the landscape.  Similarly, if you are walking through a forest on a sunny windy day the pattern of sunlight dancing on the forest floor makes your raw sense data fluctuate unpredictably, but you can still reliably recognize the path, plants, stones, etc.  Sense data are often noisy, and Hopfield Networks can model how to reliably extract signal from and input of signal mixed with noise using associative nodes and thresholds.  \n",
    "\n",
    "\n",
    "### Letter Recognition\n",
    "\n",
    "A toy problem-to-be solved by a Hopfield Network is recognizing the letter A or letter Z.  In the next cell we'll set up the target patterns and then structure the network to encode correlations within patterns.  \n",
    "\n",
    " "
   ]
  },
  {
   "cell_type": "code",
   "metadata": {
    "id": "Wl8rMq9J8RTe",
    "colab": {
     "base_uri": "https://localhost:8080/",
     "height": 577
    },
    "outputId": "fa10c303-b489-4561-f5a3-6b8a419f857e",
    "ExecuteTime": {
     "end_time": "2025-01-17T19:42:07.594067Z",
     "start_time": "2025-01-17T19:42:07.302708Z"
    }
   },
   "source": [
    "# make some patterns\n",
    "side_len = 5\n",
    "A = np.array([\n",
    "    [-1,  1,  1,  1, -1],\n",
    "    [ 1, -1, -1, -1,  1],\n",
    "    [ 1,  1,  1,  1,  1],\n",
    "    [ 1, -1, -1, -1,  1],\n",
    "    [ 1, -1, -1, -1,  1],\n",
    "]).reshape(-1)\n",
    "\n",
    "Z = np.array([\n",
    "    [ 1,  1,  1,  1,  1],\n",
    "    [-1, -1, -1,  1, -1],\n",
    "    [-1, -1,  1, -1, -1],\n",
    "    [-1,  1, -1, -1, -1],\n",
    "    [ 1,  1,  1,  1,  1],\n",
    "]).reshape(-1)\n",
    "\n",
    "def show_letter(pattern):\n",
    "    f, ax = plt.subplots(1, 1, figsize=(4, 4))\n",
    "    ax.imshow(pattern.reshape(side_len, side_len), cmap=\"bone_r\")\n",
    "    ax.set_axis_off()\n",
    "    f.tight_layout()\n",
    "\n",
    "# show the patterns\n",
    "show_letter(A)\n",
    "show_letter(Z)"
   ],
   "outputs": [
    {
     "data": {
      "text/plain": [
       "<Figure size 400x400 with 1 Axes>"
      ],
      "image/png": "[encoded data removed]"
     },
     "metadata": {},
     "output_type": "display_data"
    },
    {
     "data": {
      "text/plain": [
       "<Figure size 400x400 with 1 Axes>"
      ],
      "image/png": "[encoded data removed]"
     },
     "metadata": {},
     "output_type": "display_data"
    }
   ],
   "execution_count": 8
  },
  {
   "cell_type": "markdown",
   "metadata": {
    "id": "VUVvpaszAw7U"
   },
   "source": [
    "### python functions\n",
    "Next we will write some helpful functions in python to implement "
   ]
  },
  {
   "cell_type": "code",
   "metadata": {
    "id": "OAfIxRdI01Op",
    "ExecuteTime": {
     "end_time": "2025-01-17T19:42:08.045524Z",
     "start_time": "2025-01-17T19:42:08.042549Z"
    }
   },
   "source": [
    "np.random.seed(0)\n",
    " \n",
    "def pattern_complete(weights, X, n_iter=10, soft=False):\n",
    "    Xs = [None] * n_iter\n",
    "    for i in range(n_iter):\n",
    "        X = np.dot(X, weights)\n",
    "        if soft:\n",
    "            X = np.tanh(X)\n",
    "        else:\n",
    "            X[X < 0] = -1\n",
    "            X[X >= 0] = 1\n",
    "        Xs[i] = X\n",
    "    return Xs\n",
    "\n",
    "def add_noise(x_, noise_level=.2):\n",
    "    noise = np.random.choice(\n",
    "        [1, -1], size=len(x_), p=[1-noise_level, noise_level])\n",
    "    return x_ * noise\n",
    "\n",
    " \n"
   ],
   "outputs": [],
   "execution_count": 9
  },
  {
   "cell_type": "code",
   "metadata": {
    "id": "4tmdPa0V1Jb9",
    "ExecuteTime": {
     "end_time": "2025-01-17T19:49:22.514904Z",
     "start_time": "2025-01-17T19:47:29.417139Z"
    }
   },
   "source": [
    "# memorize the patterns\n",
    "X = np.array([A, Z])\n",
    "m, n_units = np.shape(X)\n",
    "weights = np.zeros((n_units, n_units))\n",
    "for x in X:\n",
    "    weights += np.outer(x, x) / m\n",
    "weights[np.diag_indices(n_units)] = 0\n",
    "\n",
    "# show the test pattern again\n",
    "x_test = Z\n",
    "show_letter(x_test)\n",
    "\n",
    "# add noise\n",
    "noise_level = .25\n",
    "x_test = add_noise(x_test, noise_level=noise_level)\n",
    "show_letter(x_test)"
   ],
   "outputs": [
    {
     "ename": "KeyboardInterrupt",
     "evalue": "",
     "output_type": "error",
     "traceback": [
      "\u001B[0;31m---------------------------------------------------------------------------\u001B[0m",
      "\u001B[0;31mKeyboardInterrupt\u001B[0m                         Traceback (most recent call last)",
      "Cell \u001B[0;32mIn[20], line 5\u001B[0m\n\u001B[1;32m      3\u001B[0m m, n_units \u001B[38;5;241m=\u001B[39m np\u001B[38;5;241m.\u001B[39mshape(X)\n\u001B[1;32m      4\u001B[0m weights \u001B[38;5;241m=\u001B[39m np\u001B[38;5;241m.\u001B[39mzeros((n_units, n_units))\n\u001B[0;32m----> 5\u001B[0m \u001B[38;5;28;43;01mfor\u001B[39;49;00m\u001B[43m \u001B[49m\u001B[43mx\u001B[49m\u001B[43m \u001B[49m\u001B[38;5;129;43;01min\u001B[39;49;00m\u001B[43m \u001B[49m\u001B[43mX\u001B[49m\u001B[43m:\u001B[49m\n\u001B[1;32m      6\u001B[0m \u001B[43m    \u001B[49m\u001B[43mweights\u001B[49m\u001B[43m \u001B[49m\u001B[38;5;241;43m+\u001B[39;49m\u001B[38;5;241;43m=\u001B[39;49m\u001B[43m \u001B[49m\u001B[43mnp\u001B[49m\u001B[38;5;241;43m.\u001B[39;49m\u001B[43mouter\u001B[49m\u001B[43m(\u001B[49m\u001B[43mx\u001B[49m\u001B[43m,\u001B[49m\u001B[43m \u001B[49m\u001B[43mx\u001B[49m\u001B[43m)\u001B[49m\u001B[43m \u001B[49m\u001B[38;5;241;43m/\u001B[39;49m\u001B[43m \u001B[49m\u001B[43mm\u001B[49m\n\u001B[1;32m      7\u001B[0m weights[np\u001B[38;5;241m.\u001B[39mdiag_indices(n_units)] \u001B[38;5;241m=\u001B[39m \u001B[38;5;241m0\u001B[39m\n",
      "File \u001B[0;32m_pydevd_bundle/pydevd_cython_darwin_311_64.pyx:1187\u001B[0m, in \u001B[0;36m_pydevd_bundle.pydevd_cython_darwin_311_64.SafeCallWrapper.__call__\u001B[0;34m()\u001B[0m\n",
      "File \u001B[0;32m_pydevd_bundle/pydevd_cython_darwin_311_64.pyx:627\u001B[0m, in \u001B[0;36m_pydevd_bundle.pydevd_cython_darwin_311_64.PyDBFrame.trace_dispatch\u001B[0;34m()\u001B[0m\n",
      "File \u001B[0;32m_pydevd_bundle/pydevd_cython_darwin_311_64.pyx:1103\u001B[0m, in \u001B[0;36m_pydevd_bundle.pydevd_cython_darwin_311_64.PyDBFrame.trace_dispatch\u001B[0;34m()\u001B[0m\n",
      "File \u001B[0;32m_pydevd_bundle/pydevd_cython_darwin_311_64.pyx:1061\u001B[0m, in \u001B[0;36m_pydevd_bundle.pydevd_cython_darwin_311_64.PyDBFrame.trace_dispatch\u001B[0;34m()\u001B[0m\n",
      "File \u001B[0;32m/Applications/PyCharm.app/Contents/plugins/python/helpers-pro/jupyter_debug/pydev_jupyter_plugin.py:169\u001B[0m, in \u001B[0;36mstop\u001B[0;34m(plugin, pydb, frame, event, args, stop_info, arg, step_cmd)\u001B[0m\n\u001B[1;32m    167\u001B[0m     frame \u001B[38;5;241m=\u001B[39m suspend_jupyter(main_debugger, thread, frame, step_cmd)\n\u001B[1;32m    168\u001B[0m     \u001B[38;5;28;01mif\u001B[39;00m frame:\n\u001B[0;32m--> 169\u001B[0m         \u001B[43mmain_debugger\u001B[49m\u001B[38;5;241;43m.\u001B[39;49m\u001B[43mdo_wait_suspend\u001B[49m\u001B[43m(\u001B[49m\u001B[43mthread\u001B[49m\u001B[43m,\u001B[49m\u001B[43m \u001B[49m\u001B[43mframe\u001B[49m\u001B[43m,\u001B[49m\u001B[43m \u001B[49m\u001B[43mevent\u001B[49m\u001B[43m,\u001B[49m\u001B[43m \u001B[49m\u001B[43marg\u001B[49m\u001B[43m)\u001B[49m\n\u001B[1;32m    170\u001B[0m         \u001B[38;5;28;01mreturn\u001B[39;00m \u001B[38;5;28;01mTrue\u001B[39;00m\n\u001B[1;32m    171\u001B[0m \u001B[38;5;28;01mreturn\u001B[39;00m \u001B[38;5;28;01mFalse\u001B[39;00m\n",
      "File \u001B[0;32m/Applications/PyCharm.app/Contents/plugins/python/helpers/pydev/pydevd.py:1201\u001B[0m, in \u001B[0;36mPyDB.do_wait_suspend\u001B[0;34m(self, thread, frame, event, arg, send_suspend_message, is_unhandled_exception)\u001B[0m\n\u001B[1;32m   1198\u001B[0m         from_this_thread\u001B[38;5;241m.\u001B[39mappend(frame_id)\n\u001B[1;32m   1200\u001B[0m \u001B[38;5;28;01mwith\u001B[39;00m \u001B[38;5;28mself\u001B[39m\u001B[38;5;241m.\u001B[39m_threads_suspended_single_notification\u001B[38;5;241m.\u001B[39mnotify_thread_suspended(thread_id, stop_reason):\n\u001B[0;32m-> 1201\u001B[0m     \u001B[38;5;28;43mself\u001B[39;49m\u001B[38;5;241;43m.\u001B[39;49m\u001B[43m_do_wait_suspend\u001B[49m\u001B[43m(\u001B[49m\u001B[43mthread\u001B[49m\u001B[43m,\u001B[49m\u001B[43m \u001B[49m\u001B[43mframe\u001B[49m\u001B[43m,\u001B[49m\u001B[43m \u001B[49m\u001B[43mevent\u001B[49m\u001B[43m,\u001B[49m\u001B[43m \u001B[49m\u001B[43marg\u001B[49m\u001B[43m,\u001B[49m\u001B[43m \u001B[49m\u001B[43msuspend_type\u001B[49m\u001B[43m,\u001B[49m\u001B[43m \u001B[49m\u001B[43mfrom_this_thread\u001B[49m\u001B[43m)\u001B[49m\n",
      "File \u001B[0;32m/Applications/PyCharm.app/Contents/plugins/python/helpers/pydev/pydevd.py:1216\u001B[0m, in \u001B[0;36mPyDB._do_wait_suspend\u001B[0;34m(self, thread, frame, event, arg, suspend_type, from_this_thread)\u001B[0m\n\u001B[1;32m   1213\u001B[0m             \u001B[38;5;28mself\u001B[39m\u001B[38;5;241m.\u001B[39m_call_mpl_hook()\n\u001B[1;32m   1215\u001B[0m         \u001B[38;5;28mself\u001B[39m\u001B[38;5;241m.\u001B[39mprocess_internal_commands()\n\u001B[0;32m-> 1216\u001B[0m         time\u001B[38;5;241m.\u001B[39msleep(\u001B[38;5;241m0.01\u001B[39m)\n\u001B[1;32m   1218\u001B[0m \u001B[38;5;28mself\u001B[39m\u001B[38;5;241m.\u001B[39mcancel_async_evaluation(get_current_thread_id(thread), \u001B[38;5;28mstr\u001B[39m(\u001B[38;5;28mid\u001B[39m(frame)))\n\u001B[1;32m   1220\u001B[0m \u001B[38;5;66;03m# process any stepping instructions\u001B[39;00m\n",
      "\u001B[0;31mKeyboardInterrupt\u001B[0m: "
     ]
    }
   ],
   "execution_count": 20
  },
  {
   "cell_type": "code",
   "metadata": {
    "id": "lhqD_-0e1OZw",
    "colab": {
     "base_uri": "https://localhost:8080/",
     "height": 234
    },
    "outputId": "414c3e20-a562-4a80-9711-76fb02807f72",
    "ExecuteTime": {
     "end_time": "2025-01-17T19:47:23.680827Z",
     "start_time": "2025-01-17T19:44:12.272530Z"
    }
   },
   "source": [
    "# pattern completion\n",
    "n_iter = 3\n",
    "x_hats = pattern_complete(weights, x_test, n_iter=n_iter)\n",
    "# show_letter(x_hats[-1])\n",
    "\n",
    "f, axes = plt.subplots(1, n_iter+1, figsize=((n_iter+1)*3, 3))\n",
    "x_hats.insert(0, x_test)\n",
    "for i in range(n_iter+1):\n",
    "    axes[i].imshow(x_hats[i].reshape(side_len, side_len), cmap='bone_r')\n",
    "    axes[i].set_axis_off()\n",
    "    axes[i].set_title(f'pattern completion, iter: {i}')\n",
    "f.tight_layout()\n",
    "# f.savefig('pc.png', dpi=100, bbox_inches='tight')"
   ],
   "outputs": [
    {
     "ename": "KeyboardInterrupt",
     "evalue": "",
     "output_type": "error",
     "traceback": [
      "\u001B[0;31m---------------------------------------------------------------------------\u001B[0m",
      "\u001B[0;31mKeyboardInterrupt\u001B[0m                         Traceback (most recent call last)",
      "Cell \u001B[0;32mIn[19], line 3\u001B[0m\n\u001B[1;32m      1\u001B[0m \u001B[38;5;66;03m# pattern completion\u001B[39;00m\n\u001B[1;32m      2\u001B[0m n_iter \u001B[38;5;241m=\u001B[39m \u001B[38;5;241m3\u001B[39m\n\u001B[0;32m----> 3\u001B[0m x_hats \u001B[38;5;241m=\u001B[39m \u001B[43mpattern_complete\u001B[49m\u001B[43m(\u001B[49m\u001B[43mweights\u001B[49m\u001B[43m,\u001B[49m\u001B[43m \u001B[49m\u001B[43mx_test\u001B[49m\u001B[43m,\u001B[49m\u001B[43m \u001B[49m\u001B[43mn_iter\u001B[49m\u001B[38;5;241;43m=\u001B[39;49m\u001B[43mn_iter\u001B[49m\u001B[43m)\u001B[49m\n\u001B[1;32m      4\u001B[0m \u001B[38;5;66;03m# show_letter(x_hats[-1])\u001B[39;00m\n\u001B[1;32m      6\u001B[0m f, axes \u001B[38;5;241m=\u001B[39m plt\u001B[38;5;241m.\u001B[39msubplots(\u001B[38;5;241m1\u001B[39m, n_iter\u001B[38;5;241m+\u001B[39m\u001B[38;5;241m1\u001B[39m, figsize\u001B[38;5;241m=\u001B[39m((n_iter\u001B[38;5;241m+\u001B[39m\u001B[38;5;241m1\u001B[39m)\u001B[38;5;241m*\u001B[39m\u001B[38;5;241m3\u001B[39m, \u001B[38;5;241m3\u001B[39m))\n",
      "Cell \u001B[0;32mIn[9], line 7\u001B[0m, in \u001B[0;36mpattern_complete\u001B[0;34m(weights, X, n_iter, soft)\u001B[0m\n\u001B[1;32m      5\u001B[0m \u001B[38;5;28;01mfor\u001B[39;00m i \u001B[38;5;129;01min\u001B[39;00m \u001B[38;5;28mrange\u001B[39m(n_iter):\n\u001B[1;32m      6\u001B[0m     X \u001B[38;5;241m=\u001B[39m np\u001B[38;5;241m.\u001B[39mdot(X, weights)\n\u001B[0;32m----> 7\u001B[0m     \u001B[38;5;28;01mif\u001B[39;00m \u001B[43msoft\u001B[49m:\n\u001B[1;32m      8\u001B[0m         X \u001B[38;5;241m=\u001B[39m np\u001B[38;5;241m.\u001B[39mtanh(X)\n\u001B[1;32m      9\u001B[0m     \u001B[38;5;28;01melse\u001B[39;00m:\n",
      "File \u001B[0;32m_pydevd_bundle/pydevd_cython_darwin_311_64.pyx:1187\u001B[0m, in \u001B[0;36m_pydevd_bundle.pydevd_cython_darwin_311_64.SafeCallWrapper.__call__\u001B[0;34m()\u001B[0m\n",
      "File \u001B[0;32m_pydevd_bundle/pydevd_cython_darwin_311_64.pyx:627\u001B[0m, in \u001B[0;36m_pydevd_bundle.pydevd_cython_darwin_311_64.PyDBFrame.trace_dispatch\u001B[0;34m()\u001B[0m\n",
      "File \u001B[0;32m_pydevd_bundle/pydevd_cython_darwin_311_64.pyx:1103\u001B[0m, in \u001B[0;36m_pydevd_bundle.pydevd_cython_darwin_311_64.PyDBFrame.trace_dispatch\u001B[0;34m()\u001B[0m\n",
      "File \u001B[0;32m_pydevd_bundle/pydevd_cython_darwin_311_64.pyx:1065\u001B[0m, in \u001B[0;36m_pydevd_bundle.pydevd_cython_darwin_311_64.PyDBFrame.trace_dispatch\u001B[0;34m()\u001B[0m\n",
      "File \u001B[0;32m_pydevd_bundle/pydevd_cython_darwin_311_64.pyx:585\u001B[0m, in \u001B[0;36m_pydevd_bundle.pydevd_cython_darwin_311_64.PyDBFrame.do_wait_suspend\u001B[0;34m()\u001B[0m\n",
      "File \u001B[0;32m/Applications/PyCharm.app/Contents/plugins/python/helpers/pydev/pydevd.py:1201\u001B[0m, in \u001B[0;36mPyDB.do_wait_suspend\u001B[0;34m(self, thread, frame, event, arg, send_suspend_message, is_unhandled_exception)\u001B[0m\n\u001B[1;32m   1198\u001B[0m         from_this_thread\u001B[38;5;241m.\u001B[39mappend(frame_id)\n\u001B[1;32m   1200\u001B[0m \u001B[38;5;28;01mwith\u001B[39;00m \u001B[38;5;28mself\u001B[39m\u001B[38;5;241m.\u001B[39m_threads_suspended_single_notification\u001B[38;5;241m.\u001B[39mnotify_thread_suspended(thread_id, stop_reason):\n\u001B[0;32m-> 1201\u001B[0m     \u001B[38;5;28;43mself\u001B[39;49m\u001B[38;5;241;43m.\u001B[39;49m\u001B[43m_do_wait_suspend\u001B[49m\u001B[43m(\u001B[49m\u001B[43mthread\u001B[49m\u001B[43m,\u001B[49m\u001B[43m \u001B[49m\u001B[43mframe\u001B[49m\u001B[43m,\u001B[49m\u001B[43m \u001B[49m\u001B[43mevent\u001B[49m\u001B[43m,\u001B[49m\u001B[43m \u001B[49m\u001B[43marg\u001B[49m\u001B[43m,\u001B[49m\u001B[43m \u001B[49m\u001B[43msuspend_type\u001B[49m\u001B[43m,\u001B[49m\u001B[43m \u001B[49m\u001B[43mfrom_this_thread\u001B[49m\u001B[43m)\u001B[49m\n",
      "File \u001B[0;32m/Applications/PyCharm.app/Contents/plugins/python/helpers/pydev/pydevd.py:1216\u001B[0m, in \u001B[0;36mPyDB._do_wait_suspend\u001B[0;34m(self, thread, frame, event, arg, suspend_type, from_this_thread)\u001B[0m\n\u001B[1;32m   1213\u001B[0m             \u001B[38;5;28mself\u001B[39m\u001B[38;5;241m.\u001B[39m_call_mpl_hook()\n\u001B[1;32m   1215\u001B[0m         \u001B[38;5;28mself\u001B[39m\u001B[38;5;241m.\u001B[39mprocess_internal_commands()\n\u001B[0;32m-> 1216\u001B[0m         time\u001B[38;5;241m.\u001B[39msleep(\u001B[38;5;241m0.01\u001B[39m)\n\u001B[1;32m   1218\u001B[0m \u001B[38;5;28mself\u001B[39m\u001B[38;5;241m.\u001B[39mcancel_async_evaluation(get_current_thread_id(thread), \u001B[38;5;28mstr\u001B[39m(\u001B[38;5;28mid\u001B[39m(frame)))\n\u001B[1;32m   1220\u001B[0m \u001B[38;5;66;03m# process any stepping instructions\u001B[39;00m\n",
      "\u001B[0;31mKeyboardInterrupt\u001B[0m: "
     ]
    }
   ],
   "execution_count": 19
  },
  {
   "cell_type": "markdown",
   "metadata": {
    "collapsed": false,
    "id": "kgl1zKsvwgAu"
   },
   "source": [
    " # Dynamic Systems & Bistable Perception\n",
    "\n",
    "There are many different ways to configure and run a model.  From the previous examples you should have a sense of how to build different configurations for a model.  In the next section we are going to explore some **dynamics** of running a model, including how information flows and is modified over time.  We will be building up to a simple model of bistable perception for a figure that people can readily interpret in two different ways.    \n",
    "\n",
    "![alt text](Lab1_duckrabbit_Necker.png \"Bistable\")\n",
    "\n",
    "Two classic examples of bistable figures are the \"Duck Rabbit\" seen as either of two animals (but not usually both simultaneously), and the Necker Cube, where the face of the cube that you initially see as closest to you can alternatively be interpretted as farthest away from you.  We are going to work toward a Model of settling on one interpretation of the Necker Cube, after first exploring some simple dynamic models.\n",
    "\n",
    "## Dynamics 1: Attractor State\n",
    "\n",
    "The following code creates a composition with two mechanisms that are mutually connected by weights of -1. The output of one mechanism is multiplied by -1 and given as the input to the next mechanism, in a repeating cycle.  We can specify initial input values for each mechanism and watch it evolve over time.  \n",
    "\n",
    "This particular mechanism will evolve toward stable values of 1 and -1.  The values 1 and -1 are determined by the difference between the initial inputs.  If the inputs are X and Y, this system will always evolve to +/-abs[X-Y]/4 (plus & minus the absolute value of the difference between the two inputs, divided by 4).  Whichever mechanism receives the larger initial input evolves to the positive value, while the smaller initial input evolves to the negative value.      "
   ]
  },
  {
   "cell_type": "code",
   "metadata": {
    "pycharm": {
     "name": "#%%\n"
    },
    "id": "U43g3JuRwgAv",
    "colab": {
     "base_uri": "https://localhost:8080/"
    },
    "outputId": "d879ad19-813c-4685-decd-ae22eb29f20e",
    "ExecuteTime": {
     "end_time": "2025-01-19T18:54:18.977347Z",
     "start_time": "2025-01-19T18:54:18.396017Z"
    }
   },
   "source": [
    "comp_attract = pnl.Composition()\n",
    "\n",
    "node_attract1 = pnl.TransferMechanism(\n",
    "    name='node_attract1',\n",
    "    function=pnl.Linear(slope = 1, intercept = 0),\n",
    "    integrator_mode = True,\n",
    "    integration_rate = 0.5,\n",
    "    default_variable=np.zeros((1,)),\n",
    ")\n",
    "\n",
    "# Integrator function ((1-smoothing_factor)*previous_value + smoothing_factor*current_input) * mechanism_function\n",
    "\n",
    "node_attract2 = pnl.TransferMechanism(\n",
    "    name='node_attract2',\n",
    "    function=pnl.Linear(slope = 1, intercept = 0),\n",
    "    integrator_mode = True,\n",
    "    integration_rate = 0.5,\n",
    "    default_variable=np.zeros((1,)),\n",
    ")\n",
    "\n",
    "connect_a1_a2 = ([-1])\n",
    "connect_a2_a1 = ([-1])\n",
    "\n",
    "weights_a1_a2 = pnl.MappingProjection(\n",
    "    name='connect_a1_a2',\n",
    "    matrix=connect_a1_a2,\n",
    ")\n",
    "\n",
    "weights_a2_a1 = pnl.MappingProjection(\n",
    "    name='connect_a2_a1',\n",
    "    matrix=connect_a2_a1,\n",
    ")\n",
    "\n",
    "#process1 = pnl.Process(pathway=[node1, weights_1_2, node2])\n",
    "#process2 = pnl.Process(pathway=[node2, weights_2_1, node1])\n",
    "\n",
    "#system1 = pnl.System(\n",
    "#    processes=[process1, process2]\n",
    "#)\n",
    "\n",
    "\n",
    "comp_attract.add_linear_processing_pathway(pathway = (node_attract1, connect_a1_a2, node_attract2, connect_a2_a1, node_attract1))\n",
    "\n",
    "node_attract1.reportOutputPref = True\n",
    "node_attract2.reportOutputPref = True\n",
    "\n",
    "input_a1 = 2\n",
    "input_a2 = 6\n",
    "\n",
    "input_dict = {node_attract1: [input_a1,0,0,0,0,0,0,0,0,0],\n",
    "             node_attract2: [input_a2,0,0,0,0,0,0,0,0,0]\n",
    "             }\n",
    "\n",
    "#input_dict = {node1: [input1,1,1,1,1,1,1,1,1,1],\n",
    "#             node2: [input2,1,1,1,1,1,1,1,1,1]\n",
    "#             }\n",
    "\n",
    "# input_dict = {node_attract1: [input_a1],\n",
    "#             node_attract2: [input_a2]\n",
    "#             }\n",
    "\n",
    "comp_attract.run(input_dict, num_trials = 10)\n",
    "comp_attract.show_graph()"
   ],
   "outputs": [],
   "execution_count": 9
  },
  {
   "cell_type": "markdown",
   "metadata": {
    "collapsed": false,
    "id": "zR_rxd-hwgA0"
   },
   "source": [
    "We can plot the results over successive time steps to get a clearer sense of how the system evolves over time.  Compare the plot below to your understanding of how the system evolves."
   ]
  },
  {
   "cell_type": "code",
   "metadata": {
    "pycharm": {
     "name": "#%%\n"
    },
    "id": "gGG-g7pkwgA1",
    "colab": {
     "base_uri": "https://localhost:8080/",
     "height": 401
    },
    "outputId": "d37962c9-7857-4e36-858f-ff0f847eb027",
    "ExecuteTime": {
     "end_time": "2025-01-19T18:54:23.728691Z",
     "start_time": "2025-01-19T18:54:23.601358Z"
    }
   },
   "source": [
    "print(np.shape(np.squeeze(comp_attract.results)))\n",
    "print(np.squeeze(comp_attract.results))\n",
    "plt.plot(np.squeeze(comp_attract.results))"
   ],
   "outputs": [
    {
     "name": "stdout",
     "output_type": "stream",
     "text": [
      "(10, 2)\n",
      "[[ 1.  3.]\n",
      " [-1.  1.]\n",
      " [-1.  1.]\n",
      " [-1.  1.]\n",
      " [-1.  1.]\n",
      " [-1.  1.]\n",
      " [-1.  1.]\n",
      " [-1.  1.]\n",
      " [-1.  1.]\n",
      " [-1.  1.]]\n"
     ]
    },
    {
     "data": {
      "text/plain": [
       "[<matplotlib.lines.Line2D at 0x2b2c4d450>,\n",
       " <matplotlib.lines.Line2D at 0x2b2c4d750>]"
      ]
     },
     "execution_count": 10,
     "metadata": {},
     "output_type": "execute_result"
    },
    {
     "data": {
      "text/plain": [
       "<Figure size 640x480 with 1 Axes>"
      ],
      "image/png": "[encoded data removed]"
     },
     "metadata": {},
     "output_type": "display_data"
    }
   ],
   "execution_count": 10
  },
  {
   "cell_type": "markdown",
   "metadata": {
    "collapsed": false,
    "id": "OfjOiK83wgA3"
   },
   "source": [
    "In the previous cell, try changing the values of input1 and input2 and running the system again.  Look carefully at the code, and at the sequence of inputs and outputs when you run the system.  \n",
    "\n",
    "We executed the system 10 times (num_trials = 10), with initial input values specified as input1 and input2, and all subsequent input values set equal to 0 in the input_dict.  What happens if you set all the subsequent input values to 1 instead of 0?  You can find out by uncommenting (remove #'s) the input_dict below the currently used input_dict (and comment out the previous version with 0s, by adding #'s at the start of those lines). \n",
    "\n",
    "What happens if you change the functions in the TransferMechanisms from Linear to Logistic (with default parameters, gain = 1, bias = 0, offset = 0)?  If you understand how the code is working, and how the logistic function works, then you should be able to explain the new pattern of output.  If you don't understand, ask a classmate or lab instructor.  \n",
    "\n",
    "\n",
    "## Dynamics 2: Unstable Feedback Loops\n",
    "\n",
    "While some systems evolve to fixed attractor states, others will evolve in a runaway cycle that goes continuously up or continuously down.  Still others behave chaotically.  If you give the previous system input values that are consistently different the outputs will continuously diverge.  For example if instead of both inputs being 0 or both being 1 (at each time step after the first one), the inputs are consistently different -- all 0s to node1 and all 1s to node2.  Try running the system with the following input:   \n",
    "\n",
    "```python\n",
    "input_dict = {node1: [2],\n",
    "             node2: [0]\n",
    "             }\n",
    "```\n",
    "\n",
    "(Note: if you only specify 1 input value for each node, the system will take this value as the input at every iterative execution.)"
   ]
  },
  {
   "cell_type": "markdown",
   "metadata": {
    "collapsed": false,
    "id": "ac-y8SmswgA4"
   },
   "source": [
    "## Necker Cube Model\n",
    "\n",
    "The Necker Cube is a 2D drawing with two common 3D interpretations: the faces of the cube that you see in the \"front\" and \"back\" can be reversed -- this also corresponds to seeing the 3D cube from \"above\" or \"below.\"  With a little practice most people can alternate between seeing these two interpretations.  However, almost nobody looks at the figure and spontaneously sees a tangled 3D object with vertices at arbitrary depths, or a 3D \"X\" or any one of a vast number of other possibilities.  How you interpret the vertices seems to be a holistic (Gestalt) process where the local positions of vertices and 3D angles are fixed by a more global interpretation.  Could a network of merely local connections give rise to two distinct globally stable interpretations?  Put another way, could vertices represented with weights connecting only to a few local neighboring vertices spontaneously move toward either of two global attractor states corresponding to the two interpretations we actually see?  This question motivates the next models we will explore.  \n",
    "\n",
    "How to model bistable interpretations of a Necker Cube is a classic example in cognitive modeling, and below are two figures from early textbooks.  \n",
    "\n",
    "![figure](https://drive.google.com/uc?id=1gO790EP87DJ0sz96tY8_QAVxoLsBYLBg)\n",
    "Figure Caption: Lab1_Feldman_NeckerFigure.png \"Necker Figure 1\"\n",
    "\n",
    "\n",
    "You can get a sense from these two figures how we might label and organize a Necker cube model [Note: FUL stands for Front Upper Left, and the other abbreviations are similar.]  Take a few moments to infer as much as you can from the two figures. \n",
    "\n",
    "The following figure depicts how we will represent the vertices in our Necker Cube perception model.  Think of the red sides as the interpreted \"front\" of the cube.    \n",
    "\n",
    "![figure](https://drive.google.com/uc?id=17t7ojMjC88WzYZlFDREPLY1G-63dLZuD)\n",
    "Figure Caption: Lab1_NeckerCode.png \"Necker Figure 3\"\n",
    "\n",
    "\n",
    "\n",
    "We'll use 16 nodes, numbered 0 to 15 [because Python indexes arrays starting with 0].  The figure shows that we want activations of these 16 nodes to cluster into two groups, 0-7 and 8-15, and we want these clusters to mutually inhibit each other so that only one cluster is active together at a time, corresponding to one interpretation of the Necker Cube at a time. \n",
    "\n",
    "Remember that we are aiming to create this emergent order of clustering and mutual inhibition out of only local connections.  In the following cell we will create a matrix specifying the connection weights.  Look down at the second line: Build_N_Matrix[0,:] = [0, 1, 3, 4, 8].  You can think of the numbers [0, 1, 3, 4, 8] like this: the first number [0] is a vertex (more specifically, it is a particular 3D interpretation of the spatial position of that vertex), the next three numbers [1, 3, 4] are vertex interpretations that will have excitatory connections to [0], and the last number [8] will have an inhibitory connection to [0].  Now look back at the figure above to fully understand this schematic.  In the left cube 0 is connected by an edge to three other vertices [1, 3, 4].  In the right cube, vertex 8 is in the same position as 0 but has the opposite depth interpretation: 0 and 8 are mutually exclusive interpretations, and their activations should be inversely related using mutual inhibition.        "
   ]
  },
  {
   "cell_type": "code",
   "metadata": {
    "pycharm": {
     "name": "#%%\n"
    },
    "id": "Vq_J3pbiwgA5",
    "colab": {
     "base_uri": "https://localhost:8080/"
    },
    "outputId": "093d1f77-c62c-4833-8213-9017eb4b42e1",
    "ExecuteTime": {
     "end_time": "2025-01-25T12:36:50.516611Z",
     "start_time": "2025-01-25T12:36:50.506979Z"
    }
   },
   "source": [
    "Build_N_Matrix = np.zeros((16,5))\n",
    "Build_N_Matrix[0,:] = [0, 1, 3, 4, 8]\n",
    "Build_N_Matrix[1,:] = [1, 0, 2, 5, 9]\n",
    "Build_N_Matrix[2,:] = [2, 1, 3, 6, 10]\n",
    "Build_N_Matrix[3,:] = [3, 0, 2, 7, 11]\n",
    "Build_N_Matrix[4,:] = [4, 5, 7, 0, 12]\n",
    "Build_N_Matrix[5,:] = [5, 4, 6, 1, 13]\n",
    "Build_N_Matrix[6,:] = [6, 5, 7, 2, 14]\n",
    "Build_N_Matrix[7,:] = [7, 4, 6, 3, 15]\n",
    "Build_N_Matrix[8,:] = [8, 9, 11, 12, 0]\n",
    "Build_N_Matrix[9,:] = [9, 8, 10, 13, 1]\n",
    "Build_N_Matrix[10,:] = [10, 9, 11, 14, 2]\n",
    "Build_N_Matrix[11,:] = [11, 8, 10, 15, 3]\n",
    "Build_N_Matrix[12,:] = [12, 13, 15, 8, 4]\n",
    "Build_N_Matrix[13,:] = [13, 12, 14, 9, 5]\n",
    "Build_N_Matrix[14,:] = [14, 13, 15, 10, 6]\n",
    "Build_N_Matrix[15,:] = [15, 12, 14, 11, 7]\n",
    "\n",
    "Build_N_Matrix = Build_N_Matrix.astype(int)\n",
    "\n",
    "Necker_Matrix = np.zeros((16,16))\n",
    "Necker_Matrix = Necker_Matrix.astype(int)\n",
    "\n",
    "\n",
    "excite = 1\n",
    "inhibit = -2\n",
    "\n",
    "for x in range(0,16):\n",
    "    Necker_Matrix[Build_N_Matrix[x,0], Build_N_Matrix[x,1]] = excite\n",
    "    Necker_Matrix[Build_N_Matrix[x,0], Build_N_Matrix[x,2]] = excite\n",
    "    Necker_Matrix[Build_N_Matrix[x,0], Build_N_Matrix[x,3]] = excite\n",
    "    Necker_Matrix[Build_N_Matrix[x,0], Build_N_Matrix[x,4]] = inhibit\n",
    "   \n",
    "    \n",
    "Necker_Matrix"
   ],
   "outputs": [
    {
     "data": {
      "text/plain": [
       "array([[ 0,  1,  0,  1,  1,  0,  0,  0, -2,  0,  0,  0,  0,  0,  0,  0],\n",
       "       [ 1,  0,  1,  0,  0,  1,  0,  0,  0, -2,  0,  0,  0,  0,  0,  0],\n",
       "       [ 0,  1,  0,  1,  0,  0,  1,  0,  0,  0, -2,  0,  0,  0,  0,  0],\n",
       "       [ 1,  0,  1,  0,  0,  0,  0,  1,  0,  0,  0, -2,  0,  0,  0,  0],\n",
       "       [ 1,  0,  0,  0,  0,  1,  0,  1,  0,  0,  0,  0, -2,  0,  0,  0],\n",
       "       [ 0,  1,  0,  0,  1,  0,  1,  0,  0,  0,  0,  0,  0, -2,  0,  0],\n",
       "       [ 0,  0,  1,  0,  0,  1,  0,  1,  0,  0,  0,  0,  0,  0, -2,  0],\n",
       "       [ 0,  0,  0,  1,  1,  0,  1,  0,  0,  0,  0,  0,  0,  0,  0, -2],\n",
       "       [-2,  0,  0,  0,  0,  0,  0,  0,  0,  1,  0,  1,  1,  0,  0,  0],\n",
       "       [ 0, -2,  0,  0,  0,  0,  0,  0,  1,  0,  1,  0,  0,  1,  0,  0],\n",
       "       [ 0,  0, -2,  0,  0,  0,  0,  0,  0,  1,  0,  1,  0,  0,  1,  0],\n",
       "       [ 0,  0,  0, -2,  0,  0,  0,  0,  1,  0,  1,  0,  0,  0,  0,  1],\n",
       "       [ 0,  0,  0,  0, -2,  0,  0,  0,  1,  0,  0,  0,  0,  1,  0,  1],\n",
       "       [ 0,  0,  0,  0,  0, -2,  0,  0,  0,  1,  0,  0,  1,  0,  1,  0],\n",
       "       [ 0,  0,  0,  0,  0,  0, -2,  0,  0,  0,  1,  0,  0,  1,  0,  1],\n",
       "       [ 0,  0,  0,  0,  0,  0,  0, -2,  0,  0,  0,  1,  1,  0,  1,  0]])"
      ]
     },
     "execution_count": 3,
     "metadata": {},
     "output_type": "execute_result"
    }
   ],
   "execution_count": 3
  },
  {
   "cell_type": "markdown",
   "metadata": {
    "collapsed": false,
    "id": "9UTz5qHMwgA9"
   },
   "source": [
    "Below is another way to visualize the matrix created above.  "
   ]
  },
  {
   "cell_type": "code",
   "metadata": {
    "pycharm": {
     "name": "#%%\n"
    },
    "id": "pCtjXl-cwgA-",
    "colab": {
     "base_uri": "https://localhost:8080/",
     "height": 286
    },
    "outputId": "9666f17c-dfce-409d-cd74-74bf92a565ab",
    "ExecuteTime": {
     "end_time": "2025-01-25T12:37:01.956959Z",
     "start_time": "2025-01-25T12:37:01.611034Z"
    }
   },
   "source": [
    "import numpy as np\n",
    "import matplotlib.pyplot as plt\n",
    "# specify upper bound and lower bound to make color scale symmetric and place 0 in center.\n",
    "ub=np.amax(np.amax(np.abs(Necker_Matrix)))\n",
    "lb=-ub\n",
    "\n",
    "plt.imshow(Necker_Matrix, cmap='RdBu_r',vmax=ub)\n",
    "plt.colorbar()"
   ],
   "outputs": [
    {
     "data": {
      "text/plain": [
       "<matplotlib.colorbar.Colorbar at 0x117b6f8d0>"
      ]
     },
     "execution_count": 5,
     "metadata": {},
     "output_type": "execute_result"
    },
    {
     "data": {
      "text/plain": [
       "<Figure size 640x480 with 2 Axes>"
      ],
      "image/png": "[encoded data removed]"
     },
     "metadata": {},
     "output_type": "display_data"
    }
   ],
   "execution_count": 5
  },
  {
   "cell_type": "markdown",
   "metadata": {
    "collapsed": false,
    "id": "NYPFLw1ZwgBA"
   },
   "source": [
    "Now that we have a matrix that specifies the connection strengths between all 16 units, we can build a model that starts with random activations (between 0 and 1) and passes these values through the weight matrix over and over.  In most cases running this model will lead to the first 8 units (corresponding to the first 3D interpretation) firing in a simlar way, and the second 8 units (corresponding to the alternative 3D interpretation) firing together in the opposite way as the first 8.  Note that this model is very rudimentary and there are lots of ways that you can improve it!  "
   ]
  },
  {
   "cell_type": "code",
   "metadata": {
    "pycharm": {
     "name": "#%%\n"
    },
    "id": "sdKVH_CowgBB",
    "colab": {
     "base_uri": "https://localhost:8080/",
     "height": 444
    },
    "outputId": "fe13ec9d-5215-41a4-bd50-685c353a7373",
    "ExecuteTime": {
     "end_time": "2025-01-25T12:40:15.207977Z",
     "start_time": "2025-01-25T12:40:12.367278Z"
    }
   },
   "source": [
    "import psyneulink as pnl\n",
    "necker_loop = pnl.Composition()\n",
    "\n",
    "necker_nodeA = pnl.TransferMechanism(\n",
    "    name='necker_nodeA',\n",
    "    function=pnl.Linear(slope = 1, intercept = 0),\n",
    "    integrator_mode = True,\n",
    "    integration_rate = .5,\n",
    "    default_variable=np.zeros((1,16)),\n",
    ")\n",
    "\n",
    "#integrator function ((1-rate)*previous_value + rate*current_input) * mechanism_function\n",
    "\n",
    "necker_nodeB = pnl.TransferMechanism(\n",
    "    name='necker_nodeB',\n",
    "    function=pnl.Linear(slope = 1, intercept = 0),\n",
    "    integrator_mode = True,\n",
    "    integration_rate = .5,\n",
    "    default_variable=np.zeros((1,16)),\n",
    ")\n",
    "\n",
    "\n",
    "connect_A_B = Necker_Matrix\n",
    "connect_B_A = Necker_Matrix\n",
    "\n",
    "weights_A_B = pnl.MappingProjection(\n",
    "    name='connect_A_B',\n",
    "    matrix=connect_A_B,\n",
    ")\n",
    "\n",
    "weights_B_A = pnl.MappingProjection(\n",
    "    name='connect_B_A',\n",
    "    matrix=connect_B_A,\n",
    ")\n",
    "\n",
    "\n",
    "necker_loop.add_linear_processing_pathway(pathway = (necker_nodeA, connect_A_B, necker_nodeB))\n",
    "necker_loop.add_linear_processing_pathway(pathway = (necker_nodeB, connect_B_A, necker_nodeA))\n",
    "\n",
    "\n",
    "necker_nodeA.reportOutputPref = True\n",
    "necker_nodeB.reportOutputPref = True\n",
    "\n",
    "necker_loop.show_graph(output_fmt = 'jupyter')"
   ],
   "outputs": [
    {
     "data": {
      "image/svg+xml": "<?xml version=\"1.0\" encoding=\"UTF-8\" standalone=\"no\"?>\n<!DOCTYPE svg PUBLIC \"-//W3C//DTD SVG 1.1//EN\"\n \"http://www.w3.org/Graphics/SVG/1.1/DTD/svg11.dtd\">\n<!-- Generated by graphviz version 12.1.0 (20240811.2233)\n -->\n<!-- Title: Composition&#45;0 Pages: 1 -->\n<svg width=\"136pt\" height=\"324pt\"\n viewBox=\"0.00 0.00 135.57 323.64\" xmlns=\"http://www.w3.org/2000/svg\" xmlns:xlink=\"http://www.w3.org/1999/xlink\">\n<g id=\"graph0\" class=\"graph\" transform=\"scale(1 1) rotate(0) translate(4 319.64)\">\n<title>Composition&#45;0</title>\n<polygon fill=\"white\" stroke=\"none\" points=\"-4,4 -4,-319.64 131.57,-319.64 131.57,4 -4,4\"/>\n<text text-anchor=\"middle\" x=\"63.79\" y=\"-7.2\" font-family=\"Times,serif\" font-size=\"14.00\">Composition&#45;0</text>\n<!-- necker_nodeB -->\n<g id=\"node1\" class=\"node\">\n<title>necker_nodeB</title>\n<ellipse fill=\"none\" stroke=\"brown\" stroke-width=\"3\" cx=\"63.79\" cy=\"-88.29\" rx=\"59.79\" ry=\"59.79\"/>\n<ellipse fill=\"none\" stroke=\"brown\" stroke-width=\"3\" cx=\"63.79\" cy=\"-88.29\" rx=\"63.79\" ry=\"63.79\"/>\n<text text-anchor=\"middle\" x=\"63.79\" y=\"-84.01\" font-family=\"arial\" font-size=\"12.00\">necker_nodeB</text>\n</g>\n<!-- necker_nodeA -->\n<g id=\"node2\" class=\"node\">\n<title>necker_nodeA</title>\n<ellipse fill=\"none\" stroke=\"brown\" stroke-width=\"3\" cx=\"63.79\" cy=\"-251.86\" rx=\"59.79\" ry=\"59.79\"/>\n<ellipse fill=\"none\" stroke=\"brown\" stroke-width=\"3\" cx=\"63.79\" cy=\"-251.86\" rx=\"63.79\" ry=\"63.79\"/>\n<text text-anchor=\"middle\" x=\"63.79\" y=\"-247.58\" font-family=\"arial\" font-size=\"12.00\">necker_nodeA</text>\n</g>\n<!-- necker_nodeB&#45;&gt;necker_nodeA -->\n<g id=\"edge1\" class=\"edge\">\n<title>necker_nodeB&#45;&gt;necker_nodeA</title>\n<path fill=\"none\" stroke=\"black\" d=\"M57.17,-153.14C57.05,-160.52 57.01,-168.1 57.05,-175.62\"/>\n<polygon fill=\"black\" stroke=\"black\" points=\"53.55,-175.46 57.15,-185.42 60.55,-175.39 53.55,-175.46\"/>\n</g>\n<!-- necker_nodeA&#45;&gt;necker_nodeB -->\n<g id=\"edge2\" class=\"edge\">\n<title>necker_nodeA&#45;&gt;necker_nodeB</title>\n<path fill=\"none\" stroke=\"black\" d=\"M70.4,-186.94C70.52,-179.55 70.56,-171.98 70.52,-164.46\"/>\n<polygon fill=\"black\" stroke=\"black\" points=\"74.02,-164.62 70.42,-154.66 67.02,-164.69 74.02,-164.62\"/>\n</g>\n</g>\n</svg>\n",
      "text/plain": [
       "<graphviz.graphs.Digraph at 0x2a7583d90>"
      ]
     },
     "execution_count": 7,
     "metadata": {},
     "output_type": "execute_result"
    }
   ],
   "execution_count": 7
  },
  {
   "cell_type": "code",
   "metadata": {
    "pycharm": {
     "name": "#%%\n"
    },
    "id": "OO0sC8G8wgBE",
    "colab": {
     "base_uri": "https://localhost:8080/"
    },
    "outputId": "ba96dccf-3092-42ff-bb83-64c35eef4f28",
    "ExecuteTime": {
     "end_time": "2025-01-25T12:40:18.176398Z",
     "start_time": "2025-01-25T12:40:18.083148Z"
    }
   },
   "source": [
    "trial_length = 10\n",
    "zero_input = np.zeros([trial_length, 16]) \n",
    "necker_input1 = zero_input\n",
    "necker_input1[0] = np.random.random((1,16))\n",
    "necker_input2 = zero_input\n",
    "necker_input2[0] = np.random.random((1,16))\n",
    "\n",
    "\n",
    "input_dict = {necker_nodeA: necker_input1,\n",
    "             necker_nodeB: necker_input2,\n",
    "             }\n",
    "\n",
    "necker_loop.run(input_dict, num_trials = trial_length)"
   ],
   "outputs": [
    {
     "data": {
      "text/plain": [
       "array([[-697.32632076, -703.28619024, -629.55845787, -602.69397243,\n",
       "        -732.99407049, -759.6298303 , -665.38323924, -659.33802164,\n",
       "         687.40465145,  714.17831693,  619.82365785,  613.58324897,\n",
       "         744.00684955,  749.77152776,  676.20914902,  649.48256924],\n",
       "       [-697.32632076, -703.28619024, -629.55845787, -602.69397243,\n",
       "        -732.99407049, -759.6298303 , -665.38323924, -659.33802164,\n",
       "         687.40465145,  714.17831693,  619.82365785,  613.58324897,\n",
       "         744.00684955,  749.77152776,  676.20914902,  649.48256924]])"
      ]
     },
     "execution_count": 8,
     "metadata": {},
     "output_type": "execute_result"
    }
   ],
   "execution_count": 8
  },
  {
   "cell_type": "code",
   "metadata": {
    "pycharm": {
     "name": "#%%\n"
    },
    "id": "W1LaY2W3wgBH",
    "colab": {
     "base_uri": "https://localhost:8080/",
     "height": 494
    },
    "outputId": "d16f8bac-ff1f-4023-916d-9c912aea3004",
    "ExecuteTime": {
     "end_time": "2025-01-25T12:40:20.745232Z",
     "start_time": "2025-01-25T12:40:20.077344Z"
    }
   },
   "source": [
    "necker_nodeA.reportOutputPref = False\n",
    "necker_nodeB.reportOutputPref = False\n",
    "\n",
    "for i in range(1,10):\n",
    "  trial_length = 10\n",
    "  zero_input = np.zeros([trial_length, 16])\n",
    "  necker_input1 = zero_input\n",
    "  necker_input1[0] = np.random.random((1,16))\n",
    "  necker_input2 = zero_input\n",
    "  necker_input2[0] = np.random.random((1,16))\n",
    "\n",
    "\n",
    "  input_dict = {necker_nodeA: necker_input1,\n",
    "             necker_nodeB: necker_input2,\n",
    "             }\n",
    "  \n",
    "\n",
    "  necker_loop.run(inputs=input_dict, num_trials = trial_length)\n",
    "\n",
    "  \n",
    "acts = np.squeeze(np.array(necker_loop.results))\n",
    "np.shape(acts)\n",
    "\n",
    "f, axes = plt.subplots(2,1,figsize=(12,8))\n",
    "axes[0].plot(acts[:,0,:]);\n",
    "axes[1].plot(acts[:,1,:]);  "
   ],
   "outputs": [
    {
     "data": {
      "text/plain": [
       "<Figure size 1200x800 with 2 Axes>"
      ],
      "image/png": "[encoded data removed]"
     },
     "metadata": {},
     "output_type": "display_data"
    }
   ],
   "execution_count": 9
  },
  {
   "cell_type": "markdown",
   "metadata": {
    "collapsed": false,
    "id": "HrfifD0IwgBK"
   },
   "source": [
    "### Necker Cube Notes \n",
    "\n",
    "The Necker Cube perception models presented here are very simple and have lots of room for improvement.  You can modify these models to make them better.  For example, over multiple trials the activations run away to very high and very low values.  This is unrealistic -- How might you fix this problem?  "
   ]
  },
  {
   "cell_type": "markdown",
   "metadata": {
    "collapsed": false,
    "id": "9TBMMg3jwgBL"
   },
   "source": [
    "# Practice Problems\n",
    "\n",
    "### Problem 1: Duck/Rabbit Model\n",
    "**Create your own models of bistable perception for the Duck/Rabbit figure.**\n",
    "Requirements:\n",
    "Your models must include the following 6 features.  Ears, Bill, LeftFront, LeftBack, RightFront, RightBack. \n",
    "Your models must initialize with random activations and then dynamically arrive at stable interpretations. \n",
    "\n",
    "1a.  Create a model that always arrives at a coherent interpretation: ALL DUCK [Bill, LeftFront, RightBack] OR ALL RABBIT [Ears, RightFront, LeftBack]. \n",
    "\n",
    "1b.  Create a model that usually arrives at a coherent interpretation, but sometimes mixes up the features.  Run the model at least 100 times, and report percentages of the distinct interpretations.  Explain the difference between the stable and less stable model and what causes the flips when the interpretation changes.  \n",
    "\n",
    "### Problem 2: Duck/Rabbit Model with Spontaneous Reversals\n",
    "\n",
    "When looking at some bistable figures, after a certain amount of time your interpretation spontaneously flips to the opposite of what you previously saw.\n",
    "\n",
    "2a.  Create a model that arrives at a coherent interpretation (All Duck OR All Rabbit), but then gradually fatigues and spontaneously and reliably switches to the opposite interpretation.   \n",
    "\n",
    "\n",
    "### Problem 3: BUILD (B)eneficial (U)nlimmited (I)ndependent (L)earning (D)ocumented. \n",
    "\n",
    "For every homework assignment you have an opportunity to earn credit for related content & skills that you learn going beyond the lab notebooks.  This component is required, but you are in charge.  Sources for this portion of the assignment can include scientific results in published journal articles, notes from your efforts to modify models or build new models, the documentation on PsyNeuLink, Python tutorials, code tips from StackOverflow, or explanations on Wikipedia. \n",
    "\n",
    "This portion of the assignment is intended to let every individual student gain knowledge and skills (and course credit) working from your own current level of understanding.  If you are brand new to coding, you can use this as an opportunity to practice writing code and communicate what you learned.  If you are a proficient programmer, but relatively new to Psychology and/or Neuroscience, you can use this BUILD section to read more on relevant topics and concisely summarize what you learned.  If you are a proficient programmer and familiar with Psychology & Neuroscience, you can go above and beyond the assignment by creating a more sophisticated model or fitting a data set that interests you.    \n",
    "\n",
    "As you are working through the homework problems, simply make notes about interesting things you learned.  The ideal format for these notes is a reference guide for your future self to productively review, **written entirely in your own words**.  \n",
    "\n",
    "Here are some sample notes of the kind that could appear in the BUILD section of your homework.\n",
    "\n",
    "Lab1 notebook mentions the SoftMax function, so I looked it up to learn more.   \n",
    "**Softmax Function** Basically, this function takes a collection of numbers and emphasizes their relative magnitudes--especially making the largest number more pronounced.  This function could be useful if you have a competition and want to highlight the winner, giving it extra weight for a subsequent computation.  The way softmax works is by first treating each number as an exponent.  Assume we start with the numbers [2, 3, 4]. If our base is 2 [the actual softmax function uses the natural logarithm e as its base rather than 2 -- but base 2 is easier for me to double check the math in my head as I go.], then the first step changes the numbers to [2^2, 2^3, 2^4] or [4, 8, 16].  While 2 and 4 started out close together, the difference between 4 and 16 is much larger.  The next step is to add all the numbers together (4+8+16) = 28.  Then we divide all the numbers by the total of 28; [4/28, 9/28 16/28].  Now the sum of all the numbers in our collection is 1, and their relative magnitudes have been exagerated.  Having all the numbers sum to 1 might also be useful if we want to treat them as probabilities. \n",
    "\n",
    "The idea of bistable perception is fascinating, and it made me wonder about other examples.  A Google search brought me to a dynamic example called the **\"Spinning Dancer\"** that can be seen as spinning either clockwise or counterclockwise.  Strangely, this bistable figure is difficult to intentionally see as the opposite interpretation from whatever you saw first.  I got stuck on clockwise and my roommate got stuck on counterclockwise.  I wonder why this is?  Maybe it has to do with fatigue.  It might be harder to fatigue neurons looking at motion.  It would be interesting to design some experiments or come up with a model that could explain what is happening with the spinning dancer and why it is different than the Necker Cube and Duck-Rabbit.       \n",
    "\n",
    "While I was trying to get the first duck/rabbit model to work I realized I didn't really understand a bunch of the code, so I starting reading more about **numpy** functions and the **PsyNeuLink documentation**.  Here are some concepts I learned about that I think might be helpful later in the course (all the following concepts are defined in my own words, not copied/pasted)... \n",
    "[lots of examples here]\n",
    "\n",
    "\n",
    "\n"
   ]
  },
  {
   "cell_type": "markdown",
   "metadata": {
    "collapsed": false,
    "id": "SM5FK8YKwgBM"
   },
   "source": [
    "# How to Format & Submit Homework\n",
    "\n",
    "Your homework should be completed in a new Jupyter notebook that you create on the server (File -> New Notebook -> Python 3) or Google Colab.  Be sure to include the import packages cells for numpy and PsyNeuLink.  Name the notebook with your last name and the assignment: LastName_Lab1_homework.ipynb.  It must be formatted clearly, like the lab notebooks, with text primarily in Markdown cells using headings and subheadings, and code primarily in code cells.  After you have completed everything, save the notebook, then select Kernel -> Restart & Run All.  Double check that your code cells have all executed and produced the intended outputs.  Then choose File -> Print Preview.  This will create a new version of your Jupyter notebook as a static web page formatted in html.  Save this page as a pdf:  Use a Google search \"how to convert a webpage from [browser] to pdf\" [replace \"browser\" with Chrome, Explorer, Safari, Firefox or whatever browser you use, and follow the instructions you find].  Finally, name this document LastName_Lab1_homework.pdf and submit the pdf on Blackboard.  \n",
    "\n",
    "Please note the importance of formatting your homework to appear clear, well-labeled and easy to read.  Make judgment calls about how much output is too much to include (e.g. don't include output longer than 1 page from a single executed cell).  There are ways to adjust the code to only display what is necessary.  Use headings to highlight the different questions.  Use the internet to help you, e.g. Google search: How to get italics in Markdown.  \n",
    "\n",
    "\n",
    "# Homework Grading\n",
    "\n",
    "Each assignment is graded out of 10 points.  \n",
    "**3 Completeness**: Did you answer all the questions thoughtfully?  If you are unable to arrive at a satisfactory answer, you should still include all your attempts with annotation explaining what you did and what problems you encountered.   \n",
    "**3 Clarity**: Your homework should be well organized and easy to read.  Use the Markdown formatting options for headings and subheadings.  It is important to communicate effectively.         \n",
    "**3 Creativity**: BUILD section.  Problem solving in real life is typically open-ended and the solutions are not known by anyone in advance (otherwise you would just look them up.)  We want you to creatively engage with the course material, apply the concepts you learn to new topics, and to build your own new models.      \n",
    "**1 Collaboration**: You must attend lab and participate.  Your homework should include acknowledgments indicating who you collaborated with on the assignment.   \n",
    "\n",
    "\n",
    "For the completeness, clarity, and creativity, the rubric is approximately as follows:\n",
    "(1) Sub-par, (2)Respectable, (3)Impressive.  \n",
    "\n",
    "\n",
    "\n",
    "# Collaboration Policy & Individual Work\n",
    "\n",
    "All prose in your homework submissions must be written by you alone, unless the assignment explicitly calls for a group submission.  \n",
    "\n",
    "You are strongly encouraged to collaborate with classmates on the homework assignments, and you are allowed to share code as you collaborate.  However, you should never submit code that you do not understand.  If a classmate, tutor, or lab instructor helps you with writing code, it is up to you to understand and annotate that code (using #comments or Markdown cells) in your own words explaining how the code works. Note that you receive credit for good annotations as part of the open-ended BUILD component of each lab.  \n",
    "\n",
    "When you collaborate, always include an author note at the start of the assignment that acknowledges your collaborators.  \n"
   ]
  },
  {
   "cell_type": "code",
   "metadata": {
    "pycharm": {
     "name": "#%%\n"
    },
    "id": "QXjvX0h_wgBM"
   },
   "source": [
    ""
   ],
   "outputs": [],
   "execution_count": null
  }
 ]
}
